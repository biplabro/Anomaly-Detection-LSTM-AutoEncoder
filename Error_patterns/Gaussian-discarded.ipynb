{
 "cells": [
  {
   "cell_type": "code",
   "execution_count": 22,
   "metadata": {
    "scrolled": true
   },
   "outputs": [
    {
     "data": {
      "image/png": "[encoded data removed]",
      "text/plain": [
       "<Figure size 432x288 with 1 Axes>"
      ]
     },
     "metadata": {
      "needs_background": "light"
     },
     "output_type": "display_data"
    }
   ],
   "source": [
    "#references: \n",
    "# https://www.sharpsightlabs.com/blog/numpy-random-normal/\n",
    "# https://www.geeksforgeeks.org/normal-distribution-plot-using-numpy-and-matplotlib/\n",
    "# https://www.w3schools.com/python/matplotlib_histograms.asp\n",
    "# https://www.analyticsvidhya.com/blog/2021/12/what-does-numpy-random-seed-do/\n",
    "# https://matplotlib.org/stable/api/_as_gen/matplotlib.pyplot.hist.html\n",
    "\n",
    "# importing numpy as np\n",
    "import numpy as np\n",
    " \n",
    "# importing pyplot as plt\n",
    "import matplotlib.pyplot as plt\n",
    "\n",
    "# Generate same set of random numbers, fixed seed\n",
    "np.random.seed(6)\n",
    "\n",
    "# position (mean)\n",
    "pos = 100\n",
    "\n",
    "# scale (Std. Deviation) ranges between (pos +- scale) 68% of all values, 1 sigma\n",
    "scale = 5\n",
    " \n",
    "# size (number of data points)\n",
    "size = 200\n",
    "\n",
    "# creating a normal distribution data\n",
    "values = np.random.normal(pos, scale, size)\n",
    "\n",
    "# plotting histograph\n",
    "plt.hist(values,100)\n",
    " \n",
    "# showing the graph\n",
    "plt.show()"
   ]
  },
  {
   "cell_type": "code",
   "execution_count": 23,
   "metadata": {},
   "outputs": [
    {
     "data": {
      "text/plain": [
       "array([ 98.44108163, 103.64501962, 101.08910394,  95.50454102,\n",
       "        87.56609674, 104.56625761, 105.63531863,  92.42953386,\n",
       "       108.19645541,  97.85053198, 113.15640279, 103.00911125,\n",
       "        98.32059193, 106.18868922, 100.55564083, 100.64575624,\n",
       "       100.38063806,  99.22435921, 103.17112672, 104.05327502,\n",
       "       101.77404304, 109.06295157,  93.21762098,  97.68184017,\n",
       "       104.12326922,  94.1178426 , 107.8224483 , 103.56352547,\n",
       "        99.09496701, 102.67099763,  97.0669352 ,  92.59073366,\n",
       "       104.28623809, 104.71549494, 100.57220717,  99.89021658,\n",
       "        89.36427727,  95.82796266,  97.67245845, 101.16855295,\n",
       "       106.92517613,  97.40186457,  96.09923931, 104.77804795,\n",
       "        99.36631811,  93.15693588, 106.09240323,  95.71249281,\n",
       "        97.19264562,  94.8324005 , 101.79385478, 105.36840671,\n",
       "        98.12247638, 101.98183787,  97.64276862, 111.68303906,\n",
       "       107.51392766,  97.02270141, 102.64170528, 104.69912399,\n",
       "       102.13142693,  96.20921485,  99.18816512, 103.6340498 ,\n",
       "       102.22041484,  95.7158868 , 102.23464212,  94.92676007,\n",
       "        89.33838302, 100.86931534, 104.75600628, 102.20948694,\n",
       "       107.34508697, 108.74758175, 101.76765311,  96.78331354,\n",
       "        99.76381473,  92.75480107,  99.81905117,  99.54576507,\n",
       "       100.8814517 , 105.47310207,  89.36762705, 103.75724416,\n",
       "        97.29696478, 103.96611178, 100.86826674,  94.82282857,\n",
       "       104.37134195,  96.30213961, 102.61472677,  97.04061759,\n",
       "        97.61256447, 100.56264838, 109.52371161, 103.47076573,\n",
       "        99.90209331, 108.31421426, 100.15304214,  98.51250397,\n",
       "        95.15931182, 100.83533365, 100.58300983,  96.58871338,\n",
       "        90.42989425,  99.30048843, 100.57462293,  98.02497679,\n",
       "        95.23341868,  94.63586322,  97.57777197, 106.81468928,\n",
       "       100.76343885,  91.83689701, 103.21650723,  97.76052476,\n",
       "       111.69517114,  98.43338568,  99.70191218, 100.97084166,\n",
       "       101.43439649, 100.25929846, 100.25775472,  98.90206373,\n",
       "        97.23371751,  98.13044565,  94.07791571,  97.35913411,\n",
       "        96.68233056,  97.83131758,  97.77377963,  99.29020387,\n",
       "       102.26200471,  98.45268717, 100.45398482, 101.35133295,\n",
       "        98.42754087,  99.27512212, 101.77685282,  91.50540206,\n",
       "       103.28628785,  97.63812185,  81.54882171, 102.66920792,\n",
       "        93.99324303, 104.45826367,  95.07636035,  98.94686513,\n",
       "       103.33078962,  96.01875876,  95.02290088,  99.4293642 ,\n",
       "       106.85090762, 105.4982667 , 107.00290728, 101.92354022,\n",
       "       102.44142057, 105.35154865, 102.84276701,  95.97517214,\n",
       "       103.91315193,  97.53290729,  95.90057019, 100.69356844,\n",
       "        99.60137176, 104.36332744, 101.39258401,  97.86229934,\n",
       "        99.69953697,  97.15755854,  98.38170515, 106.33051686,\n",
       "       102.06781672,  98.13311605,  98.39916853,  97.03402082,\n",
       "        99.06171273,  92.56803952, 103.05947208,  98.65077968,\n",
       "       103.46246553, 104.80666663, 101.57542819,  94.92667248,\n",
       "        93.88712142, 104.11406298, 104.18237425,  93.10952811,\n",
       "        95.27285597, 105.45643236, 100.37048866, 110.15380175,\n",
       "       102.58447353, 104.64428682,  99.57914494,  97.75717151,\n",
       "        92.75036036,  86.46534605, 105.57846889, 103.97051629])"
      ]
     },
     "execution_count": 23,
     "metadata": {},
     "output_type": "execute_result"
    }
   ],
   "source": [
    "# check the array values\n",
    "values"
   ]
  },
  {
   "cell_type": "code",
   "execution_count": 24,
   "metadata": {},
   "outputs": [],
   "source": [
    "# This approach is discarded since we need to add more additional steps to put the obtained values in the following order\n",
    "# Ascending > Mean > Descending , in order to get a bell curve\n",
    "# instead we can generate different wave forms like sine, square, sawtooth etc. and feed it directly to the anomaly dataset."
   ]
  },
  {
   "cell_type": "code",
   "execution_count": null,
   "metadata": {},
   "outputs": [],
   "source": []
  }
 ],
 "metadata": {
  "kernelspec": {
   "display_name": "Python 3",
   "language": "python",
   "name": "python3"
  },
  "language_info": {
   "codemirror_mode": {
    "name": "ipython",
    "version": 3
   },
   "file_extension": ".py",
   "mimetype": "text/x-python",
   "name": "python",
   "nbconvert_exporter": "python",
   "pygments_lexer": "ipython3",
   "version": "3.7.6"
  }
 },
 "nbformat": 4,
 "nbformat_minor": 4
}
