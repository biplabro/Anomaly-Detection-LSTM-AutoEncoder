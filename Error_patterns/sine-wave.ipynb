{
 "cells": [
  {
   "cell_type": "code",
   "execution_count": 43,
   "metadata": {},
   "outputs": [],
   "source": [
    "# generate a sine wave & obtain the timeseries values\n",
    "# y(t) = A sin(ωt + Φ)\n",
    "\n",
    "# references\n",
    "# https://www.youtube.com/watch?v=2RoIG8DEt_8\n",
    "# https://pythontic.com/visualization/charts/sinewave\n",
    "# https://www.youtube.com/watch?v=2g9GSS6g4IM\n"
   ]
  },
  {
   "cell_type": "code",
   "execution_count": 44,
   "metadata": {},
   "outputs": [],
   "source": [
    "import numpy as np\n",
    "import matplotlib.pyplot as plt"
   ]
  },
  {
   "cell_type": "code",
   "execution_count": 45,
   "metadata": {},
   "outputs": [],
   "source": [
    "# amplitude A\n",
    "A = 10\n",
    "\n",
    "# angular frequency ω = 2.Pi.F\n",
    "# need to fit 200 data points, in 100 seconds, half a sine period\n",
    "F = 0.005\n",
    "\n",
    "# time t\n",
    "T = 0\n",
    "\n",
    "# phase Φ\n",
    "phi = 0\n",
    "\n",
    "# sampling rate (number of samples/data points per second)\n",
    "sr = 100\n"
   ]
  },
  {
   "cell_type": "code",
   "execution_count": 46,
   "metadata": {},
   "outputs": [],
   "source": [
    "# Generate the x and y axis data\n",
    "\n",
    "time = np.arange(0,100,0.5) # (start, end, interval)\n",
    "\n",
    "y = A*np.sin(2*np.pi*F*time + phi)"
   ]
  },
  {
   "cell_type": "code",
   "execution_count": 48,
   "metadata": {},
   "outputs": [
    {
     "data": {
      "image/png": "[encoded data removed]",
      "text/plain": [
       "<Figure size 432x288 with 1 Axes>"
      ]
     },
     "metadata": {
      "needs_background": "light"
     },
     "output_type": "display_data"
    }
   ],
   "source": [
    "# plot the graph\n",
    "\n",
    "# plot window\n",
    "# plt.figure(figsize=(10,4))\n",
    "\n",
    "# input parameters here\n",
    "plt.plot(time,y) \n",
    "plt.title(\"Sine Wave\")\n",
    "plt.xlabel(\"Time(s)\")\n",
    "plt.ylabel(\"Amplitude\")\n",
    "plt.show()"
   ]
  },
  {
   "cell_type": "code",
   "execution_count": 42,
   "metadata": {},
   "outputs": [
    {
     "data": {
      "text/plain": [
       "array([ 0.        ,  0.15707317,  0.31410759,  0.47106451,  0.6279052 ,\n",
       "        0.78459096,  0.94108313,  1.09734311,  1.25333234,  1.40901232,\n",
       "        1.56434465,  1.719291  ,  1.87381315,  2.02787295,  2.18143241,\n",
       "        2.33445364,  2.48689887,  2.6387305 ,  2.78991106,  2.94040325,\n",
       "        3.09016994,  3.23917418,  3.3873792 ,  3.53474844,  3.68124553,\n",
       "        3.82683432,  3.97147891,  4.11514359,  4.25779292,  4.3993917 ,\n",
       "        4.539905  ,  4.67929814,  4.81753674,  4.95458668,  5.09041416,\n",
       "        5.22498565,  5.35826795,  5.49022818,  5.62083378,  5.75005252,\n",
       "        5.87785252,  6.00420225,  6.12907054,  6.25242656,  6.3742399 ,\n",
       "        6.49448048,  6.61311865,  6.73012514,  6.84547106,  6.95912797,\n",
       "        7.07106781,  7.18126298,  7.28968627,  7.39631095,  7.5011107 ,\n",
       "        7.60405966,  7.70513243,  7.80430407,  7.90155012,  7.99684658,\n",
       "        8.09016994,  8.18149717,  8.27080574,  8.35807361,  8.44327926,\n",
       "        8.52640164,  8.60742027,  8.68631514,  8.7630668 ,  8.8376563 ,\n",
       "        8.91006524,  8.98027576,  9.04827052,  9.11403277,  9.17754626,\n",
       "        9.23879533,  9.29776486,  9.35444031,  9.40880769,  9.46085359,\n",
       "        9.51056516,  9.55793015,  9.60293686,  9.64557418,  9.68583161,\n",
       "        9.7236992 ,  9.75916762,  9.79222811,  9.82287251,  9.85109326,\n",
       "        9.87688341,  9.90023658,  9.92114701,  9.93960955,  9.95561965,\n",
       "        9.96917334,  9.98026728,  9.98889875,  9.9950656 ,  9.99876632,\n",
       "       10.        ,  9.99876632,  9.9950656 ,  9.98889875,  9.98026728,\n",
       "        9.96917334,  9.95561965,  9.93960955,  9.92114701,  9.90023658,\n",
       "        9.87688341,  9.85109326,  9.82287251,  9.79222811,  9.75916762,\n",
       "        9.7236992 ,  9.68583161,  9.64557418,  9.60293686,  9.55793015,\n",
       "        9.51056516,  9.46085359,  9.40880769,  9.35444031,  9.29776486,\n",
       "        9.23879533,  9.17754626,  9.11403277,  9.04827052,  8.98027576,\n",
       "        8.91006524,  8.8376563 ,  8.7630668 ,  8.68631514,  8.60742027,\n",
       "        8.52640164,  8.44327926,  8.35807361,  8.27080574,  8.18149717,\n",
       "        8.09016994,  7.99684658,  7.90155012,  7.80430407,  7.70513243,\n",
       "        7.60405966,  7.5011107 ,  7.39631095,  7.28968627,  7.18126298,\n",
       "        7.07106781,  6.95912797,  6.84547106,  6.73012514,  6.61311865,\n",
       "        6.49448048,  6.3742399 ,  6.25242656,  6.12907054,  6.00420225,\n",
       "        5.87785252,  5.75005252,  5.62083378,  5.49022818,  5.35826795,\n",
       "        5.22498565,  5.09041416,  4.95458668,  4.81753674,  4.67929814,\n",
       "        4.539905  ,  4.3993917 ,  4.25779292,  4.11514359,  3.97147891,\n",
       "        3.82683432,  3.68124553,  3.53474844,  3.3873792 ,  3.23917418,\n",
       "        3.09016994,  2.94040325,  2.78991106,  2.6387305 ,  2.48689887,\n",
       "        2.33445364,  2.18143241,  2.02787295,  1.87381315,  1.719291  ,\n",
       "        1.56434465,  1.40901232,  1.25333234,  1.09734311,  0.94108313,\n",
       "        0.78459096,  0.6279052 ,  0.47106451,  0.31410759,  0.15707317])"
      ]
     },
     "execution_count": 42,
     "metadata": {},
     "output_type": "execute_result"
    }
   ],
   "source": [
    "y"
   ]
  },
  {
   "cell_type": "code",
   "execution_count": 49,
   "metadata": {},
   "outputs": [],
   "source": [
    "# add an offset of 70\n",
    "y=y+70"
   ]
  },
  {
   "cell_type": "code",
   "execution_count": 50,
   "metadata": {},
   "outputs": [
    {
     "data": {
      "text/plain": [
       "array([70.        , 70.15707317, 70.31410759, 70.47106451, 70.6279052 ,\n",
       "       70.78459096, 70.94108313, 71.09734311, 71.25333234, 71.40901232,\n",
       "       71.56434465, 71.719291  , 71.87381315, 72.02787295, 72.18143241,\n",
       "       72.33445364, 72.48689887, 72.6387305 , 72.78991106, 72.94040325,\n",
       "       73.09016994, 73.23917418, 73.3873792 , 73.53474844, 73.68124553,\n",
       "       73.82683432, 73.97147891, 74.11514359, 74.25779292, 74.3993917 ,\n",
       "       74.539905  , 74.67929814, 74.81753674, 74.95458668, 75.09041416,\n",
       "       75.22498565, 75.35826795, 75.49022818, 75.62083378, 75.75005252,\n",
       "       75.87785252, 76.00420225, 76.12907054, 76.25242656, 76.3742399 ,\n",
       "       76.49448048, 76.61311865, 76.73012514, 76.84547106, 76.95912797,\n",
       "       77.07106781, 77.18126298, 77.28968627, 77.39631095, 77.5011107 ,\n",
       "       77.60405966, 77.70513243, 77.80430407, 77.90155012, 77.99684658,\n",
       "       78.09016994, 78.18149717, 78.27080574, 78.35807361, 78.44327926,\n",
       "       78.52640164, 78.60742027, 78.68631514, 78.7630668 , 78.8376563 ,\n",
       "       78.91006524, 78.98027576, 79.04827052, 79.11403277, 79.17754626,\n",
       "       79.23879533, 79.29776486, 79.35444031, 79.40880769, 79.46085359,\n",
       "       79.51056516, 79.55793015, 79.60293686, 79.64557418, 79.68583161,\n",
       "       79.7236992 , 79.75916762, 79.79222811, 79.82287251, 79.85109326,\n",
       "       79.87688341, 79.90023658, 79.92114701, 79.93960955, 79.95561965,\n",
       "       79.96917334, 79.98026728, 79.98889875, 79.9950656 , 79.99876632,\n",
       "       80.        , 79.99876632, 79.9950656 , 79.98889875, 79.98026728,\n",
       "       79.96917334, 79.95561965, 79.93960955, 79.92114701, 79.90023658,\n",
       "       79.87688341, 79.85109326, 79.82287251, 79.79222811, 79.75916762,\n",
       "       79.7236992 , 79.68583161, 79.64557418, 79.60293686, 79.55793015,\n",
       "       79.51056516, 79.46085359, 79.40880769, 79.35444031, 79.29776486,\n",
       "       79.23879533, 79.17754626, 79.11403277, 79.04827052, 78.98027576,\n",
       "       78.91006524, 78.8376563 , 78.7630668 , 78.68631514, 78.60742027,\n",
       "       78.52640164, 78.44327926, 78.35807361, 78.27080574, 78.18149717,\n",
       "       78.09016994, 77.99684658, 77.90155012, 77.80430407, 77.70513243,\n",
       "       77.60405966, 77.5011107 , 77.39631095, 77.28968627, 77.18126298,\n",
       "       77.07106781, 76.95912797, 76.84547106, 76.73012514, 76.61311865,\n",
       "       76.49448048, 76.3742399 , 76.25242656, 76.12907054, 76.00420225,\n",
       "       75.87785252, 75.75005252, 75.62083378, 75.49022818, 75.35826795,\n",
       "       75.22498565, 75.09041416, 74.95458668, 74.81753674, 74.67929814,\n",
       "       74.539905  , 74.3993917 , 74.25779292, 74.11514359, 73.97147891,\n",
       "       73.82683432, 73.68124553, 73.53474844, 73.3873792 , 73.23917418,\n",
       "       73.09016994, 72.94040325, 72.78991106, 72.6387305 , 72.48689887,\n",
       "       72.33445364, 72.18143241, 72.02787295, 71.87381315, 71.719291  ,\n",
       "       71.56434465, 71.40901232, 71.25333234, 71.09734311, 70.94108313,\n",
       "       70.78459096, 70.6279052 , 70.47106451, 70.31410759, 70.15707317])"
      ]
     },
     "execution_count": 50,
     "metadata": {},
     "output_type": "execute_result"
    }
   ],
   "source": [
    "y"
   ]
  },
  {
   "cell_type": "code",
   "execution_count": null,
   "metadata": {},
   "outputs": [],
   "source": []
  }
 ],
 "metadata": {
  "kernelspec": {
   "display_name": "Python 3",
   "language": "python",
   "name": "python3"
  },
  "language_info": {
   "codemirror_mode": {
    "name": "ipython",
    "version": 3
   },
   "file_extension": ".py",
   "mimetype": "text/x-python",
   "name": "python",
   "nbconvert_exporter": "python",
   "pygments_lexer": "ipython3",
   "version": "3.7.6"
  }
 },
 "nbformat": 4,
 "nbformat_minor": 4
}
