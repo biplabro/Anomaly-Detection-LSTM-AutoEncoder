{
 "cells": [
  {
   "cell_type": "code",
   "execution_count": null,
   "metadata": {},
   "outputs": [],
   "source": [
    "# injecting error as a ramp curve\n",
    "# two parameters to be experimented with, as errors\n",
    "\n",
    "# Delta = width of the error (time, x-axis)\n",
    "# delta = 200 datapoints\n",
    "\n",
    "# H = hight of the error (amplitude, y-axis)\n",
    "# a = 10 units"
   ]
  }
 ],
 "metadata": {
  "kernelspec": {
   "display_name": "Python 3",
   "language": "python",
   "name": "python3"
  },
  "language_info": {
   "codemirror_mode": {
    "name": "ipython",
    "version": 3
   },
   "file_extension": ".py",
   "mimetype": "text/x-python",
   "name": "python",
   "nbconvert_exporter": "python",
   "pygments_lexer": "ipython3",
   "version": "3.7.6"
  }
 },
 "nbformat": 4,
 "nbformat_minor": 4
}
