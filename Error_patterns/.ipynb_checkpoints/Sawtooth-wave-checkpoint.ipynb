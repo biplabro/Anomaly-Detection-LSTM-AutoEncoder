{
 "cells": [
  {
   "cell_type": "code",
   "execution_count": 136,
   "metadata": {},
   "outputs": [],
   "source": [
    "# generate a sine wave & obtain the timeseries values\n",
    "# generate both rising & falling edge signal"
   ]
  },
  {
   "cell_type": "code",
   "execution_count": 137,
   "metadata": {},
   "outputs": [],
   "source": [
    "# importing libraries first\n",
    "import numpy as np\n",
    "from scipy import signal  # import the sawtooh library\n",
    "import matplotlib.pyplot as plt"
   ]
  },
  {
   "cell_type": "code",
   "execution_count": 138,
   "metadata": {},
   "outputs": [],
   "source": [
    "# parameters\n",
    "\n",
    "# amplitude\n",
    "A = 10\n",
    "\n",
    "# frequency\n",
    "# F = (1/T); period is 200 seconds; we need half of the cycle, thus range 100 is selected np.arange(0,100,0.5)\n",
    "# F= 1/200 = 0.005\n",
    "F = 0.005"
   ]
  },
  {
   "cell_type": "code",
   "execution_count": 139,
   "metadata": {},
   "outputs": [],
   "source": [
    "# time & signal for plotting\n",
    "time = np.arange(100,200,0.5) # (start, end, interval)\n",
    "\n",
    "# format signal.sawtooth(t, width=1) \n",
    "# width: 1 = rising edge, 0 = falling edge\n",
    "sigR = A*signal.sawtooth((2*np.pi*F*time),1)"
   ]
  },
  {
   "cell_type": "code",
   "execution_count": 140,
   "metadata": {},
   "outputs": [
    {
     "data": {
      "image/png": "[encoded data removed]",
      "text/plain": [
       "<Figure size 432x288 with 1 Axes>"
      ]
     },
     "metadata": {
      "needs_background": "light"
     },
     "output_type": "display_data"
    }
   ],
   "source": [
    "# plot the graph (rising edge)\n",
    "\n",
    "# input parameters here\n",
    "plt.plot(time,sigR) \n",
    "plt.title(\"Sawtooth Wave\")\n",
    "plt.xlabel(\"Time(s)\")\n",
    "plt.ylabel(\"Amplitude\")\n",
    "plt.show()"
   ]
  },
  {
   "cell_type": "code",
   "execution_count": 141,
   "metadata": {},
   "outputs": [
    {
     "data": {
      "text/plain": [
       "array([2.22044605e-15, 5.00000000e-02, 1.00000000e-01, 1.50000000e-01,\n",
       "       2.00000000e-01, 2.50000000e-01, 3.00000000e-01, 3.50000000e-01,\n",
       "       4.00000000e-01, 4.50000000e-01, 5.00000000e-01, 5.50000000e-01,\n",
       "       6.00000000e-01, 6.50000000e-01, 7.00000000e-01, 7.50000000e-01,\n",
       "       8.00000000e-01, 8.50000000e-01, 9.00000000e-01, 9.50000000e-01,\n",
       "       1.00000000e+00, 1.05000000e+00, 1.10000000e+00, 1.15000000e+00,\n",
       "       1.20000000e+00, 1.25000000e+00, 1.30000000e+00, 1.35000000e+00,\n",
       "       1.40000000e+00, 1.45000000e+00, 1.50000000e+00, 1.55000000e+00,\n",
       "       1.60000000e+00, 1.65000000e+00, 1.70000000e+00, 1.75000000e+00,\n",
       "       1.80000000e+00, 1.85000000e+00, 1.90000000e+00, 1.95000000e+00,\n",
       "       2.00000000e+00, 2.05000000e+00, 2.10000000e+00, 2.15000000e+00,\n",
       "       2.20000000e+00, 2.25000000e+00, 2.30000000e+00, 2.35000000e+00,\n",
       "       2.40000000e+00, 2.45000000e+00, 2.50000000e+00, 2.55000000e+00,\n",
       "       2.60000000e+00, 2.65000000e+00, 2.70000000e+00, 2.75000000e+00,\n",
       "       2.80000000e+00, 2.85000000e+00, 2.90000000e+00, 2.95000000e+00,\n",
       "       3.00000000e+00, 3.05000000e+00, 3.10000000e+00, 3.15000000e+00,\n",
       "       3.20000000e+00, 3.25000000e+00, 3.30000000e+00, 3.35000000e+00,\n",
       "       3.40000000e+00, 3.45000000e+00, 3.50000000e+00, 3.55000000e+00,\n",
       "       3.60000000e+00, 3.65000000e+00, 3.70000000e+00, 3.75000000e+00,\n",
       "       3.80000000e+00, 3.85000000e+00, 3.90000000e+00, 3.95000000e+00,\n",
       "       4.00000000e+00, 4.05000000e+00, 4.10000000e+00, 4.15000000e+00,\n",
       "       4.20000000e+00, 4.25000000e+00, 4.30000000e+00, 4.35000000e+00,\n",
       "       4.40000000e+00, 4.45000000e+00, 4.50000000e+00, 4.55000000e+00,\n",
       "       4.60000000e+00, 4.65000000e+00, 4.70000000e+00, 4.75000000e+00,\n",
       "       4.80000000e+00, 4.85000000e+00, 4.90000000e+00, 4.95000000e+00,\n",
       "       5.00000000e+00, 5.05000000e+00, 5.10000000e+00, 5.15000000e+00,\n",
       "       5.20000000e+00, 5.25000000e+00, 5.30000000e+00, 5.35000000e+00,\n",
       "       5.40000000e+00, 5.45000000e+00, 5.50000000e+00, 5.55000000e+00,\n",
       "       5.60000000e+00, 5.65000000e+00, 5.70000000e+00, 5.75000000e+00,\n",
       "       5.80000000e+00, 5.85000000e+00, 5.90000000e+00, 5.95000000e+00,\n",
       "       6.00000000e+00, 6.05000000e+00, 6.10000000e+00, 6.15000000e+00,\n",
       "       6.20000000e+00, 6.25000000e+00, 6.30000000e+00, 6.35000000e+00,\n",
       "       6.40000000e+00, 6.45000000e+00, 6.50000000e+00, 6.55000000e+00,\n",
       "       6.60000000e+00, 6.65000000e+00, 6.70000000e+00, 6.75000000e+00,\n",
       "       6.80000000e+00, 6.85000000e+00, 6.90000000e+00, 6.95000000e+00,\n",
       "       7.00000000e+00, 7.05000000e+00, 7.10000000e+00, 7.15000000e+00,\n",
       "       7.20000000e+00, 7.25000000e+00, 7.30000000e+00, 7.35000000e+00,\n",
       "       7.40000000e+00, 7.45000000e+00, 7.50000000e+00, 7.55000000e+00,\n",
       "       7.60000000e+00, 7.65000000e+00, 7.70000000e+00, 7.75000000e+00,\n",
       "       7.80000000e+00, 7.85000000e+00, 7.90000000e+00, 7.95000000e+00,\n",
       "       8.00000000e+00, 8.05000000e+00, 8.10000000e+00, 8.15000000e+00,\n",
       "       8.20000000e+00, 8.25000000e+00, 8.30000000e+00, 8.35000000e+00,\n",
       "       8.40000000e+00, 8.45000000e+00, 8.50000000e+00, 8.55000000e+00,\n",
       "       8.60000000e+00, 8.65000000e+00, 8.70000000e+00, 8.75000000e+00,\n",
       "       8.80000000e+00, 8.85000000e+00, 8.90000000e+00, 8.95000000e+00,\n",
       "       9.00000000e+00, 9.05000000e+00, 9.10000000e+00, 9.15000000e+00,\n",
       "       9.20000000e+00, 9.25000000e+00, 9.30000000e+00, 9.35000000e+00,\n",
       "       9.40000000e+00, 9.45000000e+00, 9.50000000e+00, 9.55000000e+00,\n",
       "       9.60000000e+00, 9.65000000e+00, 9.70000000e+00, 9.75000000e+00,\n",
       "       9.80000000e+00, 9.85000000e+00, 9.90000000e+00, 9.95000000e+00])"
      ]
     },
     "execution_count": 141,
     "metadata": {},
     "output_type": "execute_result"
    }
   ],
   "source": [
    "sigR"
   ]
  },
  {
   "cell_type": "code",
   "execution_count": 142,
   "metadata": {},
   "outputs": [],
   "source": [
    "# add an offset of 70\n",
    "sigR=sigR+70"
   ]
  },
  {
   "cell_type": "code",
   "execution_count": 143,
   "metadata": {},
   "outputs": [
    {
     "data": {
      "text/plain": [
       "array([70.  , 70.05, 70.1 , 70.15, 70.2 , 70.25, 70.3 , 70.35, 70.4 ,\n",
       "       70.45, 70.5 , 70.55, 70.6 , 70.65, 70.7 , 70.75, 70.8 , 70.85,\n",
       "       70.9 , 70.95, 71.  , 71.05, 71.1 , 71.15, 71.2 , 71.25, 71.3 ,\n",
       "       71.35, 71.4 , 71.45, 71.5 , 71.55, 71.6 , 71.65, 71.7 , 71.75,\n",
       "       71.8 , 71.85, 71.9 , 71.95, 72.  , 72.05, 72.1 , 72.15, 72.2 ,\n",
       "       72.25, 72.3 , 72.35, 72.4 , 72.45, 72.5 , 72.55, 72.6 , 72.65,\n",
       "       72.7 , 72.75, 72.8 , 72.85, 72.9 , 72.95, 73.  , 73.05, 73.1 ,\n",
       "       73.15, 73.2 , 73.25, 73.3 , 73.35, 73.4 , 73.45, 73.5 , 73.55,\n",
       "       73.6 , 73.65, 73.7 , 73.75, 73.8 , 73.85, 73.9 , 73.95, 74.  ,\n",
       "       74.05, 74.1 , 74.15, 74.2 , 74.25, 74.3 , 74.35, 74.4 , 74.45,\n",
       "       74.5 , 74.55, 74.6 , 74.65, 74.7 , 74.75, 74.8 , 74.85, 74.9 ,\n",
       "       74.95, 75.  , 75.05, 75.1 , 75.15, 75.2 , 75.25, 75.3 , 75.35,\n",
       "       75.4 , 75.45, 75.5 , 75.55, 75.6 , 75.65, 75.7 , 75.75, 75.8 ,\n",
       "       75.85, 75.9 , 75.95, 76.  , 76.05, 76.1 , 76.15, 76.2 , 76.25,\n",
       "       76.3 , 76.35, 76.4 , 76.45, 76.5 , 76.55, 76.6 , 76.65, 76.7 ,\n",
       "       76.75, 76.8 , 76.85, 76.9 , 76.95, 77.  , 77.05, 77.1 , 77.15,\n",
       "       77.2 , 77.25, 77.3 , 77.35, 77.4 , 77.45, 77.5 , 77.55, 77.6 ,\n",
       "       77.65, 77.7 , 77.75, 77.8 , 77.85, 77.9 , 77.95, 78.  , 78.05,\n",
       "       78.1 , 78.15, 78.2 , 78.25, 78.3 , 78.35, 78.4 , 78.45, 78.5 ,\n",
       "       78.55, 78.6 , 78.65, 78.7 , 78.75, 78.8 , 78.85, 78.9 , 78.95,\n",
       "       79.  , 79.05, 79.1 , 79.15, 79.2 , 79.25, 79.3 , 79.35, 79.4 ,\n",
       "       79.45, 79.5 , 79.55, 79.6 , 79.65, 79.7 , 79.75, 79.8 , 79.85,\n",
       "       79.9 , 79.95])"
      ]
     },
     "execution_count": 143,
     "metadata": {},
     "output_type": "execute_result"
    }
   ],
   "source": [
    "sigR"
   ]
  },
  {
   "cell_type": "code",
   "execution_count": 144,
   "metadata": {},
   "outputs": [
    {
     "data": {
      "image/png": "[encoded data removed]",
      "text/plain": [
       "<Figure size 432x288 with 1 Axes>"
      ]
     },
     "metadata": {
      "needs_background": "light"
     },
     "output_type": "display_data"
    }
   ],
   "source": [
    "# plot upscaled data (rising edge)\n",
    "# input parameters here\n",
    "plt.plot(time,sigR) \n",
    "plt.title(\"Sawtooth Wave\")\n",
    "plt.xlabel(\"Time(s)\")\n",
    "plt.ylabel(\"Amplitude\")\n",
    "plt.show()"
   ]
  },
  {
   "cell_type": "code",
   "execution_count": 145,
   "metadata": {},
   "outputs": [],
   "source": [
    "# time & signal for plotting\n",
    "time = np.arange(100,200,0.5) # (start, end, interval)\n",
    "\n",
    "# format signal.sawtooth(t, width=1) \n",
    "# width: 1 = rising edge, 0 = falling edge\n",
    "sigF = A*signal.sawtooth((2*np.pi*F*time),0)"
   ]
  },
  {
   "cell_type": "code",
   "execution_count": 146,
   "metadata": {},
   "outputs": [
    {
     "data": {
      "image/png": "[encoded data removed]",
      "text/plain": [
       "<Figure size 432x288 with 1 Axes>"
      ]
     },
     "metadata": {
      "needs_background": "light"
     },
     "output_type": "display_data"
    }
   ],
   "source": [
    "# plot the graph (falling edge)\n",
    "\n",
    "# input parameters here\n",
    "plt.plot(time,sigF) \n",
    "plt.title(\"Sawtooth Wave\")\n",
    "plt.xlabel(\"Time(s)\")\n",
    "plt.ylabel(\"Amplitude\")\n",
    "plt.show()"
   ]
  },
  {
   "cell_type": "code",
   "execution_count": 147,
   "metadata": {},
   "outputs": [
    {
     "data": {
      "text/plain": [
       "array([-1.41357986e-15, -5.00000000e-02, -1.00000000e-01, -1.50000000e-01,\n",
       "       -2.00000000e-01, -2.50000000e-01, -3.00000000e-01, -3.50000000e-01,\n",
       "       -4.00000000e-01, -4.50000000e-01, -5.00000000e-01, -5.50000000e-01,\n",
       "       -6.00000000e-01, -6.50000000e-01, -7.00000000e-01, -7.50000000e-01,\n",
       "       -8.00000000e-01, -8.50000000e-01, -9.00000000e-01, -9.50000000e-01,\n",
       "       -1.00000000e+00, -1.05000000e+00, -1.10000000e+00, -1.15000000e+00,\n",
       "       -1.20000000e+00, -1.25000000e+00, -1.30000000e+00, -1.35000000e+00,\n",
       "       -1.40000000e+00, -1.45000000e+00, -1.50000000e+00, -1.55000000e+00,\n",
       "       -1.60000000e+00, -1.65000000e+00, -1.70000000e+00, -1.75000000e+00,\n",
       "       -1.80000000e+00, -1.85000000e+00, -1.90000000e+00, -1.95000000e+00,\n",
       "       -2.00000000e+00, -2.05000000e+00, -2.10000000e+00, -2.15000000e+00,\n",
       "       -2.20000000e+00, -2.25000000e+00, -2.30000000e+00, -2.35000000e+00,\n",
       "       -2.40000000e+00, -2.45000000e+00, -2.50000000e+00, -2.55000000e+00,\n",
       "       -2.60000000e+00, -2.65000000e+00, -2.70000000e+00, -2.75000000e+00,\n",
       "       -2.80000000e+00, -2.85000000e+00, -2.90000000e+00, -2.95000000e+00,\n",
       "       -3.00000000e+00, -3.05000000e+00, -3.10000000e+00, -3.15000000e+00,\n",
       "       -3.20000000e+00, -3.25000000e+00, -3.30000000e+00, -3.35000000e+00,\n",
       "       -3.40000000e+00, -3.45000000e+00, -3.50000000e+00, -3.55000000e+00,\n",
       "       -3.60000000e+00, -3.65000000e+00, -3.70000000e+00, -3.75000000e+00,\n",
       "       -3.80000000e+00, -3.85000000e+00, -3.90000000e+00, -3.95000000e+00,\n",
       "       -4.00000000e+00, -4.05000000e+00, -4.10000000e+00, -4.15000000e+00,\n",
       "       -4.20000000e+00, -4.25000000e+00, -4.30000000e+00, -4.35000000e+00,\n",
       "       -4.40000000e+00, -4.45000000e+00, -4.50000000e+00, -4.55000000e+00,\n",
       "       -4.60000000e+00, -4.65000000e+00, -4.70000000e+00, -4.75000000e+00,\n",
       "       -4.80000000e+00, -4.85000000e+00, -4.90000000e+00, -4.95000000e+00,\n",
       "       -5.00000000e+00, -5.05000000e+00, -5.10000000e+00, -5.15000000e+00,\n",
       "       -5.20000000e+00, -5.25000000e+00, -5.30000000e+00, -5.35000000e+00,\n",
       "       -5.40000000e+00, -5.45000000e+00, -5.50000000e+00, -5.55000000e+00,\n",
       "       -5.60000000e+00, -5.65000000e+00, -5.70000000e+00, -5.75000000e+00,\n",
       "       -5.80000000e+00, -5.85000000e+00, -5.90000000e+00, -5.95000000e+00,\n",
       "       -6.00000000e+00, -6.05000000e+00, -6.10000000e+00, -6.15000000e+00,\n",
       "       -6.20000000e+00, -6.25000000e+00, -6.30000000e+00, -6.35000000e+00,\n",
       "       -6.40000000e+00, -6.45000000e+00, -6.50000000e+00, -6.55000000e+00,\n",
       "       -6.60000000e+00, -6.65000000e+00, -6.70000000e+00, -6.75000000e+00,\n",
       "       -6.80000000e+00, -6.85000000e+00, -6.90000000e+00, -6.95000000e+00,\n",
       "       -7.00000000e+00, -7.05000000e+00, -7.10000000e+00, -7.15000000e+00,\n",
       "       -7.20000000e+00, -7.25000000e+00, -7.30000000e+00, -7.35000000e+00,\n",
       "       -7.40000000e+00, -7.45000000e+00, -7.50000000e+00, -7.55000000e+00,\n",
       "       -7.60000000e+00, -7.65000000e+00, -7.70000000e+00, -7.75000000e+00,\n",
       "       -7.80000000e+00, -7.85000000e+00, -7.90000000e+00, -7.95000000e+00,\n",
       "       -8.00000000e+00, -8.05000000e+00, -8.10000000e+00, -8.15000000e+00,\n",
       "       -8.20000000e+00, -8.25000000e+00, -8.30000000e+00, -8.35000000e+00,\n",
       "       -8.40000000e+00, -8.45000000e+00, -8.50000000e+00, -8.55000000e+00,\n",
       "       -8.60000000e+00, -8.65000000e+00, -8.70000000e+00, -8.75000000e+00,\n",
       "       -8.80000000e+00, -8.85000000e+00, -8.90000000e+00, -8.95000000e+00,\n",
       "       -9.00000000e+00, -9.05000000e+00, -9.10000000e+00, -9.15000000e+00,\n",
       "       -9.20000000e+00, -9.25000000e+00, -9.30000000e+00, -9.35000000e+00,\n",
       "       -9.40000000e+00, -9.45000000e+00, -9.50000000e+00, -9.55000000e+00,\n",
       "       -9.60000000e+00, -9.65000000e+00, -9.70000000e+00, -9.75000000e+00,\n",
       "       -9.80000000e+00, -9.85000000e+00, -9.90000000e+00, -9.95000000e+00])"
      ]
     },
     "execution_count": 147,
     "metadata": {},
     "output_type": "execute_result"
    }
   ],
   "source": [
    "sigF"
   ]
  },
  {
   "cell_type": "code",
   "execution_count": 148,
   "metadata": {},
   "outputs": [],
   "source": [
    "# add an offset of 70\n",
    "sigF=sigF+70"
   ]
  },
  {
   "cell_type": "code",
   "execution_count": 150,
   "metadata": {},
   "outputs": [
    {
     "data": {
      "text/plain": [
       "array([70.  , 69.95, 69.9 , 69.85, 69.8 , 69.75, 69.7 , 69.65, 69.6 ,\n",
       "       69.55, 69.5 , 69.45, 69.4 , 69.35, 69.3 , 69.25, 69.2 , 69.15,\n",
       "       69.1 , 69.05, 69.  , 68.95, 68.9 , 68.85, 68.8 , 68.75, 68.7 ,\n",
       "       68.65, 68.6 , 68.55, 68.5 , 68.45, 68.4 , 68.35, 68.3 , 68.25,\n",
       "       68.2 , 68.15, 68.1 , 68.05, 68.  , 67.95, 67.9 , 67.85, 67.8 ,\n",
       "       67.75, 67.7 , 67.65, 67.6 , 67.55, 67.5 , 67.45, 67.4 , 67.35,\n",
       "       67.3 , 67.25, 67.2 , 67.15, 67.1 , 67.05, 67.  , 66.95, 66.9 ,\n",
       "       66.85, 66.8 , 66.75, 66.7 , 66.65, 66.6 , 66.55, 66.5 , 66.45,\n",
       "       66.4 , 66.35, 66.3 , 66.25, 66.2 , 66.15, 66.1 , 66.05, 66.  ,\n",
       "       65.95, 65.9 , 65.85, 65.8 , 65.75, 65.7 , 65.65, 65.6 , 65.55,\n",
       "       65.5 , 65.45, 65.4 , 65.35, 65.3 , 65.25, 65.2 , 65.15, 65.1 ,\n",
       "       65.05, 65.  , 64.95, 64.9 , 64.85, 64.8 , 64.75, 64.7 , 64.65,\n",
       "       64.6 , 64.55, 64.5 , 64.45, 64.4 , 64.35, 64.3 , 64.25, 64.2 ,\n",
       "       64.15, 64.1 , 64.05, 64.  , 63.95, 63.9 , 63.85, 63.8 , 63.75,\n",
       "       63.7 , 63.65, 63.6 , 63.55, 63.5 , 63.45, 63.4 , 63.35, 63.3 ,\n",
       "       63.25, 63.2 , 63.15, 63.1 , 63.05, 63.  , 62.95, 62.9 , 62.85,\n",
       "       62.8 , 62.75, 62.7 , 62.65, 62.6 , 62.55, 62.5 , 62.45, 62.4 ,\n",
       "       62.35, 62.3 , 62.25, 62.2 , 62.15, 62.1 , 62.05, 62.  , 61.95,\n",
       "       61.9 , 61.85, 61.8 , 61.75, 61.7 , 61.65, 61.6 , 61.55, 61.5 ,\n",
       "       61.45, 61.4 , 61.35, 61.3 , 61.25, 61.2 , 61.15, 61.1 , 61.05,\n",
       "       61.  , 60.95, 60.9 , 60.85, 60.8 , 60.75, 60.7 , 60.65, 60.6 ,\n",
       "       60.55, 60.5 , 60.45, 60.4 , 60.35, 60.3 , 60.25, 60.2 , 60.15,\n",
       "       60.1 , 60.05])"
      ]
     },
     "execution_count": 150,
     "metadata": {},
     "output_type": "execute_result"
    }
   ],
   "source": [
    "sigF"
   ]
  },
  {
   "cell_type": "code",
   "execution_count": 152,
   "metadata": {},
   "outputs": [
    {
     "data": {
      "image/png": "[encoded data removed]",
      "text/plain": [
       "<Figure size 432x288 with 1 Axes>"
      ]
     },
     "metadata": {
      "needs_background": "light"
     },
     "output_type": "display_data"
    }
   ],
   "source": [
    "# plot downscaled data (falling edge)\n",
    "# input parameters here\n",
    "plt.plot(time,sigF) \n",
    "plt.title(\"Sawtooth Wave\")\n",
    "plt.xlabel(\"Time(s)\")\n",
    "plt.ylabel(\"Amplitude\")\n",
    "plt.show()"
   ]
  },
  {
   "cell_type": "code",
   "execution_count": null,
   "metadata": {},
   "outputs": [],
   "source": []
  },
  {
   "cell_type": "code",
   "execution_count": 62,
   "metadata": {},
   "outputs": [],
   "source": [
    "# references\n",
    "# https://www.statology.org/numpy-linspace-vs-arange/\n",
    "# https://github.com/scipy/scipy/blob/v1.9.1/scipy/signal/_waveforms.py#L16-L84\n",
    "# https://www.youtube.com/watch?v=VERxJ0CD99I\n",
    "# https://docs.scipy.org/doc/scipy/reference/generated/scipy.signal.sawtooth.html\n"
   ]
  },
  {
   "cell_type": "code",
   "execution_count": null,
   "metadata": {},
   "outputs": [],
   "source": []
  }
 ],
 "metadata": {
  "kernelspec": {
   "display_name": "Python 3",
   "language": "python",
   "name": "python3"
  },
  "language_info": {
   "codemirror_mode": {
    "name": "ipython",
    "version": 3
   },
   "file_extension": ".py",
   "mimetype": "text/x-python",
   "name": "python",
   "nbconvert_exporter": "python",
   "pygments_lexer": "ipython3",
   "version": "3.7.6"
  }
 },
 "nbformat": 4,
 "nbformat_minor": 4
}
