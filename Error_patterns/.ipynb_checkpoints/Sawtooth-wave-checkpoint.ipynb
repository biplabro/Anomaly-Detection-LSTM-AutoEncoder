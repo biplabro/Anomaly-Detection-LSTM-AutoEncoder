{
 "cells": [
  {
   "cell_type": "code",
   "execution_count": 30,
   "metadata": {},
   "outputs": [],
   "source": [
    "# generate a sine wave & obtain the timeseries values\n",
    "# generate "
   ]
  },
  {
   "cell_type": "code",
   "execution_count": 31,
   "metadata": {},
   "outputs": [],
   "source": [
    "# importing libraries first\n",
    "import numpy as np\n",
    "from scipy import signal  # import the sawtooh library\n",
    "import matplotlib.pyplot as plt"
   ]
  },
  {
   "cell_type": "code",
   "execution_count": 32,
   "metadata": {},
   "outputs": [],
   "source": [
    "# parameters\n",
    "\n",
    "# amplitude\n",
    "A = 10\n",
    "\n",
    "# frequency\n",
    "# F = (1/T); period is 200 seconds; we need half of the cycle, thus range 100 is selected np.arange(0,100,0.5)\n",
    "# F= 1/200 = 0.005\n",
    "F = 0.005"
   ]
  },
  {
   "cell_type": "code",
   "execution_count": 36,
   "metadata": {},
   "outputs": [],
   "source": [
    "# time & signal for plotting\n",
    "time = np.arange(0,100,0.5) # (start, end, interval)\n",
    "\n",
    "# format signal.sawtooth(t, width=1) \n",
    "# width: 1 = rising edge, 0 = falling edge\n",
    "sig = A*signal.sawtooth((2*np.pi*F*time),0) "
   ]
  },
  {
   "cell_type": "code",
   "execution_count": 37,
   "metadata": {},
   "outputs": [
    {
     "data": {
      "image/png": "[encoded data removed]",
      "text/plain": [
       "<Figure size 432x288 with 1 Axes>"
      ]
     },
     "metadata": {
      "needs_background": "light"
     },
     "output_type": "display_data"
    }
   ],
   "source": [
    "# plot the graph\n",
    "\n",
    "# input parameters here\n",
    "plt.plot(time,sig) \n",
    "plt.title(\"Sawtooth Wave\")\n",
    "plt.xlabel(\"Time(s)\")\n",
    "plt.ylabel(\"Amplitude\")\n",
    "plt.show()"
   ]
  },
  {
   "cell_type": "code",
   "execution_count": 38,
   "metadata": {},
   "outputs": [],
   "source": [
    "# references\n",
    "# https://www.statology.org/numpy-linspace-vs-arange/\n",
    "# https://github.com/scipy/scipy/blob/v1.9.1/scipy/signal/_waveforms.py#L16-L84\n",
    "# https://www.youtube.com/watch?v=VERxJ0CD99I\n",
    "# https://docs.scipy.org/doc/scipy/reference/generated/scipy.signal.sawtooth.html\n"
   ]
  },
  {
   "cell_type": "code",
   "execution_count": null,
   "metadata": {},
   "outputs": [],
   "source": []
  }
 ],
 "metadata": {
  "kernelspec": {
   "display_name": "Python 3",
   "language": "python",
   "name": "python3"
  },
  "language_info": {
   "codemirror_mode": {
    "name": "ipython",
    "version": 3
   },
   "file_extension": ".py",
   "mimetype": "text/x-python",
   "name": "python",
   "nbconvert_exporter": "python",
   "pygments_lexer": "ipython3",
   "version": "3.7.6"
  }
 },
 "nbformat": 4,
 "nbformat_minor": 4
}
