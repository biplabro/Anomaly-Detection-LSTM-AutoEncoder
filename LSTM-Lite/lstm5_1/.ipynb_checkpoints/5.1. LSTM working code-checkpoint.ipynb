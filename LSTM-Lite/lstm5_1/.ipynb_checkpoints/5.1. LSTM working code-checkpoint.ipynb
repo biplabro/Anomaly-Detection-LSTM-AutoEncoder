{
 "cells": [
  {
   "cell_type": "code",
   "execution_count": 1,
   "metadata": {},
   "outputs": [],
   "source": [
    "# import libraries\n",
    "import os\n",
    "os.environ['TF_XLA_FLAGS'] = '--tf_xla_enable_xla_devices' # for tensorflow\n",
    "import numpy as np\n",
    "import pandas as pd\n",
    "import matplotlib.pyplot as plt\n",
    "\n",
    "import tensorflow as tf\n",
    "from datetime import datetime\n",
    "from tensorflow import keras\n",
    "from sklearn.preprocessing import StandardScaler\n",
    "from tensorflow.keras.models import Sequential\n",
    "from tensorflow.keras.layers import Dense, LSTM, Dropout, RepeatVector, TimeDistributed"
   ]
  },
  {
   "cell_type": "code",
   "execution_count": 2,
   "metadata": {},
   "outputs": [],
   "source": [
    "# Set the random seed for replicated results\n",
    "np.random.seed(42)\n",
    "tf.random.set_seed(42)"
   ]
  },
  {
   "cell_type": "code",
   "execution_count": 3,
   "metadata": {},
   "outputs": [],
   "source": [
    "# Load data from CSV file\n",
    "data = pd.read_csv('dataset.csv', header=None)"
   ]
  },
  {
   "cell_type": "code",
   "execution_count": 4,
   "metadata": {},
   "outputs": [
    {
     "data": {
      "image/png": "[encoded data removed]",
      "text/plain": [
       "<Figure size 432x288 with 1 Axes>"
      ]
     },
     "metadata": {
      "needs_background": "light"
     },
     "output_type": "display_data"
    }
   ],
   "source": [
    "#plot the data \n",
    "plt.plot(data,label = 'x= datapoints \\n y= temperature')\n",
    "plt.legend()\n",
    "plt.show()"
   ]
  },
  {
   "cell_type": "code",
   "execution_count": 5,
   "metadata": {},
   "outputs": [
    {
     "data": {
      "text/plain": [
       "((10000, 1), (6000, 1))"
      ]
     },
     "execution_count": 5,
     "metadata": {},
     "output_type": "execute_result"
    }
   ],
   "source": [
    "raw_train_data = data.iloc[:10000]\n",
    "raw_test_data = data.iloc[10000:]\n",
    "raw_train_data.shape, raw_test_data.shape #returns (rows, columns)"
   ]
  },
  {
   "cell_type": "code",
   "execution_count": 6,
   "metadata": {},
   "outputs": [],
   "source": [
    "### scale the data\n",
    "scaler = StandardScaler()\n",
    "scaler = scaler.fit(np.array(raw_train_data).reshape(-1,1))\n",
    "train_data = scaler.transform(np.array(raw_train_data).reshape(-1,1))\n",
    "test_data = scaler.transform(np.array(raw_test_data).reshape(-1,1))\n"
   ]
  },
  {
   "cell_type": "code",
   "execution_count": 7,
   "metadata": {},
   "outputs": [],
   "source": [
    "### create sequence\n",
    "TIME_STEPS = 400\n",
    "\n",
    "def create_sequences(dataset, time_steps=TIME_STEPS):\n",
    "    \"\"\"\n",
    "    Creates sequences from the input data with the given time steps\n",
    "    \"\"\"\n",
    "    X_out = []\n",
    "    y_out = []\n",
    "    for i in range(len(dataset) - time_steps):\n",
    "        X_out.append(dataset[i:i+time_steps])\n",
    "        y_out.append(dataset[i+time_steps])\n",
    "    return np.array(X_out), np.array(y_out)"
   ]
  },
  {
   "cell_type": "code",
   "execution_count": 8,
   "metadata": {},
   "outputs": [
    {
     "name": "stdout",
     "output_type": "stream",
     "text": [
      "Training input shape:  (9600, 400, 1)\n",
      "Testing input shape:  (5600, 400, 1)\n"
     ]
    }
   ],
   "source": [
    "# Assuming you have a single column univariate data called 'data'\n",
    "# We can create sequences with a specified number of time steps using the create_sequences function\n",
    "\n",
    "X_train, y_train = create_sequences(train_data, TIME_STEPS)\n",
    "X_test, y_test = create_sequences(test_data, TIME_STEPS)\n",
    "\n",
    "# output format (number of sequence, length of batches, number of features)\n",
    "print(\"Training input shape: \", X_train.shape)\n",
    "print(\"Testing input shape: \", X_test.shape)"
   ]
  },
  {
   "cell_type": "code",
   "execution_count": 9,
   "metadata": {},
   "outputs": [],
   "source": [
    "# Define LSTM autoencoder model\n",
    "model = Sequential()\n",
    "model.add(LSTM(64, activation='tanh', input_shape=(TIME_STEPS, 1)))\n",
    "##model.add(Dropout(rate=0.2))\n",
    "model.add(RepeatVector(TIME_STEPS))\n",
    "model.add(LSTM(64, activation='tanh', return_sequences=True))\n",
    "##model.add(Dropout(rate=0.2))\n",
    "model.add(TimeDistributed(Dense(1)))\n",
    "model.compile(optimizer=tf.optimizers.Adam(learning_rate=0.0001), loss='mse')"
   ]
  },
  {
   "cell_type": "code",
   "execution_count": 10,
   "metadata": {},
   "outputs": [
    {
     "name": "stdout",
     "output_type": "stream",
     "text": [
      "Epoch 1/16\n",
      "32/32 [==============================] - 21s 670ms/step - loss: 0.3583 - val_loss: 9.1585\n",
      "Epoch 2/16\n",
      "32/32 [==============================] - 21s 646ms/step - loss: 0.1799 - val_loss: 8.0189\n",
      "Epoch 3/16\n",
      "32/32 [==============================] - 21s 646ms/step - loss: 0.0666 - val_loss: 8.2526\n",
      "Epoch 4/16\n",
      "32/32 [==============================] - 21s 644ms/step - loss: 0.0554 - val_loss: 8.2167\n",
      "Epoch 5/16\n",
      "32/32 [==============================] - 21s 642ms/step - loss: 0.0511 - val_loss: 8.1942\n",
      "Epoch 6/16\n",
      "32/32 [==============================] - 21s 641ms/step - loss: 0.0484 - val_loss: 8.1218\n",
      "Epoch 7/16\n",
      "32/32 [==============================] - 21s 644ms/step - loss: 0.0462 - val_loss: 8.0304\n",
      "Epoch 8/16\n",
      "32/32 [==============================] - 21s 646ms/step - loss: 0.0440 - val_loss: 7.9651\n",
      "Epoch 9/16\n",
      "32/32 [==============================] - 21s 644ms/step - loss: 0.0398 - val_loss: 7.9407\n",
      "Epoch 10/16\n",
      "32/32 [==============================] - 21s 646ms/step - loss: 0.0385 - val_loss: 7.8927\n",
      "Epoch 11/16\n",
      "32/32 [==============================] - 21s 645ms/step - loss: 0.0351 - val_loss: 7.8866\n",
      "Epoch 12/16\n",
      "32/32 [==============================] - 21s 644ms/step - loss: 0.0306 - val_loss: 7.8993\n",
      "Epoch 13/16\n",
      "32/32 [==============================] - 21s 647ms/step - loss: 0.0248 - val_loss: 7.9253\n",
      "Epoch 14/16\n",
      "32/32 [==============================] - 21s 644ms/step - loss: 0.0265 - val_loss: 7.9686\n",
      "Epoch 15/16\n",
      "32/32 [==============================] - 21s 643ms/step - loss: 0.0188 - val_loss: 7.9483\n",
      "Epoch 16/16\n",
      "32/32 [==============================] - 21s 644ms/step - loss: 0.0154 - val_loss: 7.9363\n"
     ]
    }
   ],
   "source": [
    "# Train the model and save the history\n",
    "history = model.fit(X_train, X_train, epochs=16, batch_size=300, validation_data=(X_test, X_test), verbose=1,)\n"
   ]
  },
  {
   "cell_type": "code",
   "execution_count": 11,
   "metadata": {},
   "outputs": [
    {
     "data": {
      "image/png": "[encoded data removed]",
      "text/plain": [
       "<Figure size 432x288 with 1 Axes>"
      ]
     },
     "metadata": {
      "needs_background": "light"
     },
     "output_type": "display_data"
    }
   ],
   "source": [
    "### Plot Training - Validation loss\n",
    "plt.plot(history.history['loss'], label='Training loss')\n",
    "plt.plot(history.history['val_loss'], label='Validation loss')\n",
    "plt.xlabel('Epoch')\n",
    "plt.ylabel('Loss')\n",
    "plt.legend();"
   ]
  },
  {
   "cell_type": "code",
   "execution_count": 12,
   "metadata": {},
   "outputs": [
    {
     "name": "stdout",
     "output_type": "stream",
     "text": [
      "300/300 [==============================] - 15s 51ms/step\n"
     ]
    }
   ],
   "source": [
    "# Make predictions on the train dataset\n",
    "X_train_pred = model.predict(X_train, verbose=1)\n"
   ]
  },
  {
   "cell_type": "code",
   "execution_count": 13,
   "metadata": {},
   "outputs": [],
   "source": [
    "# Calculate MAE loss on the train dataset\n",
    "train_mae_loss = np.mean(np.abs(X_train_pred - X_train), axis=1)\n",
    "# Flatten the train_mae_loss array\n",
    "##train_mae_loss = train_mae_loss.flatten()\n"
   ]
  },
  {
   "cell_type": "code",
   "execution_count": 14,
   "metadata": {},
   "outputs": [
    {
     "data": {
      "image/png": "[encoded data removed]",
      "text/plain": [
       "<Figure size 432x288 with 1 Axes>"
      ]
     },
     "metadata": {
      "needs_background": "light"
     },
     "output_type": "display_data"
    }
   ],
   "source": [
    "# Visualize MAE loss on the train dataset\n",
    "plt.hist(train_mae_loss, bins=50)\n",
    "plt.xlabel('Train MAE loss')\n",
    "plt.ylabel('Number of Samples')\n",
    "plt.show()"
   ]
  },
  {
   "cell_type": "code",
   "execution_count": 15,
   "metadata": {},
   "outputs": [
    {
     "name": "stdout",
     "output_type": "stream",
     "text": [
      "175/175 [==============================] - 9s 51ms/step\n"
     ]
    }
   ],
   "source": [
    "# Make predictions on the test dataset\n",
    "X_test_pred = model.predict(X_test, verbose=1)\n"
   ]
  },
  {
   "cell_type": "code",
   "execution_count": 16,
   "metadata": {},
   "outputs": [],
   "source": [
    "# Calculate MAE loss on the test dataset\n",
    "test_mae_loss = np.mean(np.abs(X_test_pred - X_test), axis=1)\n"
   ]
  },
  {
   "cell_type": "code",
   "execution_count": 17,
   "metadata": {
    "scrolled": true
   },
   "outputs": [
    {
     "data": {
      "image/png": "[encoded data removed]",
      "text/plain": [
       "<Figure size 432x288 with 1 Axes>"
      ]
     },
     "metadata": {
      "needs_background": "light"
     },
     "output_type": "display_data"
    }
   ],
   "source": [
    "# Visualize MAE loss on the test dataset\n",
    "plt.hist(test_mae_loss, bins=50)\n",
    "plt.xlabel('Test MAE loss')\n",
    "plt.ylabel('Number of Samples')\n",
    "plt.show()"
   ]
  },
  {
   "cell_type": "code",
   "execution_count": 18,
   "metadata": {},
   "outputs": [],
   "source": [
    "# Set the threshold for anomaly detection\n",
    "# threshold = 0.5\n",
    "threshold = np.mean(train_mae_loss) + 3 * np.std(train_mae_loss)"
   ]
  },
  {
   "cell_type": "code",
   "execution_count": 19,
   "metadata": {},
   "outputs": [
    {
     "data": {
      "text/plain": [
       "0.28808486574833164"
      ]
     },
     "execution_count": 19,
     "metadata": {},
     "output_type": "execute_result"
    }
   ],
   "source": [
    "threshold"
   ]
  },
  {
   "cell_type": "code",
   "execution_count": 20,
   "metadata": {},
   "outputs": [
    {
     "name": "stdout",
     "output_type": "stream",
     "text": [
      "      Timesteps  Sensor_data  Test_loss  Threshold  Anomaly\n",
      "0           400    72.121361   0.059553   0.288085    False\n",
      "1           401    72.121368   0.060189   0.288085    False\n",
      "2           402    72.121399   0.060670   0.288085    False\n",
      "3           403    72.121429   0.060947   0.288085    False\n",
      "4           404    72.118942   0.061027   0.288085    False\n",
      "...         ...          ...        ...        ...      ...\n",
      "5595       5995    72.121811   0.009047   0.288085    False\n",
      "5596       5996    72.121788   0.009104   0.288085    False\n",
      "5597       5997    72.121773   0.009152   0.288085    False\n",
      "5598       5998    72.121758   0.009194   0.288085    False\n",
      "5599       5999    72.121750   0.009230   0.288085    False\n",
      "\n",
      "[5600 rows x 5 columns]\n"
     ]
    }
   ],
   "source": [
    "# convert raw_test_data.to_numpy() array to fit in the table\n",
    "sensor_data = raw_test_data.to_numpy()\n",
    "\n",
    "# Create anomaly dataframe\n",
    "anomaly_df = pd.DataFrame(columns=['Timesteps', 'Sensor_data', 'Test_loss', 'Threshold', 'Anomaly'])\n",
    "\n",
    "# Add data to the anomaly dataframe\n",
    "anomaly_df['Timesteps'] = range(TIME_STEPS, len(raw_test_data))\n",
    "anomaly_df['Sensor_data'] = sensor_data[TIME_STEPS:]\n",
    "anomaly_df['Test_loss'] = test_mae_loss\n",
    "\n",
    "# Add the threshold column to the anomaly dataframe\n",
    "anomaly_df['Threshold'] = threshold\n",
    "\n",
    "# Find the anomalous data points\n",
    "anomaly_df['Anomaly'] = anomaly_df['Test_loss'] > anomaly_df['Threshold']\n",
    "\n",
    "# Print the anomaly dataframe\n",
    "print(anomaly_df)"
   ]
  },
  {
   "cell_type": "code",
   "execution_count": 21,
   "metadata": {},
   "outputs": [
    {
     "data": {
      "text/html": [
       "<div>\n",
       "<style scoped>\n",
       "    .dataframe tbody tr th:only-of-type {\n",
       "        vertical-align: middle;\n",
       "    }\n",
       "\n",
       "    .dataframe tbody tr th {\n",
       "        vertical-align: top;\n",
       "    }\n",
       "\n",
       "    .dataframe thead th {\n",
       "        text-align: right;\n",
       "    }\n",
       "</style>\n",
       "<table border=\"1\" class=\"dataframe\">\n",
       "  <thead>\n",
       "    <tr style=\"text-align: right;\">\n",
       "      <th></th>\n",
       "      <th>Timesteps</th>\n",
       "      <th>Sensor_data</th>\n",
       "      <th>Test_loss</th>\n",
       "      <th>Threshold</th>\n",
       "      <th>Anomaly</th>\n",
       "    </tr>\n",
       "  </thead>\n",
       "  <tbody>\n",
       "    <tr>\n",
       "      <th>0</th>\n",
       "      <td>400</td>\n",
       "      <td>72.121361</td>\n",
       "      <td>0.059553</td>\n",
       "      <td>0.288085</td>\n",
       "      <td>False</td>\n",
       "    </tr>\n",
       "    <tr>\n",
       "      <th>1</th>\n",
       "      <td>401</td>\n",
       "      <td>72.121368</td>\n",
       "      <td>0.060189</td>\n",
       "      <td>0.288085</td>\n",
       "      <td>False</td>\n",
       "    </tr>\n",
       "    <tr>\n",
       "      <th>2</th>\n",
       "      <td>402</td>\n",
       "      <td>72.121399</td>\n",
       "      <td>0.060670</td>\n",
       "      <td>0.288085</td>\n",
       "      <td>False</td>\n",
       "    </tr>\n",
       "    <tr>\n",
       "      <th>3</th>\n",
       "      <td>403</td>\n",
       "      <td>72.121429</td>\n",
       "      <td>0.060947</td>\n",
       "      <td>0.288085</td>\n",
       "      <td>False</td>\n",
       "    </tr>\n",
       "    <tr>\n",
       "      <th>4</th>\n",
       "      <td>404</td>\n",
       "      <td>72.118942</td>\n",
       "      <td>0.061027</td>\n",
       "      <td>0.288085</td>\n",
       "      <td>False</td>\n",
       "    </tr>\n",
       "    <tr>\n",
       "      <th>...</th>\n",
       "      <td>...</td>\n",
       "      <td>...</td>\n",
       "      <td>...</td>\n",
       "      <td>...</td>\n",
       "      <td>...</td>\n",
       "    </tr>\n",
       "    <tr>\n",
       "      <th>3328</th>\n",
       "      <td>3728</td>\n",
       "      <td>120.128662</td>\n",
       "      <td>5.187388</td>\n",
       "      <td>0.288085</td>\n",
       "      <td>True</td>\n",
       "    </tr>\n",
       "    <tr>\n",
       "      <th>3329</th>\n",
       "      <td>3729</td>\n",
       "      <td>120.126694</td>\n",
       "      <td>5.188647</td>\n",
       "      <td>0.288085</td>\n",
       "      <td>True</td>\n",
       "    </tr>\n",
       "    <tr>\n",
       "      <th>3330</th>\n",
       "      <td>3730</td>\n",
       "      <td>120.138878</td>\n",
       "      <td>5.189900</td>\n",
       "      <td>0.288085</td>\n",
       "      <td>True</td>\n",
       "    </tr>\n",
       "    <tr>\n",
       "      <th>3331</th>\n",
       "      <td>3731</td>\n",
       "      <td>120.164886</td>\n",
       "      <td>5.191156</td>\n",
       "      <td>0.288085</td>\n",
       "      <td>True</td>\n",
       "    </tr>\n",
       "    <tr>\n",
       "      <th>3332</th>\n",
       "      <td>3732</td>\n",
       "      <td>120.169930</td>\n",
       "      <td>5.192422</td>\n",
       "      <td>0.288085</td>\n",
       "      <td>True</td>\n",
       "    </tr>\n",
       "  </tbody>\n",
       "</table>\n",
       "<p>3333 rows × 5 columns</p>\n",
       "</div>"
      ],
      "text/plain": [
       "      Timesteps  Sensor_data  Test_loss  Threshold  Anomaly\n",
       "0           400    72.121361   0.059553   0.288085    False\n",
       "1           401    72.121368   0.060189   0.288085    False\n",
       "2           402    72.121399   0.060670   0.288085    False\n",
       "3           403    72.121429   0.060947   0.288085    False\n",
       "4           404    72.118942   0.061027   0.288085    False\n",
       "...         ...          ...        ...        ...      ...\n",
       "3328       3728   120.128662   5.187388   0.288085     True\n",
       "3329       3729   120.126694   5.188647   0.288085     True\n",
       "3330       3730   120.138878   5.189900   0.288085     True\n",
       "3331       3731   120.164886   5.191156   0.288085     True\n",
       "3332       3732   120.169930   5.192422   0.288085     True\n",
       "\n",
       "[3333 rows x 5 columns]"
      ]
     },
     "execution_count": 21,
     "metadata": {},
     "output_type": "execute_result"
    }
   ],
   "source": [
    "anomaly_df.head(3333)"
   ]
  },
  {
   "cell_type": "code",
   "execution_count": 22,
   "metadata": {},
   "outputs": [
    {
     "data": {
      "text/plain": [
       "0       0.059553\n",
       "1       0.060189\n",
       "2       0.060670\n",
       "3       0.060947\n",
       "4       0.061027\n",
       "          ...   \n",
       "5595    0.009047\n",
       "5596    0.009104\n",
       "5597    0.009152\n",
       "5598    0.009194\n",
       "5599    0.009230\n",
       "Name: Test_loss, Length: 5600, dtype: float64"
      ]
     },
     "execution_count": 22,
     "metadata": {},
     "output_type": "execute_result"
    }
   ],
   "source": [
    "anomaly_df['Test_loss']"
   ]
  },
  {
   "cell_type": "code",
   "execution_count": 23,
   "metadata": {},
   "outputs": [
    {
     "data": {
      "text/plain": [
       "0       72.121361\n",
       "1       72.121368\n",
       "2       72.121399\n",
       "3       72.121429\n",
       "4       72.118942\n",
       "          ...    \n",
       "5595    72.121811\n",
       "5596    72.121788\n",
       "5597    72.121773\n",
       "5598    72.121758\n",
       "5599    72.121750\n",
       "Name: Sensor_data, Length: 5600, dtype: float64"
      ]
     },
     "execution_count": 23,
     "metadata": {},
     "output_type": "execute_result"
    }
   ],
   "source": [
    "anomaly_df['Sensor_data']"
   ]
  },
  {
   "cell_type": "code",
   "execution_count": 24,
   "metadata": {},
   "outputs": [
    {
     "data": {
      "image/png": "[encoded data removed]",
      "text/plain": [
       "<Figure size 432x288 with 2 Axes>"
      ]
     },
     "metadata": {
      "needs_background": "light"
     },
     "output_type": "display_data"
    }
   ],
   "source": [
    "# Plot the anomaly dataframe and test dataset\n",
    "fig, ax1 = plt.subplots()\n",
    "ax2 = ax1.twinx()\n",
    "\n",
    "color1 = 'blue'\n",
    "color2 = 'red'\n",
    "\n",
    "line1 = ax1.plot(anomaly_df.index, anomaly_df['Sensor_data'], color=color1, label = 'data')\n",
    "line2 = ax2.plot(anomaly_df.index, anomaly_df['Test_loss'], color=color2, label = 'Test_loss')\n",
    "line3 = ax2.plot(anomaly_df.index, anomaly_df['Threshold'], color=color2, linestyle = 'dotted', label = 'Threshold val')\n",
    "\n",
    "#ax2.set_ylim([-0.1, 1.1])\n",
    "plt.title('Anomaly Detection Results')\n",
    "#plt.xlabel('Test data')\n",
    "ax1.set_xlabel('Datapoints')\n",
    "ax1.set_ylabel('Temperature')\n",
    "ax2.set_ylabel('Anomaly')\n",
    "\n",
    "ax2.spines['left'].set_color(color1)\n",
    "ax2.spines['right'].set_color(color2)\n",
    "ax1.tick_params(axis = 'y', labelcolor = color1)\n",
    "ax2.tick_params(axis = 'y', labelcolor = color2)\n",
    "\n",
    "lines = line1 + line2 + line3\n",
    "labels = [l.get_label() for l in lines]\n",
    "plt.legend(lines, labels, loc = \"upper left\")\n",
    "\n",
    "plt.show()\n"
   ]
  },
  {
   "cell_type": "code",
   "execution_count": 25,
   "metadata": {},
   "outputs": [
    {
     "data": {
      "text/html": [
       "<div>\n",
       "<style scoped>\n",
       "    .dataframe tbody tr th:only-of-type {\n",
       "        vertical-align: middle;\n",
       "    }\n",
       "\n",
       "    .dataframe tbody tr th {\n",
       "        vertical-align: top;\n",
       "    }\n",
       "\n",
       "    .dataframe thead th {\n",
       "        text-align: right;\n",
       "    }\n",
       "</style>\n",
       "<table border=\"1\" class=\"dataframe\">\n",
       "  <thead>\n",
       "    <tr style=\"text-align: right;\">\n",
       "      <th></th>\n",
       "      <th>Timesteps</th>\n",
       "      <th>Sensor_data</th>\n",
       "      <th>Test_loss</th>\n",
       "      <th>Threshold</th>\n",
       "      <th>Anomaly</th>\n",
       "    </tr>\n",
       "  </thead>\n",
       "  <tbody>\n",
       "    <tr>\n",
       "      <th>0</th>\n",
       "      <td>400</td>\n",
       "      <td>72.121361</td>\n",
       "      <td>0.059553</td>\n",
       "      <td>0.288085</td>\n",
       "      <td>False</td>\n",
       "    </tr>\n",
       "    <tr>\n",
       "      <th>1</th>\n",
       "      <td>401</td>\n",
       "      <td>72.121368</td>\n",
       "      <td>0.060189</td>\n",
       "      <td>0.288085</td>\n",
       "      <td>False</td>\n",
       "    </tr>\n",
       "    <tr>\n",
       "      <th>2</th>\n",
       "      <td>402</td>\n",
       "      <td>72.121399</td>\n",
       "      <td>0.060670</td>\n",
       "      <td>0.288085</td>\n",
       "      <td>False</td>\n",
       "    </tr>\n",
       "    <tr>\n",
       "      <th>3</th>\n",
       "      <td>403</td>\n",
       "      <td>72.121429</td>\n",
       "      <td>0.060947</td>\n",
       "      <td>0.288085</td>\n",
       "      <td>False</td>\n",
       "    </tr>\n",
       "    <tr>\n",
       "      <th>4</th>\n",
       "      <td>404</td>\n",
       "      <td>72.118942</td>\n",
       "      <td>0.061027</td>\n",
       "      <td>0.288085</td>\n",
       "      <td>False</td>\n",
       "    </tr>\n",
       "    <tr>\n",
       "      <th>...</th>\n",
       "      <td>...</td>\n",
       "      <td>...</td>\n",
       "      <td>...</td>\n",
       "      <td>...</td>\n",
       "      <td>...</td>\n",
       "    </tr>\n",
       "    <tr>\n",
       "      <th>3328</th>\n",
       "      <td>3728</td>\n",
       "      <td>120.128662</td>\n",
       "      <td>5.187388</td>\n",
       "      <td>0.288085</td>\n",
       "      <td>True</td>\n",
       "    </tr>\n",
       "    <tr>\n",
       "      <th>3329</th>\n",
       "      <td>3729</td>\n",
       "      <td>120.126694</td>\n",
       "      <td>5.188647</td>\n",
       "      <td>0.288085</td>\n",
       "      <td>True</td>\n",
       "    </tr>\n",
       "    <tr>\n",
       "      <th>3330</th>\n",
       "      <td>3730</td>\n",
       "      <td>120.138878</td>\n",
       "      <td>5.189900</td>\n",
       "      <td>0.288085</td>\n",
       "      <td>True</td>\n",
       "    </tr>\n",
       "    <tr>\n",
       "      <th>3331</th>\n",
       "      <td>3731</td>\n",
       "      <td>120.164886</td>\n",
       "      <td>5.191156</td>\n",
       "      <td>0.288085</td>\n",
       "      <td>True</td>\n",
       "    </tr>\n",
       "    <tr>\n",
       "      <th>3332</th>\n",
       "      <td>3732</td>\n",
       "      <td>120.169930</td>\n",
       "      <td>5.192422</td>\n",
       "      <td>0.288085</td>\n",
       "      <td>True</td>\n",
       "    </tr>\n",
       "  </tbody>\n",
       "</table>\n",
       "<p>3333 rows × 5 columns</p>\n",
       "</div>"
      ],
      "text/plain": [
       "      Timesteps  Sensor_data  Test_loss  Threshold  Anomaly\n",
       "0           400    72.121361   0.059553   0.288085    False\n",
       "1           401    72.121368   0.060189   0.288085    False\n",
       "2           402    72.121399   0.060670   0.288085    False\n",
       "3           403    72.121429   0.060947   0.288085    False\n",
       "4           404    72.118942   0.061027   0.288085    False\n",
       "...         ...          ...        ...        ...      ...\n",
       "3328       3728   120.128662   5.187388   0.288085     True\n",
       "3329       3729   120.126694   5.188647   0.288085     True\n",
       "3330       3730   120.138878   5.189900   0.288085     True\n",
       "3331       3731   120.164886   5.191156   0.288085     True\n",
       "3332       3732   120.169930   5.192422   0.288085     True\n",
       "\n",
       "[3333 rows x 5 columns]"
      ]
     },
     "execution_count": 25,
     "metadata": {},
     "output_type": "execute_result"
    }
   ],
   "source": [
    "anomaly_df.head(3333)"
   ]
  },
  {
   "cell_type": "code",
   "execution_count": 26,
   "metadata": {},
   "outputs": [
    {
     "ename": "NameError",
     "evalue": "name 'df' is not defined",
     "output_type": "error",
     "traceback": [
      "\u001b[0;31m---------------------------------------------------------------------------\u001b[0m",
      "\u001b[0;31mNameError\u001b[0m                                 Traceback (most recent call last)",
      "\u001b[0;32m<ipython-input-26-1f2207f8da4d>\u001b[0m in \u001b[0;36m<module>\u001b[0;34m\u001b[0m\n\u001b[1;32m     10\u001b[0m \u001b[0;34m\u001b[0m\u001b[0m\n\u001b[1;32m     11\u001b[0m     \u001b[0;31m# Get the anomaly status for this window\u001b[0m\u001b[0;34m\u001b[0m\u001b[0;34m\u001b[0m\u001b[0;34m\u001b[0m\u001b[0m\n\u001b[0;32m---> 12\u001b[0;31m     \u001b[0mwindow_anomalies\u001b[0m \u001b[0;34m=\u001b[0m \u001b[0mdf\u001b[0m\u001b[0;34m[\u001b[0m\u001b[0;34m'anomaly'\u001b[0m\u001b[0;34m]\u001b[0m\u001b[0;34m[\u001b[0m\u001b[0mstart_index\u001b[0m\u001b[0;34m:\u001b[0m\u001b[0mend_index\u001b[0m\u001b[0;34m]\u001b[0m\u001b[0;34m.\u001b[0m\u001b[0mvalues\u001b[0m\u001b[0;34m\u001b[0m\u001b[0;34m\u001b[0m\u001b[0m\n\u001b[0m\u001b[1;32m     13\u001b[0m \u001b[0;34m\u001b[0m\u001b[0m\n\u001b[1;32m     14\u001b[0m     \u001b[0;31m# Check if any anomalies were detected in this window\u001b[0m\u001b[0;34m\u001b[0m\u001b[0;34m\u001b[0m\u001b[0;34m\u001b[0m\u001b[0m\n",
      "\u001b[0;31mNameError\u001b[0m: name 'df' is not defined"
     ]
    }
   ],
   "source": [
    "# Initialize variables for anomaly detection\n",
    "check num_windows = int(len(test_data) / window_size)\n",
    "consecutive_anomalies = 0\n",
    "\n",
    "# Check each window of test data for anomalies\n",
    "for i in range(num_windows):\n",
    "    start_index = i * window_size\n",
    "    end_index = start_index + window_size\n",
    "    \n",
    "    # Get the anomaly status for this window\n",
    "    window_anomalies = df['anomaly'][start_index:end_index].values\n",
    "    \n",
    "    # Check if any anomalies were detected in this window\n",
    "    if window_anomalies.sum() == 0:\n",
    "        print(f\"Window {i+1}: Normal Operation\")\n",
    "        consecutive_anomalies = 0\n",
    "    else:\n",
    "        print(f\"Window {i+1}: Anomaly Detected\")\n",
    "        consecutive_anomalies += 1\n",
    "        \n",
    "        # Check if three consecutive windows had anomalies\n",
    "        if consecutive_anomalies >= 3:\n",
    "            print(\"Fault Detected!\")\n",
    "            consecutive_anomalies = 3"
   ]
  },
  {
   "cell_type": "code",
   "execution_count": null,
   "metadata": {},
   "outputs": [],
   "source": []
  },
  {
   "cell_type": "code",
   "execution_count": null,
   "metadata": {},
   "outputs": [],
   "source": []
  }
 ],
 "metadata": {
  "kernelspec": {
   "display_name": "Python 3",
   "language": "python",
   "name": "python3"
  },
  "language_info": {
   "codemirror_mode": {
    "name": "ipython",
    "version": 3
   },
   "file_extension": ".py",
   "mimetype": "text/x-python",
   "name": "python",
   "nbconvert_exporter": "python",
   "pygments_lexer": "ipython3",
   "version": "3.7.6"
  }
 },
 "nbformat": 4,
 "nbformat_minor": 4
}
