{
 "cells": [
  {
   "cell_type": "code",
   "execution_count": 31,
   "metadata": {},
   "outputs": [],
   "source": [
    "# import libraries\n",
    "import os\n",
    "os.environ['TF_XLA_FLAGS'] = '--tf_xla_enable_xla_devices' # for tensorflow\n",
    "import numpy as np\n",
    "import pandas as pd\n",
    "import matplotlib.pyplot as plt\n",
    "\n",
    "import tensorflow as tf\n",
    "from datetime import datetime\n",
    "from tensorflow import keras\n",
    "from sklearn.preprocessing import StandardScaler\n",
    "from tensorflow.keras.models import Sequential\n",
    "from tensorflow.keras.layers import Dense, LSTM, Dropout, RepeatVector, TimeDistributed"
   ]
  },
  {
   "cell_type": "code",
   "execution_count": 32,
   "metadata": {},
   "outputs": [],
   "source": [
    "# Set the random seed for replicated results\n",
    "np.random.seed(42)\n",
    "tf.random.set_seed(42)"
   ]
  },
  {
   "cell_type": "code",
   "execution_count": 33,
   "metadata": {},
   "outputs": [],
   "source": [
    "# Load data from CSV file\n",
    "data = pd.read_csv('dataset.csv', header=None)"
   ]
  },
  {
   "cell_type": "code",
   "execution_count": 34,
   "metadata": {},
   "outputs": [
    {
     "data": {
      "image/png": "[encoded data removed]",
      "text/plain": [
       "<Figure size 432x288 with 1 Axes>"
      ]
     },
     "metadata": {
      "needs_background": "light"
     },
     "output_type": "display_data"
    }
   ],
   "source": [
    "#plot the data \n",
    "plt.plot(data,label = 'x= datapoints \\n y= temperature')\n",
    "plt.legend()\n",
    "plt.show()"
   ]
  },
  {
   "cell_type": "code",
   "execution_count": 5,
   "metadata": {},
   "outputs": [
    {
     "data": {
      "text/plain": [
       "((10000, 1), (6000, 1))"
      ]
     },
     "execution_count": 5,
     "metadata": {},
     "output_type": "execute_result"
    }
   ],
   "source": [
    "raw_train_data = data.iloc[:10000]\n",
    "raw_test_data = data.iloc[10000:]\n",
    "raw_train_data.shape, raw_test_data.shape #returns (rows, columns)"
   ]
  },
  {
   "cell_type": "code",
   "execution_count": 6,
   "metadata": {},
   "outputs": [],
   "source": [
    "### scale the data\n",
    "scaler = StandardScaler()\n",
    "scaler = scaler.fit(np.array(raw_train_data).reshape(-1,1))\n",
    "train_data = scaler.transform(np.array(raw_train_data).reshape(-1,1))\n",
    "test_data = scaler.transform(np.array(raw_test_data).reshape(-1,1))\n"
   ]
  },
  {
   "cell_type": "code",
   "execution_count": 7,
   "metadata": {},
   "outputs": [],
   "source": [
    "### create sequence\n",
    "TIME_STEPS = 300\n",
    "\n",
    "def create_sequences(dataset, time_steps=TIME_STEPS):\n",
    "    \"\"\"\n",
    "    Creates sequences from the input data with the given time steps\n",
    "    \"\"\"\n",
    "    X_out = []\n",
    "    y_out = []\n",
    "    for i in range(len(dataset) - time_steps):\n",
    "        X_out.append(dataset[i:i+time_steps])\n",
    "        y_out.append(dataset[i+time_steps])\n",
    "    return np.array(X_out), np.array(y_out)"
   ]
  },
  {
   "cell_type": "code",
   "execution_count": 8,
   "metadata": {},
   "outputs": [
    {
     "name": "stdout",
     "output_type": "stream",
     "text": [
      "Training input shape:  (9700, 300, 1)\n",
      "Testing input shape:  (5700, 300, 1)\n"
     ]
    }
   ],
   "source": [
    "# Assuming you have a single column univariate data called 'data'\n",
    "# We can create sequences with a specified number of time steps using the create_sequences function\n",
    "\n",
    "X_train, y_train = create_sequences(train_data, TIME_STEPS)\n",
    "X_test, y_test = create_sequences(test_data, TIME_STEPS)\n",
    "\n",
    "# output format (number of sequence, length of batches, number of features)\n",
    "print(\"Training input shape: \", X_train.shape)\n",
    "print(\"Testing input shape: \", X_test.shape)"
   ]
  },
  {
   "cell_type": "code",
   "execution_count": 9,
   "metadata": {},
   "outputs": [],
   "source": [
    "# Define LSTM autoencoder model\n",
    "model = Sequential()\n",
    "model.add(LSTM(64, activation='tanh', input_shape=(TIME_STEPS, 1)))\n",
    "##model.add(Dropout(rate=0.2))\n",
    "model.add(RepeatVector(TIME_STEPS))\n",
    "model.add(LSTM(64, activation='tanh', return_sequences=True))\n",
    "##model.add(Dropout(rate=0.2))\n",
    "model.add(TimeDistributed(Dense(1)))\n",
    "model.compile(optimizer=tf.optimizers.Adam(learning_rate=0.001), loss='mse')"
   ]
  },
  {
   "cell_type": "code",
   "execution_count": 10,
   "metadata": {},
   "outputs": [
    {
     "name": "stdout",
     "output_type": "stream",
     "text": [
      "Epoch 1/16\n",
      "25/25 [==============================] - 35s 1s/step - loss: 0.1657 - val_loss: 7.0034\n",
      "Epoch 2/16\n",
      "25/25 [==============================] - 34s 1s/step - loss: 0.0445 - val_loss: 6.7622\n",
      "Epoch 3/16\n",
      "25/25 [==============================] - 33s 1s/step - loss: 0.0365 - val_loss: 6.5345\n",
      "Epoch 4/16\n",
      "25/25 [==============================] - 35s 1s/step - loss: 0.0363 - val_loss: 6.3811\n",
      "Epoch 5/16\n",
      "25/25 [==============================] - 35s 1s/step - loss: 0.0333 - val_loss: 6.3114\n",
      "Epoch 6/16\n",
      "25/25 [==============================] - 35s 1s/step - loss: 0.0310 - val_loss: 6.3198\n",
      "Epoch 7/16\n",
      "25/25 [==============================] - 35s 1s/step - loss: 0.0346 - val_loss: 6.1541\n",
      "Epoch 8/16\n",
      "25/25 [==============================] - 36s 1s/step - loss: 0.0326 - val_loss: 6.2056\n",
      "Epoch 9/16\n",
      "25/25 [==============================] - 35s 1s/step - loss: 0.0286 - val_loss: 6.2706\n",
      "Epoch 10/16\n",
      "25/25 [==============================] - 36s 1s/step - loss: 0.0257 - val_loss: 6.3625\n",
      "Epoch 11/16\n",
      "25/25 [==============================] - 36s 1s/step - loss: 0.0190 - val_loss: 6.3782\n",
      "Epoch 12/16\n",
      "25/25 [==============================] - 35s 1s/step - loss: 0.0178 - val_loss: 6.3527\n",
      "Epoch 13/16\n",
      "25/25 [==============================] - 35s 1s/step - loss: 0.0143 - val_loss: 6.2691\n",
      "Epoch 14/16\n",
      "25/25 [==============================] - 37s 1s/step - loss: 0.0143 - val_loss: 6.1882\n",
      "Epoch 15/16\n",
      "25/25 [==============================] - 35s 1s/step - loss: 0.0129 - val_loss: 6.2094\n",
      "Epoch 16/16\n",
      "25/25 [==============================] - 36s 1s/step - loss: 0.0115 - val_loss: 6.2103\n"
     ]
    }
   ],
   "source": [
    "# Train the model and save the history\n",
    "history = model.fit(X_train, X_train, epochs=16, batch_size=400, validation_data=(X_test, X_test), verbose=1,)\n"
   ]
  },
  {
   "cell_type": "code",
   "execution_count": 11,
   "metadata": {},
   "outputs": [
    {
     "data": {
      "image/png": "[encoded data removed]",
      "text/plain": [
       "<Figure size 432x288 with 1 Axes>"
      ]
     },
     "metadata": {
      "needs_background": "light"
     },
     "output_type": "display_data"
    }
   ],
   "source": [
    "### Plot Training - Validation loss\n",
    "plt.plot(history.history['loss'], label='Training loss')\n",
    "plt.plot(history.history['val_loss'], label='Validation loss')\n",
    "plt.xlabel('Epoch')\n",
    "plt.ylabel('Loss')\n",
    "plt.legend();"
   ]
  },
  {
   "cell_type": "code",
   "execution_count": 12,
   "metadata": {},
   "outputs": [
    {
     "name": "stdout",
     "output_type": "stream",
     "text": [
      "304/304 [==============================] - 23s 76ms/step\n"
     ]
    }
   ],
   "source": [
    "# Make predictions on the train dataset\n",
    "X_train_pred = model.predict(X_train, verbose=1)\n"
   ]
  },
  {
   "cell_type": "code",
   "execution_count": 13,
   "metadata": {},
   "outputs": [],
   "source": [
    "# Calculate MAE loss on the train dataset\n",
    "train_mae_loss = np.mean(np.abs(X_train_pred - X_train), axis=1)\n",
    "# Flatten the train_mae_loss array\n",
    "##train_mae_loss = train_mae_loss.flatten()\n"
   ]
  },
  {
   "cell_type": "code",
   "execution_count": 14,
   "metadata": {},
   "outputs": [
    {
     "data": {
      "image/png": "[encoded data removed]",
      "text/plain": [
       "<Figure size 432x288 with 1 Axes>"
      ]
     },
     "metadata": {
      "needs_background": "light"
     },
     "output_type": "display_data"
    }
   ],
   "source": [
    "# Visualize MAE loss on the train dataset\n",
    "plt.hist(train_mae_loss, bins=50)\n",
    "plt.xlabel('Train MAE loss')\n",
    "plt.ylabel('Number of Samples')\n",
    "plt.show()"
   ]
  },
  {
   "cell_type": "code",
   "execution_count": 15,
   "metadata": {},
   "outputs": [
    {
     "name": "stdout",
     "output_type": "stream",
     "text": [
      "179/179 [==============================] - 14s 75ms/step\n"
     ]
    }
   ],
   "source": [
    "# Make predictions on the test dataset\n",
    "X_test_pred = model.predict(X_test, verbose=1)\n"
   ]
  },
  {
   "cell_type": "code",
   "execution_count": 16,
   "metadata": {},
   "outputs": [],
   "source": [
    "# Calculate MAE loss on the test dataset\n",
    "test_mae_loss = np.mean(np.abs(X_test_pred - X_test), axis=1)\n"
   ]
  },
  {
   "cell_type": "code",
   "execution_count": 17,
   "metadata": {
    "scrolled": true
   },
   "outputs": [
    {
     "data": {
      "image/png": "[encoded data removed]",
      "text/plain": [
       "<Figure size 432x288 with 1 Axes>"
      ]
     },
     "metadata": {
      "needs_background": "light"
     },
     "output_type": "display_data"
    }
   ],
   "source": [
    "# Visualize MAE loss on the test dataset\n",
    "plt.hist(test_mae_loss, bins=50)\n",
    "plt.xlabel('Test MAE loss')\n",
    "plt.ylabel('Number of Samples')\n",
    "plt.show()"
   ]
  },
  {
   "cell_type": "code",
   "execution_count": 18,
   "metadata": {},
   "outputs": [],
   "source": [
    "# Set the threshold for anomaly detection\n",
    "# threshold = 0.5\n",
    "threshold = np.mean(train_mae_loss) + 3 * np.std(train_mae_loss)"
   ]
  },
  {
   "cell_type": "code",
   "execution_count": 19,
   "metadata": {},
   "outputs": [
    {
     "data": {
      "text/plain": [
       "0.1162513318439278"
      ]
     },
     "execution_count": 19,
     "metadata": {},
     "output_type": "execute_result"
    }
   ],
   "source": [
    "threshold"
   ]
  },
  {
   "cell_type": "code",
   "execution_count": 20,
   "metadata": {},
   "outputs": [],
   "source": [
    "# convert raw_test_data.to_numpy() array to fit in the table\n",
    "sensor_data = raw_test_data.to_numpy()"
   ]
  },
  {
   "cell_type": "code",
   "execution_count": 21,
   "metadata": {},
   "outputs": [
    {
     "name": "stdout",
     "output_type": "stream",
     "text": [
      "      Timesteps  Sensor_data  Test_loss  Threshold  Anomaly\n",
      "0           300    72.117302   0.076360   0.116251    False\n",
      "1           301    72.118553   0.076926   0.116251    False\n",
      "2           302    72.117607   0.077742   0.116251    False\n",
      "3           303    72.114029   0.078246   0.116251    False\n",
      "4           304    72.107956   0.078378   0.116251    False\n",
      "...         ...          ...        ...        ...      ...\n",
      "5695       5995    72.121811   0.005199   0.116251    False\n",
      "5696       5996    72.121788   0.005158   0.116251    False\n",
      "5697       5997    72.121773   0.005128   0.116251    False\n",
      "5698       5998    72.121758   0.005120   0.116251    False\n",
      "5699       5999    72.121750   0.005097   0.116251    False\n",
      "\n",
      "[5700 rows x 5 columns]\n"
     ]
    }
   ],
   "source": [
    "# Create anomaly dataframe\n",
    "anomaly_df = pd.DataFrame(columns=['Timesteps', 'Sensor_data', 'Test_loss', 'Threshold', 'Anomaly'])\n",
    "\n",
    "# Add data to the anomaly dataframe\n",
    "anomaly_df['Timesteps'] = range(TIME_STEPS, len(raw_test_data))\n",
    "anomaly_df['Sensor_data'] = sensor_data[TIME_STEPS:]\n",
    "anomaly_df['Test_loss'] = test_mae_loss\n",
    "\n",
    "# Add the threshold column to the anomaly dataframe\n",
    "anomaly_df['Threshold'] = threshold\n",
    "\n",
    "# Find the anomalous data points\n",
    "anomaly_df['Anomaly'] = anomaly_df['Test_loss'] > anomaly_df['Threshold']\n",
    "\n",
    "# Print the anomaly dataframe\n",
    "print(anomaly_df)"
   ]
  },
  {
   "cell_type": "code",
   "execution_count": 22,
   "metadata": {},
   "outputs": [
    {
     "data": {
      "text/html": [
       "<div>\n",
       "<style scoped>\n",
       "    .dataframe tbody tr th:only-of-type {\n",
       "        vertical-align: middle;\n",
       "    }\n",
       "\n",
       "    .dataframe tbody tr th {\n",
       "        vertical-align: top;\n",
       "    }\n",
       "\n",
       "    .dataframe thead th {\n",
       "        text-align: right;\n",
       "    }\n",
       "</style>\n",
       "<table border=\"1\" class=\"dataframe\">\n",
       "  <thead>\n",
       "    <tr style=\"text-align: right;\">\n",
       "      <th></th>\n",
       "      <th>Timesteps</th>\n",
       "      <th>Sensor_data</th>\n",
       "      <th>Test_loss</th>\n",
       "      <th>Threshold</th>\n",
       "      <th>Anomaly</th>\n",
       "    </tr>\n",
       "  </thead>\n",
       "  <tbody>\n",
       "    <tr>\n",
       "      <th>0</th>\n",
       "      <td>300</td>\n",
       "      <td>72.117302</td>\n",
       "      <td>0.076360</td>\n",
       "      <td>0.116251</td>\n",
       "      <td>False</td>\n",
       "    </tr>\n",
       "    <tr>\n",
       "      <th>1</th>\n",
       "      <td>301</td>\n",
       "      <td>72.118553</td>\n",
       "      <td>0.076926</td>\n",
       "      <td>0.116251</td>\n",
       "      <td>False</td>\n",
       "    </tr>\n",
       "    <tr>\n",
       "      <th>2</th>\n",
       "      <td>302</td>\n",
       "      <td>72.117607</td>\n",
       "      <td>0.077742</td>\n",
       "      <td>0.116251</td>\n",
       "      <td>False</td>\n",
       "    </tr>\n",
       "    <tr>\n",
       "      <th>3</th>\n",
       "      <td>303</td>\n",
       "      <td>72.114029</td>\n",
       "      <td>0.078246</td>\n",
       "      <td>0.116251</td>\n",
       "      <td>False</td>\n",
       "    </tr>\n",
       "    <tr>\n",
       "      <th>4</th>\n",
       "      <td>304</td>\n",
       "      <td>72.107956</td>\n",
       "      <td>0.078378</td>\n",
       "      <td>0.116251</td>\n",
       "      <td>False</td>\n",
       "    </tr>\n",
       "    <tr>\n",
       "      <th>...</th>\n",
       "      <td>...</td>\n",
       "      <td>...</td>\n",
       "      <td>...</td>\n",
       "      <td>...</td>\n",
       "      <td>...</td>\n",
       "    </tr>\n",
       "    <tr>\n",
       "      <th>3328</th>\n",
       "      <td>3628</td>\n",
       "      <td>120.121956</td>\n",
       "      <td>4.617165</td>\n",
       "      <td>0.116251</td>\n",
       "      <td>True</td>\n",
       "    </tr>\n",
       "    <tr>\n",
       "      <th>3329</th>\n",
       "      <td>3629</td>\n",
       "      <td>120.121895</td>\n",
       "      <td>4.618846</td>\n",
       "      <td>0.116251</td>\n",
       "      <td>True</td>\n",
       "    </tr>\n",
       "    <tr>\n",
       "      <th>3330</th>\n",
       "      <td>3630</td>\n",
       "      <td>120.121849</td>\n",
       "      <td>4.620517</td>\n",
       "      <td>0.116251</td>\n",
       "      <td>True</td>\n",
       "    </tr>\n",
       "    <tr>\n",
       "      <th>3331</th>\n",
       "      <td>3631</td>\n",
       "      <td>120.121811</td>\n",
       "      <td>4.622181</td>\n",
       "      <td>0.116251</td>\n",
       "      <td>True</td>\n",
       "    </tr>\n",
       "    <tr>\n",
       "      <th>3332</th>\n",
       "      <td>3632</td>\n",
       "      <td>120.121788</td>\n",
       "      <td>4.623835</td>\n",
       "      <td>0.116251</td>\n",
       "      <td>True</td>\n",
       "    </tr>\n",
       "  </tbody>\n",
       "</table>\n",
       "<p>3333 rows × 5 columns</p>\n",
       "</div>"
      ],
      "text/plain": [
       "      Timesteps  Sensor_data  Test_loss  Threshold  Anomaly\n",
       "0           300    72.117302   0.076360   0.116251    False\n",
       "1           301    72.118553   0.076926   0.116251    False\n",
       "2           302    72.117607   0.077742   0.116251    False\n",
       "3           303    72.114029   0.078246   0.116251    False\n",
       "4           304    72.107956   0.078378   0.116251    False\n",
       "...         ...          ...        ...        ...      ...\n",
       "3328       3628   120.121956   4.617165   0.116251     True\n",
       "3329       3629   120.121895   4.618846   0.116251     True\n",
       "3330       3630   120.121849   4.620517   0.116251     True\n",
       "3331       3631   120.121811   4.622181   0.116251     True\n",
       "3332       3632   120.121788   4.623835   0.116251     True\n",
       "\n",
       "[3333 rows x 5 columns]"
      ]
     },
     "execution_count": 22,
     "metadata": {},
     "output_type": "execute_result"
    }
   ],
   "source": [
    "anomaly_df.head(3333)"
   ]
  },
  {
   "cell_type": "code",
   "execution_count": 25,
   "metadata": {},
   "outputs": [
    {
     "data": {
      "text/plain": [
       "0       0.076360\n",
       "1       0.076926\n",
       "2       0.077742\n",
       "3       0.078246\n",
       "4       0.078378\n",
       "          ...   \n",
       "5695    0.005199\n",
       "5696    0.005158\n",
       "5697    0.005128\n",
       "5698    0.005120\n",
       "5699    0.005097\n",
       "Name: Test_loss, Length: 5700, dtype: float64"
      ]
     },
     "execution_count": 25,
     "metadata": {},
     "output_type": "execute_result"
    }
   ],
   "source": [
    "anomaly_df['Test_loss']"
   ]
  },
  {
   "cell_type": "code",
   "execution_count": 26,
   "metadata": {},
   "outputs": [
    {
     "data": {
      "text/plain": [
       "0       72.117302\n",
       "1       72.118553\n",
       "2       72.117607\n",
       "3       72.114029\n",
       "4       72.107956\n",
       "          ...    \n",
       "5695    72.121811\n",
       "5696    72.121788\n",
       "5697    72.121773\n",
       "5698    72.121758\n",
       "5699    72.121750\n",
       "Name: Sensor_data, Length: 5700, dtype: float64"
      ]
     },
     "execution_count": 26,
     "metadata": {},
     "output_type": "execute_result"
    }
   ],
   "source": [
    "anomaly_df['Sensor_data']"
   ]
  },
  {
   "cell_type": "code",
   "execution_count": null,
   "metadata": {},
   "outputs": [],
   "source": []
  },
  {
   "cell_type": "code",
   "execution_count": null,
   "metadata": {},
   "outputs": [],
   "source": []
  },
  {
   "cell_type": "code",
   "execution_count": null,
   "metadata": {},
   "outputs": [],
   "source": []
  },
  {
   "cell_type": "code",
   "execution_count": 27,
   "metadata": {},
   "outputs": [
    {
     "data": {
      "image/png": "[encoded data removed]",
      "text/plain": [
       "<Figure size 432x288 with 2 Axes>"
      ]
     },
     "metadata": {
      "needs_background": "light"
     },
     "output_type": "display_data"
    }
   ],
   "source": [
    "# Plot the anomaly dataframe and test dataset\n",
    "fig, ax1 = plt.subplots()\n",
    "ax2 = ax1.twinx()\n",
    "\n",
    "color1 = 'blue'\n",
    "color2 = 'red'\n",
    "\n",
    "line1 = ax1.plot(anomaly_df.index, anomaly_df['Sensor_data'], color=color1, label = 'data')\n",
    "line2 = ax2.plot(anomaly_df.index, anomaly_df['Test_loss'], color=color2, label = 'Anomaly')\n",
    "line3 = ax2.plot(anomaly_df.index, anomaly_df['Threshold'], color='red', linestyle = 'dotted', label = 'Threshold val')\n",
    "\n",
    "#ax2.set_ylim([-0.1, 1.1])\n",
    "plt.title('Anomaly Detection Results')\n",
    "plt.xlabel('Test data')\n",
    "ax1.set_ylabel('Temperature')\n",
    "ax2.set_ylabel('Anomaly')\n",
    "\n",
    "ax2.spines['left'].set_color(color1)\n",
    "ax2.spines['right'].set_color(color2)\n",
    "ax1.tick_params(axis = 'y', labelcolor = color1)\n",
    "ax2.tick_params(axis = 'y', labelcolor = color2)\n",
    "\n",
    "lines = line1 + line2 + line3\n",
    "labels = [l.get_label() for l in lines]\n",
    "plt.legend(lines, labels, loc = \"upper left\")\n",
    "\n",
    "plt.show()\n"
   ]
  },
  {
   "cell_type": "code",
   "execution_count": 28,
   "metadata": {},
   "outputs": [
    {
     "data": {
      "text/html": [
       "<div>\n",
       "<style scoped>\n",
       "    .dataframe tbody tr th:only-of-type {\n",
       "        vertical-align: middle;\n",
       "    }\n",
       "\n",
       "    .dataframe tbody tr th {\n",
       "        vertical-align: top;\n",
       "    }\n",
       "\n",
       "    .dataframe thead th {\n",
       "        text-align: right;\n",
       "    }\n",
       "</style>\n",
       "<table border=\"1\" class=\"dataframe\">\n",
       "  <thead>\n",
       "    <tr style=\"text-align: right;\">\n",
       "      <th></th>\n",
       "      <th>Timesteps</th>\n",
       "      <th>Sensor_data</th>\n",
       "      <th>Test_loss</th>\n",
       "      <th>Threshold</th>\n",
       "      <th>Anomaly</th>\n",
       "    </tr>\n",
       "  </thead>\n",
       "  <tbody>\n",
       "    <tr>\n",
       "      <th>0</th>\n",
       "      <td>300</td>\n",
       "      <td>72.117302</td>\n",
       "      <td>0.076360</td>\n",
       "      <td>0.116251</td>\n",
       "      <td>False</td>\n",
       "    </tr>\n",
       "    <tr>\n",
       "      <th>1</th>\n",
       "      <td>301</td>\n",
       "      <td>72.118553</td>\n",
       "      <td>0.076926</td>\n",
       "      <td>0.116251</td>\n",
       "      <td>False</td>\n",
       "    </tr>\n",
       "    <tr>\n",
       "      <th>2</th>\n",
       "      <td>302</td>\n",
       "      <td>72.117607</td>\n",
       "      <td>0.077742</td>\n",
       "      <td>0.116251</td>\n",
       "      <td>False</td>\n",
       "    </tr>\n",
       "    <tr>\n",
       "      <th>3</th>\n",
       "      <td>303</td>\n",
       "      <td>72.114029</td>\n",
       "      <td>0.078246</td>\n",
       "      <td>0.116251</td>\n",
       "      <td>False</td>\n",
       "    </tr>\n",
       "    <tr>\n",
       "      <th>4</th>\n",
       "      <td>304</td>\n",
       "      <td>72.107956</td>\n",
       "      <td>0.078378</td>\n",
       "      <td>0.116251</td>\n",
       "      <td>False</td>\n",
       "    </tr>\n",
       "    <tr>\n",
       "      <th>...</th>\n",
       "      <td>...</td>\n",
       "      <td>...</td>\n",
       "      <td>...</td>\n",
       "      <td>...</td>\n",
       "      <td>...</td>\n",
       "    </tr>\n",
       "    <tr>\n",
       "      <th>3328</th>\n",
       "      <td>3628</td>\n",
       "      <td>120.121956</td>\n",
       "      <td>4.617165</td>\n",
       "      <td>0.116251</td>\n",
       "      <td>True</td>\n",
       "    </tr>\n",
       "    <tr>\n",
       "      <th>3329</th>\n",
       "      <td>3629</td>\n",
       "      <td>120.121895</td>\n",
       "      <td>4.618846</td>\n",
       "      <td>0.116251</td>\n",
       "      <td>True</td>\n",
       "    </tr>\n",
       "    <tr>\n",
       "      <th>3330</th>\n",
       "      <td>3630</td>\n",
       "      <td>120.121849</td>\n",
       "      <td>4.620517</td>\n",
       "      <td>0.116251</td>\n",
       "      <td>True</td>\n",
       "    </tr>\n",
       "    <tr>\n",
       "      <th>3331</th>\n",
       "      <td>3631</td>\n",
       "      <td>120.121811</td>\n",
       "      <td>4.622181</td>\n",
       "      <td>0.116251</td>\n",
       "      <td>True</td>\n",
       "    </tr>\n",
       "    <tr>\n",
       "      <th>3332</th>\n",
       "      <td>3632</td>\n",
       "      <td>120.121788</td>\n",
       "      <td>4.623835</td>\n",
       "      <td>0.116251</td>\n",
       "      <td>True</td>\n",
       "    </tr>\n",
       "  </tbody>\n",
       "</table>\n",
       "<p>3333 rows × 5 columns</p>\n",
       "</div>"
      ],
      "text/plain": [
       "      Timesteps  Sensor_data  Test_loss  Threshold  Anomaly\n",
       "0           300    72.117302   0.076360   0.116251    False\n",
       "1           301    72.118553   0.076926   0.116251    False\n",
       "2           302    72.117607   0.077742   0.116251    False\n",
       "3           303    72.114029   0.078246   0.116251    False\n",
       "4           304    72.107956   0.078378   0.116251    False\n",
       "...         ...          ...        ...        ...      ...\n",
       "3328       3628   120.121956   4.617165   0.116251     True\n",
       "3329       3629   120.121895   4.618846   0.116251     True\n",
       "3330       3630   120.121849   4.620517   0.116251     True\n",
       "3331       3631   120.121811   4.622181   0.116251     True\n",
       "3332       3632   120.121788   4.623835   0.116251     True\n",
       "\n",
       "[3333 rows x 5 columns]"
      ]
     },
     "execution_count": 28,
     "metadata": {},
     "output_type": "execute_result"
    }
   ],
   "source": [
    "anomaly_df.head(3333)"
   ]
  },
  {
   "cell_type": "code",
   "execution_count": 30,
   "metadata": {},
   "outputs": [
    {
     "ename": "NameError",
     "evalue": "name 'df' is not defined",
     "output_type": "error",
     "traceback": [
      "\u001b[0;31m---------------------------------------------------------------------------\u001b[0m",
      "\u001b[0;31mNameError\u001b[0m                                 Traceback (most recent call last)",
      "\u001b[0;32m<ipython-input-30-1f2207f8da4d>\u001b[0m in \u001b[0;36m<module>\u001b[0;34m\u001b[0m\n\u001b[1;32m     10\u001b[0m \u001b[0;34m\u001b[0m\u001b[0m\n\u001b[1;32m     11\u001b[0m     \u001b[0;31m# Get the anomaly status for this window\u001b[0m\u001b[0;34m\u001b[0m\u001b[0;34m\u001b[0m\u001b[0;34m\u001b[0m\u001b[0m\n\u001b[0;32m---> 12\u001b[0;31m     \u001b[0mwindow_anomalies\u001b[0m \u001b[0;34m=\u001b[0m \u001b[0mdf\u001b[0m\u001b[0;34m[\u001b[0m\u001b[0;34m'anomaly'\u001b[0m\u001b[0;34m]\u001b[0m\u001b[0;34m[\u001b[0m\u001b[0mstart_index\u001b[0m\u001b[0;34m:\u001b[0m\u001b[0mend_index\u001b[0m\u001b[0;34m]\u001b[0m\u001b[0;34m.\u001b[0m\u001b[0mvalues\u001b[0m\u001b[0;34m\u001b[0m\u001b[0;34m\u001b[0m\u001b[0m\n\u001b[0m\u001b[1;32m     13\u001b[0m \u001b[0;34m\u001b[0m\u001b[0m\n\u001b[1;32m     14\u001b[0m     \u001b[0;31m# Check if any anomalies were detected in this window\u001b[0m\u001b[0;34m\u001b[0m\u001b[0;34m\u001b[0m\u001b[0;34m\u001b[0m\u001b[0m\n",
      "\u001b[0;31mNameError\u001b[0m: name 'df' is not defined"
     ]
    }
   ],
   "source": [
    "# Initialize variables for anomaly detection\n",
    "window_size = 100\n",
    "num_windows = int(len(test_data) / window_size)\n",
    "consecutive_anomalies = 0\n",
    "\n",
    "# Check each window of test data for anomalies\n",
    "for i in range(num_windows):\n",
    "    start_index = i * window_size\n",
    "    end_index = start_index + window_size\n",
    "    \n",
    "    # Get the anomaly status for this window\n",
    "    window_anomalies = df['anomaly'][start_index:end_index].values\n",
    "    \n",
    "    # Check if any anomalies were detected in this window\n",
    "    if window_anomalies.sum() == 0:\n",
    "        print(f\"Window {i+1}: Normal Operation\")\n",
    "        consecutive_anomalies = 0\n",
    "    else:\n",
    "        print(f\"Window {i+1}: Anomaly Detected\")\n",
    "        consecutive_anomalies += 1\n",
    "        \n",
    "        # Check if three consecutive windows had anomalies\n",
    "        if consecutive_anomalies >= 3:\n",
    "            print(\"Fault Detected!\")\n",
    "            consecutive_anomalies = 3"
   ]
  },
  {
   "cell_type": "code",
   "execution_count": null,
   "metadata": {},
   "outputs": [],
   "source": []
  }
 ],
 "metadata": {
  "kernelspec": {
   "display_name": "Python 3",
   "language": "python",
   "name": "python3"
  },
  "language_info": {
   "codemirror_mode": {
    "name": "ipython",
    "version": 3
   },
   "file_extension": ".py",
   "mimetype": "text/x-python",
   "name": "python",
   "nbconvert_exporter": "python",
   "pygments_lexer": "ipython3",
   "version": "3.7.6"
  }
 },
 "nbformat": 4,
 "nbformat_minor": 4
}
