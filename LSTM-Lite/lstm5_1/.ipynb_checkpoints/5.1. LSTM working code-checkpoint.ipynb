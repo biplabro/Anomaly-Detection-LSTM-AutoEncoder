{
 "cells": [
  {
   "cell_type": "code",
   "execution_count": 1,
   "metadata": {},
   "outputs": [],
   "source": [
    "# import libraries\n",
    "#import numpy as np\n",
    "#import pandas as pd\n",
    "#import tensorflow as tf\n",
    "#from tensorflow.keras.models import Sequential\n",
    "#from tensorflow.keras.layers import LSTM, Dense, RepeatVector, TimeDistributed\n",
    "#import matplotlib.pyplot as plt\n",
    "\n",
    "\n",
    "# import libraries\n",
    "import os\n",
    "os.environ['TF_XLA_FLAGS'] = '--tf_xla_enable_xla_devices' # for tensorflow\n",
    "import numpy as np\n",
    "import pandas as pd\n",
    "import matplotlib.pyplot as plt\n",
    "\n",
    "import tensorflow as tf\n",
    "from datetime import datetime\n",
    "from tensorflow import keras\n",
    "from sklearn.preprocessing import StandardScaler\n",
    "from tensorflow.keras.models import Sequential\n",
    "from tensorflow.keras.layers import Dense, LSTM, Dropout, RepeatVector, TimeDistributed"
   ]
  },
  {
   "cell_type": "code",
   "execution_count": 2,
   "metadata": {},
   "outputs": [],
   "source": [
    "# Set the random seed for replicated results\n",
    "np.random.seed(42)\n",
    "tf.random.set_seed(42)"
   ]
  },
  {
   "cell_type": "code",
   "execution_count": 3,
   "metadata": {},
   "outputs": [],
   "source": [
    "# Load data from CSV file\n",
    "data = pd.read_csv('dataset.csv', header=None)\n",
    "#data = data.values"
   ]
  },
  {
   "cell_type": "code",
   "execution_count": 4,
   "metadata": {},
   "outputs": [
    {
     "data": {
      "image/png": "[encoded data removed]",
      "text/plain": [
       "<Figure size 432x288 with 1 Axes>"
      ]
     },
     "metadata": {
      "needs_background": "light"
     },
     "output_type": "display_data"
    }
   ],
   "source": [
    "#plot the data \n",
    "plt.plot(data,label = 'x= datapoints \\n y= temperature')\n",
    "plt.legend()\n",
    "plt.show()"
   ]
  },
  {
   "cell_type": "code",
   "execution_count": 5,
   "metadata": {},
   "outputs": [
    {
     "data": {
      "text/plain": [
       "((10000, 1), (6000, 1))"
      ]
     },
     "execution_count": 5,
     "metadata": {},
     "output_type": "execute_result"
    }
   ],
   "source": [
    "train_data = data.iloc[:10000]\n",
    "test_data = data.iloc[10000:]\n",
    "train_data.shape, test_data.shape #returns (rows, columns)"
   ]
  },
  {
   "cell_type": "code",
   "execution_count": 6,
   "metadata": {},
   "outputs": [],
   "source": [
    "### scale the data\n",
    "scaler = StandardScaler()\n",
    "scaler = scaler.fit(np.array(train_data).reshape(-1,1))\n",
    "train_data = scaler.transform(np.array(train_data).reshape(-1,1))\n",
    "test_data = scaler.transform(np.array(test_data).reshape(-1,1))\n"
   ]
  },
  {
   "cell_type": "code",
   "execution_count": 9,
   "metadata": {},
   "outputs": [],
   "source": [
    "### create sequence\n",
    "TIME_STEPS = 200\n",
    "\n",
    "def create_sequences(dataset, time_steps=TIME_STEPS):\n",
    "    \"\"\"\n",
    "    Creates sequences from the input data with the given time steps\n",
    "    \"\"\"\n",
    "    X_out = []\n",
    "    y_out = []\n",
    "    for i in range(len(dataset) - time_steps):\n",
    "        X_out.append(dataset[i:i+time_steps])\n",
    "        y_out.append(dataset[i+time_steps])\n",
    "    return np.array(X_out), np.array(y_out)\n",
    "\n"
   ]
  },
  {
   "cell_type": "code",
   "execution_count": 12,
   "metadata": {},
   "outputs": [
    {
     "name": "stdout",
     "output_type": "stream",
     "text": [
      "Training input shape:  (9800, 200, 1)\n",
      "Testing input shape:  (5800, 200, 1)\n"
     ]
    }
   ],
   "source": [
    "# Assuming you have a single column univariate data called 'data'\n",
    "# We can create sequences with a specified number of time steps using the create_sequences function\n",
    "\n",
    "X_train, y_train = create_sequences(train_data, TIME_STEPS)\n",
    "X_test, y_test = create_sequences(test_data, TIME_STEPS)\n",
    "\n",
    "# Replace NaN values in X_train with 0\n",
    "#X_train = np.nan_to_num(X_train, nan=0)\n",
    "#y_train = np.nan_to_num(X_test, nan=0)\n",
    "#X_test = np.nan_to_num(y_train, nan=0)\n",
    "#y_test = np.nan_to_num(y_test, nan=0)\n",
    "\n",
    "\n",
    "# output format (number of sequence, length of batches, number of features)\n",
    "print(\"Training input shape: \", X_train.shape)\n",
    "print(\"Testing input shape: \", X_test.shape)"
   ]
  },
  {
   "cell_type": "code",
   "execution_count": 13,
   "metadata": {},
   "outputs": [],
   "source": [
    "# Define LSTM autoencoder model\n",
    "model = Sequential()\n",
    "model.add(LSTM(64, activation='tanh', input_shape=(TIME_STEPS, 1)))\n",
    "model.add(Dropout(rate=0.3))\n",
    "model.add(RepeatVector(TIME_STEPS))\n",
    "model.add(LSTM(64, activation='tanh', return_sequences=True))\n",
    "model.add(Dropout(rate=0.3))\n",
    "model.add(TimeDistributed(Dense(1)))\n",
    "model.compile(optimizer=tf.optimizers.Adam(learning_rate=0.0001), loss='mse')\n",
    "\n"
   ]
  },
  {
   "cell_type": "code",
   "execution_count": 14,
   "metadata": {},
   "outputs": [
    {
     "name": "stdout",
     "output_type": "stream",
     "text": [
      "Epoch 1/16\n",
      "49/49 [==============================] - 13s 257ms/step - loss: 0.4440 - val_loss: 5.6815\n",
      "Epoch 2/16\n",
      "49/49 [==============================] - 12s 248ms/step - loss: 0.1434 - val_loss: 5.3657\n",
      "Epoch 3/16\n",
      "49/49 [==============================] - 12s 243ms/step - loss: 0.0761 - val_loss: 5.3939\n",
      "Epoch 4/16\n",
      "49/49 [==============================] - 12s 248ms/step - loss: 0.0558 - val_loss: 5.3522\n",
      "Epoch 5/16\n",
      "49/49 [==============================] - 12s 254ms/step - loss: 0.0468 - val_loss: 5.2705\n",
      "Epoch 6/16\n",
      "49/49 [==============================] - 12s 250ms/step - loss: 0.0421 - val_loss: 5.1514\n",
      "Epoch 7/16\n",
      "49/49 [==============================] - 12s 250ms/step - loss: 0.0384 - val_loss: 5.0649\n",
      "Epoch 8/16\n",
      "49/49 [==============================] - 12s 246ms/step - loss: 0.0367 - val_loss: 4.9919\n",
      "Epoch 9/16\n",
      "49/49 [==============================] - 12s 249ms/step - loss: 0.0349 - val_loss: 4.9226\n",
      "Epoch 10/16\n",
      "49/49 [==============================] - 12s 246ms/step - loss: 0.0336 - val_loss: 4.8776\n",
      "Epoch 11/16\n",
      "49/49 [==============================] - 12s 246ms/step - loss: 0.0320 - val_loss: 4.8450\n",
      "Epoch 12/16\n",
      "49/49 [==============================] - 12s 248ms/step - loss: 0.0321 - val_loss: 4.8017\n",
      "Epoch 13/16\n",
      "49/49 [==============================] - 12s 248ms/step - loss: 0.0310 - val_loss: 4.7488\n",
      "Epoch 14/16\n",
      "49/49 [==============================] - 12s 249ms/step - loss: 0.0300 - val_loss: 4.7375\n",
      "Epoch 15/16\n",
      "49/49 [==============================] - 12s 246ms/step - loss: 0.0296 - val_loss: 4.7097\n",
      "Epoch 16/16\n",
      "49/49 [==============================] - 12s 244ms/step - loss: 0.0281 - val_loss: 4.6766\n"
     ]
    }
   ],
   "source": [
    "#from tensorflow.keras.callbacks import EarlyStopping\n",
    "#early_stopping = EarlyStopping(monitor='val_loss', patience=10, mode='min')\n",
    "\n",
    "\n",
    "# Train the model and save the history\n",
    "history = model.fit(X_train, X_train, epochs=16, batch_size=200, validation_data=(X_test, X_test), verbose=1,)\n"
   ]
  },
  {
   "cell_type": "code",
   "execution_count": 16,
   "metadata": {},
   "outputs": [
    {
     "data": {
      "image/png": "[encoded data removed]",
      "text/plain": [
       "<Figure size 432x288 with 1 Axes>"
      ]
     },
     "metadata": {
      "needs_background": "light"
     },
     "output_type": "display_data"
    }
   ],
   "source": [
    "### Plot Training - Validation loss\n",
    "plt.plot(history.history['loss'], label='Training loss')\n",
    "plt.plot(history.history['val_loss'], label='Validation loss')\n",
    "plt.xlabel('Epoch')\n",
    "plt.ylabel('Loss')\n",
    "plt.legend();\n"
   ]
  },
  {
   "cell_type": "code",
   "execution_count": null,
   "metadata": {},
   "outputs": [],
   "source": []
  },
  {
   "cell_type": "code",
   "execution_count": null,
   "metadata": {},
   "outputs": [],
   "source": []
  },
  {
   "cell_type": "code",
   "execution_count": null,
   "metadata": {},
   "outputs": [],
   "source": []
  },
  {
   "cell_type": "code",
   "execution_count": null,
   "metadata": {},
   "outputs": [],
   "source": []
  },
  {
   "cell_type": "code",
   "execution_count": 17,
   "metadata": {},
   "outputs": [
    {
     "name": "stdout",
     "output_type": "stream",
     "text": [
      "307/307 [==============================] - 8s 27ms/step\n"
     ]
    }
   ],
   "source": [
    "# Make predictions on the train dataset\n",
    "X_train_pred = model.predict(X_train, verbose=1)\n"
   ]
  },
  {
   "cell_type": "code",
   "execution_count": 18,
   "metadata": {},
   "outputs": [],
   "source": [
    "# Calculate MAE loss on the train dataset\n",
    "train_mae_loss = np.mean(np.abs(X_train_pred - X_train), axis=1)\n",
    "# Flatten the train_mae_loss array\n",
    "train_mae_loss = train_mae_loss.flatten()\n"
   ]
  },
  {
   "cell_type": "code",
   "execution_count": 19,
   "metadata": {},
   "outputs": [
    {
     "data": {
      "image/png": "[encoded data removed]",
      "text/plain": [
       "<Figure size 432x288 with 1 Axes>"
      ]
     },
     "metadata": {
      "needs_background": "light"
     },
     "output_type": "display_data"
    }
   ],
   "source": [
    "# Visualize MAE loss on the train dataset\n",
    "plt.hist(train_mae_loss, bins=50)\n",
    "plt.xlabel('Train MAE loss')\n",
    "plt.ylabel('Number of Samples')\n",
    "plt.show()"
   ]
  },
  {
   "cell_type": "code",
   "execution_count": 20,
   "metadata": {},
   "outputs": [
    {
     "name": "stdout",
     "output_type": "stream",
     "text": [
      "182/182 [==============================] - 5s 25ms/step\n"
     ]
    }
   ],
   "source": [
    "# Make predictions on the test dataset\n",
    "X_test_pred = model.predict(X_test, verbose=1)\n"
   ]
  },
  {
   "cell_type": "code",
   "execution_count": 21,
   "metadata": {},
   "outputs": [],
   "source": [
    "# Calculate MAE loss on the test dataset\n",
    "test_mae_loss = np.mean(np.abs(X_test_pred - X_test), axis=1)\n"
   ]
  },
  {
   "cell_type": "code",
   "execution_count": 22,
   "metadata": {},
   "outputs": [
    {
     "data": {
      "image/png": "[encoded data removed]",
      "text/plain": [
       "<Figure size 432x288 with 1 Axes>"
      ]
     },
     "metadata": {
      "needs_background": "light"
     },
     "output_type": "display_data"
    }
   ],
   "source": [
    "# Visualize MAE loss on the test dataset\n",
    "plt.hist(test_mae_loss, bins=50)\n",
    "plt.xlabel('Test MAE loss')\n",
    "plt.ylabel('Number of Samples')\n",
    "plt.show()"
   ]
  },
  {
   "cell_type": "code",
   "execution_count": 23,
   "metadata": {},
   "outputs": [],
   "source": [
    "# Calculate the reconstruction error and define the threshold for anomaly detection\n",
    "threshold = 0.5\n",
    "error = np.mean(np.abs(X_test_pred - X_test), axis=1)\n"
   ]
  },
  {
   "cell_type": "code",
   "execution_count": 30,
   "metadata": {},
   "outputs": [
    {
     "ename": "ValueError",
     "evalue": "Must pass 2-d input",
     "output_type": "error",
     "traceback": [
      "\u001b[0;31m---------------------------------------------------------------------------\u001b[0m",
      "\u001b[0;31mValueError\u001b[0m                                Traceback (most recent call last)",
      "\u001b[0;32m<ipython-input-30-8d43cb8d34ab>\u001b[0m in \u001b[0;36m<module>\u001b[0;34m\u001b[0m\n\u001b[0;32m----> 1\u001b[0;31m \u001b[0mdf\u001b[0m \u001b[0;34m=\u001b[0m \u001b[0mpd\u001b[0m\u001b[0;34m.\u001b[0m\u001b[0mDataFrame\u001b[0m\u001b[0;34m(\u001b[0m\u001b[0mX_test\u001b[0m\u001b[0;34m)\u001b[0m\u001b[0;34m\u001b[0m\u001b[0;34m\u001b[0m\u001b[0m\n\u001b[0m\u001b[1;32m      2\u001b[0m \u001b[0;31m#df = pd.DataFrame({'data': test_data[:,0,0], 'error': error[:,0]})\u001b[0m\u001b[0;34m\u001b[0m\u001b[0;34m\u001b[0m\u001b[0;34m\u001b[0m\u001b[0m\n\u001b[1;32m      3\u001b[0m \u001b[0manomaly_df\u001b[0m\u001b[0;34m[\u001b[0m\u001b[0;34m'loss'\u001b[0m\u001b[0;34m]\u001b[0m \u001b[0;34m=\u001b[0m \u001b[0mtest_mae_loss\u001b[0m\u001b[0;34m\u001b[0m\u001b[0;34m\u001b[0m\u001b[0m\n\u001b[1;32m      4\u001b[0m \u001b[0manomaly_df\u001b[0m\u001b[0;34m[\u001b[0m\u001b[0;34m'threshold'\u001b[0m\u001b[0;34m]\u001b[0m \u001b[0;34m=\u001b[0m \u001b[0mthreshold\u001b[0m\u001b[0;34m\u001b[0m\u001b[0;34m\u001b[0m\u001b[0m\n\u001b[1;32m      5\u001b[0m \u001b[0manomaly_df\u001b[0m\u001b[0;34m[\u001b[0m\u001b[0;34m'anomaly'\u001b[0m\u001b[0;34m]\u001b[0m \u001b[0;34m=\u001b[0m \u001b[0manomaly_df\u001b[0m\u001b[0;34m[\u001b[0m\u001b[0;34m'loss'\u001b[0m\u001b[0;34m]\u001b[0m \u001b[0;34m>\u001b[0m \u001b[0manomaly_df\u001b[0m\u001b[0;34m[\u001b[0m\u001b[0;34m'threshold'\u001b[0m\u001b[0;34m]\u001b[0m\u001b[0;34m\u001b[0m\u001b[0;34m\u001b[0m\u001b[0m\n",
      "\u001b[0;32m~/anaconda3/envs/student/lib/python3.7/site-packages/pandas/core/frame.py\u001b[0m in \u001b[0;36m__init__\u001b[0;34m(self, data, index, columns, dtype, copy)\u001b[0m\n\u001b[1;32m    462\u001b[0m                 \u001b[0mmgr\u001b[0m \u001b[0;34m=\u001b[0m \u001b[0minit_dict\u001b[0m\u001b[0;34m(\u001b[0m\u001b[0;34m{\u001b[0m\u001b[0mdata\u001b[0m\u001b[0;34m.\u001b[0m\u001b[0mname\u001b[0m\u001b[0;34m:\u001b[0m \u001b[0mdata\u001b[0m\u001b[0;34m}\u001b[0m\u001b[0;34m,\u001b[0m \u001b[0mindex\u001b[0m\u001b[0;34m,\u001b[0m \u001b[0mcolumns\u001b[0m\u001b[0;34m,\u001b[0m \u001b[0mdtype\u001b[0m\u001b[0;34m=\u001b[0m\u001b[0mdtype\u001b[0m\u001b[0;34m)\u001b[0m\u001b[0;34m\u001b[0m\u001b[0;34m\u001b[0m\u001b[0m\n\u001b[1;32m    463\u001b[0m             \u001b[0;32melse\u001b[0m\u001b[0;34m:\u001b[0m\u001b[0;34m\u001b[0m\u001b[0;34m\u001b[0m\u001b[0m\n\u001b[0;32m--> 464\u001b[0;31m                 \u001b[0mmgr\u001b[0m \u001b[0;34m=\u001b[0m \u001b[0minit_ndarray\u001b[0m\u001b[0;34m(\u001b[0m\u001b[0mdata\u001b[0m\u001b[0;34m,\u001b[0m \u001b[0mindex\u001b[0m\u001b[0;34m,\u001b[0m \u001b[0mcolumns\u001b[0m\u001b[0;34m,\u001b[0m \u001b[0mdtype\u001b[0m\u001b[0;34m=\u001b[0m\u001b[0mdtype\u001b[0m\u001b[0;34m,\u001b[0m \u001b[0mcopy\u001b[0m\u001b[0;34m=\u001b[0m\u001b[0mcopy\u001b[0m\u001b[0;34m)\u001b[0m\u001b[0;34m\u001b[0m\u001b[0;34m\u001b[0m\u001b[0m\n\u001b[0m\u001b[1;32m    465\u001b[0m \u001b[0;34m\u001b[0m\u001b[0m\n\u001b[1;32m    466\u001b[0m         \u001b[0;31m# For data is list-like, or Iterable (will consume into list)\u001b[0m\u001b[0;34m\u001b[0m\u001b[0;34m\u001b[0m\u001b[0;34m\u001b[0m\u001b[0m\n",
      "\u001b[0;32m~/anaconda3/envs/student/lib/python3.7/site-packages/pandas/core/internals/construction.py\u001b[0m in \u001b[0;36minit_ndarray\u001b[0;34m(values, index, columns, dtype, copy)\u001b[0m\n\u001b[1;32m    167\u001b[0m     \u001b[0;31m# by definition an array here\u001b[0m\u001b[0;34m\u001b[0m\u001b[0;34m\u001b[0m\u001b[0;34m\u001b[0m\u001b[0m\n\u001b[1;32m    168\u001b[0m     \u001b[0;31m# the dtypes will be coerced to a single dtype\u001b[0m\u001b[0;34m\u001b[0m\u001b[0;34m\u001b[0m\u001b[0;34m\u001b[0m\u001b[0m\n\u001b[0;32m--> 169\u001b[0;31m     \u001b[0mvalues\u001b[0m \u001b[0;34m=\u001b[0m \u001b[0mprep_ndarray\u001b[0m\u001b[0;34m(\u001b[0m\u001b[0mvalues\u001b[0m\u001b[0;34m,\u001b[0m \u001b[0mcopy\u001b[0m\u001b[0;34m=\u001b[0m\u001b[0mcopy\u001b[0m\u001b[0;34m)\u001b[0m\u001b[0;34m\u001b[0m\u001b[0;34m\u001b[0m\u001b[0m\n\u001b[0m\u001b[1;32m    170\u001b[0m \u001b[0;34m\u001b[0m\u001b[0m\n\u001b[1;32m    171\u001b[0m     \u001b[0;32mif\u001b[0m \u001b[0mdtype\u001b[0m \u001b[0;32mis\u001b[0m \u001b[0;32mnot\u001b[0m \u001b[0;32mNone\u001b[0m\u001b[0;34m:\u001b[0m\u001b[0;34m\u001b[0m\u001b[0;34m\u001b[0m\u001b[0m\n",
      "\u001b[0;32m~/anaconda3/envs/student/lib/python3.7/site-packages/pandas/core/internals/construction.py\u001b[0m in \u001b[0;36mprep_ndarray\u001b[0;34m(values, copy)\u001b[0m\n\u001b[1;32m    293\u001b[0m         \u001b[0mvalues\u001b[0m \u001b[0;34m=\u001b[0m \u001b[0mvalues\u001b[0m\u001b[0;34m.\u001b[0m\u001b[0mreshape\u001b[0m\u001b[0;34m(\u001b[0m\u001b[0;34m(\u001b[0m\u001b[0mvalues\u001b[0m\u001b[0;34m.\u001b[0m\u001b[0mshape\u001b[0m\u001b[0;34m[\u001b[0m\u001b[0;36m0\u001b[0m\u001b[0;34m]\u001b[0m\u001b[0;34m,\u001b[0m \u001b[0;36m1\u001b[0m\u001b[0;34m)\u001b[0m\u001b[0;34m)\u001b[0m\u001b[0;34m\u001b[0m\u001b[0;34m\u001b[0m\u001b[0m\n\u001b[1;32m    294\u001b[0m     \u001b[0;32melif\u001b[0m \u001b[0mvalues\u001b[0m\u001b[0;34m.\u001b[0m\u001b[0mndim\u001b[0m \u001b[0;34m!=\u001b[0m \u001b[0;36m2\u001b[0m\u001b[0;34m:\u001b[0m\u001b[0;34m\u001b[0m\u001b[0;34m\u001b[0m\u001b[0m\n\u001b[0;32m--> 295\u001b[0;31m         \u001b[0;32mraise\u001b[0m \u001b[0mValueError\u001b[0m\u001b[0;34m(\u001b[0m\u001b[0;34m\"Must pass 2-d input\"\u001b[0m\u001b[0;34m)\u001b[0m\u001b[0;34m\u001b[0m\u001b[0;34m\u001b[0m\u001b[0m\n\u001b[0m\u001b[1;32m    296\u001b[0m \u001b[0;34m\u001b[0m\u001b[0m\n\u001b[1;32m    297\u001b[0m     \u001b[0;32mreturn\u001b[0m \u001b[0mvalues\u001b[0m\u001b[0;34m\u001b[0m\u001b[0;34m\u001b[0m\u001b[0m\n",
      "\u001b[0;31mValueError\u001b[0m: Must pass 2-d input"
     ]
    }
   ],
   "source": [
    "df = pd.DataFrame(X_test)\n",
    "#df = pd.DataFrame({'data': test_data[:,0,0], 'error': error[:,0]})\n",
    "anomaly_df['loss'] = test_mae_loss\n",
    "anomaly_df['threshold'] = threshold\n",
    "anomaly_df['anomaly'] = anomaly_df['loss'] > anomaly_df['threshold']"
   ]
  },
  {
   "cell_type": "code",
   "execution_count": null,
   "metadata": {},
   "outputs": [],
   "source": [
    "# Create a dataframe of the test dataset and anomaly detection results\n",
    "df = pd.DataFrame({'data': test_data[:,0,0], 'error': error[:,0]})\n",
    "df['loss'] = test_mae_loss\n",
    "df['anomaly'] = df['error'] > threshold\n",
    "\n",
    "# Set the threshold value for the test data, decided from test MAE histogram\n",
    "threshold_value = 0.05\n",
    "\n",
    "# Create a new column named \"threshold\" and set all values to threshold_value\n",
    "num_samples = test_data.shape[0]\n",
    "df['threshold'] = np.full(num_samples, threshold_value)"
   ]
  },
  {
   "cell_type": "code",
   "execution_count": 24,
   "metadata": {},
   "outputs": [
    {
     "ename": "ValueError",
     "evalue": "Must pass 2-d input",
     "output_type": "error",
     "traceback": [
      "\u001b[0;31m---------------------------------------------------------------------------\u001b[0m",
      "\u001b[0;31mValueError\u001b[0m                                Traceback (most recent call last)",
      "\u001b[0;32m<ipython-input-24-3adcc601d4a9>\u001b[0m in \u001b[0;36m<module>\u001b[0;34m\u001b[0m\n\u001b[1;32m      1\u001b[0m \u001b[0;31m# create dataframe containing the following labels\u001b[0m\u001b[0;34m\u001b[0m\u001b[0;34m\u001b[0m\u001b[0;34m\u001b[0m\u001b[0m\n\u001b[0;32m----> 2\u001b[0;31m \u001b[0manomaly_df\u001b[0m \u001b[0;34m=\u001b[0m \u001b[0mpd\u001b[0m\u001b[0;34m.\u001b[0m\u001b[0mDataFrame\u001b[0m\u001b[0;34m(\u001b[0m\u001b[0mX_test\u001b[0m\u001b[0;34m[\u001b[0m\u001b[0mTIME_STEPS\u001b[0m\u001b[0;34m:\u001b[0m\u001b[0;34m]\u001b[0m\u001b[0;34m)\u001b[0m\u001b[0;34m\u001b[0m\u001b[0;34m\u001b[0m\u001b[0m\n\u001b[0m\u001b[1;32m      3\u001b[0m \u001b[0manomaly_df\u001b[0m\u001b[0;34m[\u001b[0m\u001b[0;34m'loss'\u001b[0m\u001b[0;34m]\u001b[0m \u001b[0;34m=\u001b[0m \u001b[0mtest_mae_loss\u001b[0m\u001b[0;34m\u001b[0m\u001b[0;34m\u001b[0m\u001b[0m\n\u001b[1;32m      4\u001b[0m \u001b[0manomaly_df\u001b[0m\u001b[0;34m[\u001b[0m\u001b[0;34m'threshold'\u001b[0m\u001b[0;34m]\u001b[0m \u001b[0;34m=\u001b[0m \u001b[0mthreshold\u001b[0m\u001b[0;34m\u001b[0m\u001b[0;34m\u001b[0m\u001b[0m\n\u001b[1;32m      5\u001b[0m \u001b[0manomaly_df\u001b[0m\u001b[0;34m[\u001b[0m\u001b[0;34m'anomaly'\u001b[0m\u001b[0;34m]\u001b[0m \u001b[0;34m=\u001b[0m \u001b[0manomaly_df\u001b[0m\u001b[0;34m[\u001b[0m\u001b[0;34m'loss'\u001b[0m\u001b[0;34m]\u001b[0m \u001b[0;34m>\u001b[0m \u001b[0manomaly_df\u001b[0m\u001b[0;34m[\u001b[0m\u001b[0;34m'threshold'\u001b[0m\u001b[0;34m]\u001b[0m\u001b[0;34m\u001b[0m\u001b[0;34m\u001b[0m\u001b[0m\n",
      "\u001b[0;32m~/anaconda3/envs/student/lib/python3.7/site-packages/pandas/core/frame.py\u001b[0m in \u001b[0;36m__init__\u001b[0;34m(self, data, index, columns, dtype, copy)\u001b[0m\n\u001b[1;32m    462\u001b[0m                 \u001b[0mmgr\u001b[0m \u001b[0;34m=\u001b[0m \u001b[0minit_dict\u001b[0m\u001b[0;34m(\u001b[0m\u001b[0;34m{\u001b[0m\u001b[0mdata\u001b[0m\u001b[0;34m.\u001b[0m\u001b[0mname\u001b[0m\u001b[0;34m:\u001b[0m \u001b[0mdata\u001b[0m\u001b[0;34m}\u001b[0m\u001b[0;34m,\u001b[0m \u001b[0mindex\u001b[0m\u001b[0;34m,\u001b[0m \u001b[0mcolumns\u001b[0m\u001b[0;34m,\u001b[0m \u001b[0mdtype\u001b[0m\u001b[0;34m=\u001b[0m\u001b[0mdtype\u001b[0m\u001b[0;34m)\u001b[0m\u001b[0;34m\u001b[0m\u001b[0;34m\u001b[0m\u001b[0m\n\u001b[1;32m    463\u001b[0m             \u001b[0;32melse\u001b[0m\u001b[0;34m:\u001b[0m\u001b[0;34m\u001b[0m\u001b[0;34m\u001b[0m\u001b[0m\n\u001b[0;32m--> 464\u001b[0;31m                 \u001b[0mmgr\u001b[0m \u001b[0;34m=\u001b[0m \u001b[0minit_ndarray\u001b[0m\u001b[0;34m(\u001b[0m\u001b[0mdata\u001b[0m\u001b[0;34m,\u001b[0m \u001b[0mindex\u001b[0m\u001b[0;34m,\u001b[0m \u001b[0mcolumns\u001b[0m\u001b[0;34m,\u001b[0m \u001b[0mdtype\u001b[0m\u001b[0;34m=\u001b[0m\u001b[0mdtype\u001b[0m\u001b[0;34m,\u001b[0m \u001b[0mcopy\u001b[0m\u001b[0;34m=\u001b[0m\u001b[0mcopy\u001b[0m\u001b[0;34m)\u001b[0m\u001b[0;34m\u001b[0m\u001b[0;34m\u001b[0m\u001b[0m\n\u001b[0m\u001b[1;32m    465\u001b[0m \u001b[0;34m\u001b[0m\u001b[0m\n\u001b[1;32m    466\u001b[0m         \u001b[0;31m# For data is list-like, or Iterable (will consume into list)\u001b[0m\u001b[0;34m\u001b[0m\u001b[0;34m\u001b[0m\u001b[0;34m\u001b[0m\u001b[0m\n",
      "\u001b[0;32m~/anaconda3/envs/student/lib/python3.7/site-packages/pandas/core/internals/construction.py\u001b[0m in \u001b[0;36minit_ndarray\u001b[0;34m(values, index, columns, dtype, copy)\u001b[0m\n\u001b[1;32m    167\u001b[0m     \u001b[0;31m# by definition an array here\u001b[0m\u001b[0;34m\u001b[0m\u001b[0;34m\u001b[0m\u001b[0;34m\u001b[0m\u001b[0m\n\u001b[1;32m    168\u001b[0m     \u001b[0;31m# the dtypes will be coerced to a single dtype\u001b[0m\u001b[0;34m\u001b[0m\u001b[0;34m\u001b[0m\u001b[0;34m\u001b[0m\u001b[0m\n\u001b[0;32m--> 169\u001b[0;31m     \u001b[0mvalues\u001b[0m \u001b[0;34m=\u001b[0m \u001b[0mprep_ndarray\u001b[0m\u001b[0;34m(\u001b[0m\u001b[0mvalues\u001b[0m\u001b[0;34m,\u001b[0m \u001b[0mcopy\u001b[0m\u001b[0;34m=\u001b[0m\u001b[0mcopy\u001b[0m\u001b[0;34m)\u001b[0m\u001b[0;34m\u001b[0m\u001b[0;34m\u001b[0m\u001b[0m\n\u001b[0m\u001b[1;32m    170\u001b[0m \u001b[0;34m\u001b[0m\u001b[0m\n\u001b[1;32m    171\u001b[0m     \u001b[0;32mif\u001b[0m \u001b[0mdtype\u001b[0m \u001b[0;32mis\u001b[0m \u001b[0;32mnot\u001b[0m \u001b[0;32mNone\u001b[0m\u001b[0;34m:\u001b[0m\u001b[0;34m\u001b[0m\u001b[0;34m\u001b[0m\u001b[0m\n",
      "\u001b[0;32m~/anaconda3/envs/student/lib/python3.7/site-packages/pandas/core/internals/construction.py\u001b[0m in \u001b[0;36mprep_ndarray\u001b[0;34m(values, copy)\u001b[0m\n\u001b[1;32m    293\u001b[0m         \u001b[0mvalues\u001b[0m \u001b[0;34m=\u001b[0m \u001b[0mvalues\u001b[0m\u001b[0;34m.\u001b[0m\u001b[0mreshape\u001b[0m\u001b[0;34m(\u001b[0m\u001b[0;34m(\u001b[0m\u001b[0mvalues\u001b[0m\u001b[0;34m.\u001b[0m\u001b[0mshape\u001b[0m\u001b[0;34m[\u001b[0m\u001b[0;36m0\u001b[0m\u001b[0;34m]\u001b[0m\u001b[0;34m,\u001b[0m \u001b[0;36m1\u001b[0m\u001b[0;34m)\u001b[0m\u001b[0;34m)\u001b[0m\u001b[0;34m\u001b[0m\u001b[0;34m\u001b[0m\u001b[0m\n\u001b[1;32m    294\u001b[0m     \u001b[0;32melif\u001b[0m \u001b[0mvalues\u001b[0m\u001b[0;34m.\u001b[0m\u001b[0mndim\u001b[0m \u001b[0;34m!=\u001b[0m \u001b[0;36m2\u001b[0m\u001b[0;34m:\u001b[0m\u001b[0;34m\u001b[0m\u001b[0;34m\u001b[0m\u001b[0m\n\u001b[0;32m--> 295\u001b[0;31m         \u001b[0;32mraise\u001b[0m \u001b[0mValueError\u001b[0m\u001b[0;34m(\u001b[0m\u001b[0;34m\"Must pass 2-d input\"\u001b[0m\u001b[0;34m)\u001b[0m\u001b[0;34m\u001b[0m\u001b[0;34m\u001b[0m\u001b[0m\n\u001b[0m\u001b[1;32m    296\u001b[0m \u001b[0;34m\u001b[0m\u001b[0m\n\u001b[1;32m    297\u001b[0m     \u001b[0;32mreturn\u001b[0m \u001b[0mvalues\u001b[0m\u001b[0;34m\u001b[0m\u001b[0;34m\u001b[0m\u001b[0m\n",
      "\u001b[0;31mValueError\u001b[0m: Must pass 2-d input"
     ]
    }
   ],
   "source": [
    "# create dataframe containing the following labels\n",
    "anomaly_df = pd.DataFrame(X_test[TIME_STEPS:])\n",
    "anomaly_df['loss'] = test_mae_loss\n",
    "anomaly_df['threshold'] = threshold\n",
    "anomaly_df['anomaly'] = anomaly_df['loss'] > anomaly_df['threshold']"
   ]
  },
  {
   "cell_type": "code",
   "execution_count": null,
   "metadata": {},
   "outputs": [],
   "source": [
    "# Create a dataframe of the test dataset and anomaly detection results\n",
    "df = pd.DataFrame({'data': X_test[:,0,0], 'error': error[:,0]})\n",
    "df['loss'] = test_mae_loss\n",
    "df['anomaly'] = df['error'] > threshold\n",
    "\n",
    "# Set the threshold value for the test data, decided from test MAE histogram\n",
    "threshold_value = 0.05\n",
    "\n",
    "# Create a new column named \"threshold\" and set all values to threshold_value\n",
    "num_samples = test_data.shape[0]\n",
    "df['threshold'] = np.full(num_samples, threshold_value)"
   ]
  },
  {
   "cell_type": "code",
   "execution_count": 45,
   "metadata": {},
   "outputs": [
    {
     "data": {
      "image/png": "[encoded data removed]",
      "text/plain": [
       "<Figure size 432x288 with 2 Axes>"
      ]
     },
     "metadata": {
      "needs_background": "light"
     },
     "output_type": "display_data"
    }
   ],
   "source": [
    "# Plot the anomaly dataframe and test dataset\n",
    "fig, ax1 = plt.subplots()\n",
    "ax2 = ax1.twinx()\n",
    "\n",
    "color1 = 'blue'\n",
    "color2 = 'red'\n",
    "\n",
    "line1 = ax1.plot(df.index, df['data'], color=color1, label = 'data')\n",
    "line2 = ax2.plot(df.index, df['loss'], color=color2, label = 'Anomaly')\n",
    "line3 = ax2.plot(df.index, df['threshold'], color='red', linestyle = 'dotted', label = 'Threshold val')\n",
    "\n",
    "ax2.set_ylim([-0.1, 1.1])\n",
    "plt.title('Anomaly Detection Results')\n",
    "plt.xlabel('Test data')\n",
    "ax1.set_ylabel('Temperature')\n",
    "ax2.set_ylabel('Anomaly')\n",
    "\n",
    "ax2.spines['left'].set_color(color1)\n",
    "ax2.spines['right'].set_color(color2)\n",
    "ax1.tick_params(axis = 'y', labelcolor = color1)\n",
    "ax2.tick_params(axis = 'y', labelcolor = color2)\n",
    "\n",
    "lines = line1 + line2 + line3\n",
    "labels = [l.get_label() for l in lines]\n",
    "plt.legend(lines, labels, loc = \"center right\")\n",
    "\n",
    "plt.show()\n"
   ]
  },
  {
   "cell_type": "code",
   "execution_count": 52,
   "metadata": {},
   "outputs": [],
   "source": [
    "df.to_csv('file1.csv')"
   ]
  },
  {
   "cell_type": "code",
   "execution_count": 47,
   "metadata": {},
   "outputs": [
    {
     "name": "stdout",
     "output_type": "stream",
     "text": [
      "Window 1: Normal Operation\n",
      "Window 2: Normal Operation\n",
      "Window 3: Normal Operation\n",
      "Window 4: Normal Operation\n",
      "Window 5: Anomaly Detected\n",
      "Window 6: Normal Operation\n",
      "Window 7: Normal Operation\n",
      "Window 8: Normal Operation\n",
      "Window 9: Normal Operation\n",
      "Window 10: Anomaly Detected\n",
      "Window 11: Normal Operation\n",
      "Window 12: Normal Operation\n",
      "Window 13: Normal Operation\n",
      "Window 14: Normal Operation\n",
      "Window 15: Normal Operation\n",
      "Window 16: Normal Operation\n",
      "Window 17: Normal Operation\n",
      "Window 18: Normal Operation\n",
      "Window 19: Normal Operation\n",
      "Window 20: Normal Operation\n",
      "Window 21: Normal Operation\n",
      "Window 22: Normal Operation\n",
      "Window 23: Normal Operation\n",
      "Window 24: Normal Operation\n",
      "Window 25: Normal Operation\n",
      "Window 26: Normal Operation\n",
      "Window 27: Normal Operation\n",
      "Window 28: Normal Operation\n",
      "Window 29: Normal Operation\n",
      "Window 30: Normal Operation\n",
      "Window 31: Normal Operation\n",
      "Window 32: Normal Operation\n",
      "Window 33: Normal Operation\n",
      "Window 34: Normal Operation\n",
      "Window 35: Normal Operation\n",
      "Window 36: Normal Operation\n",
      "Window 37: Normal Operation\n",
      "Window 38: Normal Operation\n",
      "Window 39: Normal Operation\n",
      "Window 40: Anomaly Detected\n",
      "Window 41: Anomaly Detected\n",
      "Window 42: Anomaly Detected\n",
      "Fault Detected!\n",
      "Window 43: Anomaly Detected\n",
      "Fault Detected!\n",
      "Window 44: Anomaly Detected\n",
      "Fault Detected!\n",
      "Window 45: Anomaly Detected\n",
      "Fault Detected!\n",
      "Window 46: Anomaly Detected\n",
      "Fault Detected!\n",
      "Window 47: Anomaly Detected\n",
      "Fault Detected!\n",
      "Window 48: Anomaly Detected\n",
      "Fault Detected!\n",
      "Window 49: Anomaly Detected\n",
      "Fault Detected!\n",
      "Window 50: Anomaly Detected\n",
      "Fault Detected!\n",
      "Window 51: Anomaly Detected\n",
      "Fault Detected!\n",
      "Window 52: Anomaly Detected\n",
      "Fault Detected!\n",
      "Window 53: Anomaly Detected\n",
      "Fault Detected!\n",
      "Window 54: Anomaly Detected\n",
      "Fault Detected!\n",
      "Window 55: Normal Operation\n",
      "Window 56: Normal Operation\n",
      "Window 57: Normal Operation\n",
      "Window 58: Normal Operation\n",
      "Window 59: Normal Operation\n",
      "Window 60: Normal Operation\n",
      "Window 61: Normal Operation\n",
      "Window 62: Normal Operation\n",
      "Window 63: Normal Operation\n",
      "Window 64: Normal Operation\n"
     ]
    }
   ],
   "source": [
    "# Initialize variables for anomaly detection\n",
    "window_size = 100\n",
    "num_windows = int(len(test_data) / window_size)\n",
    "consecutive_anomalies = 0\n",
    "\n",
    "# Check each window of test data for anomalies\n",
    "for i in range(num_windows):\n",
    "    start_index = i * window_size\n",
    "    end_index = start_index + window_size\n",
    "    \n",
    "    # Get the anomaly status for this window\n",
    "    window_anomalies = df['anomaly'][start_index:end_index].values\n",
    "    \n",
    "    # Check if any anomalies were detected in this window\n",
    "    if window_anomalies.sum() == 0:\n",
    "        print(f\"Window {i+1}: Normal Operation\")\n",
    "        consecutive_anomalies = 0\n",
    "    else:\n",
    "        print(f\"Window {i+1}: Anomaly Detected\")\n",
    "        consecutive_anomalies += 1\n",
    "        \n",
    "        # Check if three consecutive windows had anomalies\n",
    "        if consecutive_anomalies >= 3:\n",
    "            print(\"Fault Detected!\")\n",
    "            consecutive_anomalies = 3"
   ]
  },
  {
   "cell_type": "code",
   "execution_count": null,
   "metadata": {},
   "outputs": [],
   "source": []
  }
 ],
 "metadata": {
  "kernelspec": {
   "display_name": "Python 3",
   "language": "python",
   "name": "python3"
  },
  "language_info": {
   "codemirror_mode": {
    "name": "ipython",
    "version": 3
   },
   "file_extension": ".py",
   "mimetype": "text/x-python",
   "name": "python",
   "nbconvert_exporter": "python",
   "pygments_lexer": "ipython3",
   "version": "3.7.6"
  }
 },
 "nbformat": 4,
 "nbformat_minor": 4
}
