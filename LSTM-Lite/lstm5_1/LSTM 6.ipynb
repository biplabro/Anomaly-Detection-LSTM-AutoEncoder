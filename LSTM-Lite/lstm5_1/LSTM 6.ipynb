{
 "cells": [
  {
   "cell_type": "code",
   "execution_count": 39,
   "metadata": {},
   "outputs": [],
   "source": [
    "import numpy as np\n",
    "import pandas as pd\n",
    "import tensorflow as tf\n",
    "from tensorflow.keras.models import Sequential\n",
    "from tensorflow.keras.layers import LSTM, Dense, RepeatVector, TimeDistributed\n",
    "import matplotlib.pyplot as plt\n"
   ]
  },
  {
   "cell_type": "code",
   "execution_count": 40,
   "metadata": {},
   "outputs": [],
   "source": [
    "# Set the random seed for replicated results\n",
    "np.random.seed(42)\n",
    "tf.random.set_seed(42)"
   ]
  },
  {
   "cell_type": "code",
   "execution_count": 41,
   "metadata": {},
   "outputs": [],
   "source": [
    "# Load data\n",
    "data = pd.read_csv('dataset.csv')\n"
   ]
  },
  {
   "cell_type": "code",
   "execution_count": 42,
   "metadata": {},
   "outputs": [
    {
     "data": {
      "image/png": "[encoded data removed]",
      "text/plain": [
       "<Figure size 432x288 with 1 Axes>"
      ]
     },
     "metadata": {
      "needs_background": "light"
     },
     "output_type": "display_data"
    }
   ],
   "source": [
    "#plot the data \n",
    "plt.plot(data,label = 'x= datapoints \\n y= temperature')\n",
    "plt.legend()\n",
    "plt.show()"
   ]
  },
  {
   "cell_type": "code",
   "execution_count": 43,
   "metadata": {},
   "outputs": [],
   "source": [
    "# Split data into training and test sets\n",
    "train_size = int(len(data) * 0.6)\n",
    "train_data, test_data = data[:train_size], data[train_size:]"
   ]
  },
  {
   "cell_type": "code",
   "execution_count": 44,
   "metadata": {},
   "outputs": [],
   "source": [
    "# Define the number of time steps\n",
    "timesteps = 200"
   ]
  },
  {
   "cell_type": "code",
   "execution_count": 45,
   "metadata": {},
   "outputs": [],
   "source": [
    "# Prepare the training data\n",
    "train_X = []\n",
    "for i in range(timesteps, len(train_data)):\n",
    "    train_X.append(np.array(train_data[i-timesteps:i]).reshape(timesteps, 1))\n",
    "train_X = np.array(train_X)\n"
   ]
  },
  {
   "cell_type": "code",
   "execution_count": 46,
   "metadata": {},
   "outputs": [],
   "source": [
    "# Prepare the test data\n",
    "test_X = []\n",
    "for i in range(timesteps, len(test_data)):\n",
    "    test_X.append(np.array(test_data[i-timesteps:i]).reshape(timesteps, 1))\n",
    "test_X = np.array(test_X)\n"
   ]
  },
  {
   "cell_type": "code",
   "execution_count": 47,
   "metadata": {},
   "outputs": [],
   "source": [
    "# Define the model\n",
    "model = Sequential()\n",
    "model.add(LSTM(64, activation='relu', input_shape=(None, 1)))\n",
    "model.add(RepeatVector(1))\n",
    "model.add(LSTM(64, activation='relu', return_sequences=True))\n",
    "model.add(TimeDistributed(Dense(1)))\n",
    "model.compile(optimizer='adam', loss='mse')\n"
   ]
  },
  {
   "cell_type": "code",
   "execution_count": 48,
   "metadata": {},
   "outputs": [
    {
     "name": "stdout",
     "output_type": "stream",
     "text": [
      "Epoch 1/20\n",
      "157/157 [==============================] - 22s 140ms/step - loss: nan - val_loss: nan\n",
      "Epoch 2/20\n",
      "157/157 [==============================] - 21s 133ms/step - loss: nan - val_loss: nan\n",
      "Epoch 3/20\n",
      "157/157 [==============================] - 21s 134ms/step - loss: nan - val_loss: nan\n",
      "Epoch 4/20\n",
      "157/157 [==============================] - 21s 134ms/step - loss: nan - val_loss: nan\n",
      "Epoch 5/20\n",
      "157/157 [==============================] - 21s 134ms/step - loss: nan - val_loss: nan\n",
      "Epoch 6/20\n",
      "157/157 [==============================] - 21s 136ms/step - loss: nan - val_loss: nan\n",
      "Epoch 7/20\n",
      "157/157 [==============================] - 21s 133ms/step - loss: nan - val_loss: nan\n",
      "Epoch 8/20\n",
      "157/157 [==============================] - 22s 137ms/step - loss: nan - val_loss: nan\n",
      "Epoch 9/20\n",
      "157/157 [==============================] - 22s 139ms/step - loss: nan - val_loss: nan\n",
      "Epoch 10/20\n",
      "157/157 [==============================] - 22s 139ms/step - loss: nan - val_loss: nan\n",
      "Epoch 11/20\n",
      "157/157 [==============================] - 22s 138ms/step - loss: nan - val_loss: nan\n",
      "Epoch 12/20\n",
      "157/157 [==============================] - 21s 137ms/step - loss: nan - val_loss: nan\n",
      "Epoch 13/20\n",
      "157/157 [==============================] - 21s 135ms/step - loss: nan - val_loss: nan\n",
      "Epoch 14/20\n",
      "157/157 [==============================] - 22s 138ms/step - loss: nan - val_loss: nan\n",
      "Epoch 15/20\n",
      "157/157 [==============================] - 21s 135ms/step - loss: nan - val_loss: nan\n",
      "Epoch 16/20\n",
      "157/157 [==============================] - 21s 135ms/step - loss: nan - val_loss: nan\n",
      "Epoch 17/20\n",
      "157/157 [==============================] - 22s 138ms/step - loss: nan - val_loss: nan\n",
      "Epoch 18/20\n",
      "157/157 [==============================] - 21s 137ms/step - loss: nan - val_loss: nan\n",
      "Epoch 19/20\n",
      "157/157 [==============================] - 22s 140ms/step - loss: nan - val_loss: nan\n",
      "Epoch 20/20\n",
      "157/157 [==============================] - 22s 140ms/step - loss: nan - val_loss: nan\n"
     ]
    }
   ],
   "source": [
    "# Fit the model\n",
    "history = model.fit(train_X, train_X, epochs=20, batch_size=60, validation_data=(test_X, test_X))\n"
   ]
  },
  {
   "cell_type": "code",
   "execution_count": 52,
   "metadata": {},
   "outputs": [],
   "source": [
    "# Generate predictions\n",
    "train_preds = model.predict(train_X)\n",
    "test_preds = model.predict(test_X)"
   ]
  },
  {
   "cell_type": "code",
   "execution_count": 53,
   "metadata": {},
   "outputs": [],
   "source": [
    "# Calculate the MAE\n",
    "train_mae = np.mean(np.abs(train_preds - train_X), axis=1)\n",
    "test_mae = np.mean(np.abs(test_preds - test_X), axis=1)\n"
   ]
  },
  {
   "cell_type": "code",
   "execution_count": 54,
   "metadata": {},
   "outputs": [],
   "source": [
    "# Remove NaN values from train and test MAE arrays\n",
    "train_mae = train_mae[~np.isnan(train_mae)]\n",
    "test_mae = test_mae[~np.isnan(test_mae)]"
   ]
  },
  {
   "cell_type": "code",
   "execution_count": 55,
   "metadata": {},
   "outputs": [
    {
     "data": {
      "image/png": "[encoded data removed]",
      "text/plain": [
       "<Figure size 432x288 with 1 Axes>"
      ]
     },
     "metadata": {
      "needs_background": "light"
     },
     "output_type": "display_data"
    }
   ],
   "source": [
    "# Plot the histogram of train and test MAE\n",
    "plt.hist(train_mae, bins='auto', label='Train MAE')\n",
    "plt.hist(test_mae, bins='auto', alpha=0.7, label='Test MAE')\n",
    "plt.legend()\n",
    "plt.show()"
   ]
  },
  {
   "cell_type": "code",
   "execution_count": 56,
   "metadata": {},
   "outputs": [
    {
     "name": "stdout",
     "output_type": "stream",
     "text": [
      "Threshold: nan\n"
     ]
    },
    {
     "name": "stderr",
     "output_type": "stream",
     "text": [
      "/home/roy/anaconda3/envs/student/lib/python3.7/site-packages/numpy/core/fromnumeric.py:3335: RuntimeWarning: Mean of empty slice.\n",
      "  out=out, **kwargs)\n",
      "/home/roy/anaconda3/envs/student/lib/python3.7/site-packages/numpy/core/_methods.py:161: RuntimeWarning: invalid value encountered in double_scalars\n",
      "  ret = ret.dtype.type(ret / rcount)\n",
      "/home/roy/anaconda3/envs/student/lib/python3.7/site-packages/numpy/core/_methods.py:217: RuntimeWarning: Degrees of freedom <= 0 for slice\n",
      "  keepdims=keepdims)\n",
      "/home/roy/anaconda3/envs/student/lib/python3.7/site-packages/numpy/core/_methods.py:186: RuntimeWarning: invalid value encountered in true_divide\n",
      "  arrmean, rcount, out=arrmean, casting='unsafe', subok=False)\n",
      "/home/roy/anaconda3/envs/student/lib/python3.7/site-packages/numpy/core/_methods.py:209: RuntimeWarning: invalid value encountered in double_scalars\n",
      "  ret = ret.dtype.type(ret / rcount)\n"
     ]
    }
   ],
   "source": [
    "# Find the threshold for anomaly detection\n",
    "threshold = np.mean(train_mae) + np.std(train_mae)\n",
    "print(f'Threshold: {threshold}')"
   ]
  },
  {
   "cell_type": "code",
   "execution_count": 57,
   "metadata": {},
   "outputs": [
    {
     "data": {
      "image/png": "[encoded data removed]",
      "text/plain": [
       "<Figure size 432x288 with 1 Axes>"
      ]
     },
     "metadata": {
      "needs_background": "light"
     },
     "output_type": "display_data"
    }
   ],
   "source": [
    "# Generate the anomaly curve and data curve plots\n",
    "anomaly_curve = np.where(test_mae > threshold, 1, 0)\n",
    "plt.plot(test_data[timesteps:], label='Data')\n",
    "plt.plot(anomaly_curve, label='Anomaly Curve')\n",
    "plt.legend()\n",
    "plt.show()"
   ]
  },
  {
   "cell_type": "code",
   "execution_count": null,
   "metadata": {},
   "outputs": [],
   "source": []
  }
 ],
 "metadata": {
  "kernelspec": {
   "display_name": "Python 3",
   "language": "python",
   "name": "python3"
  },
  "language_info": {
   "codemirror_mode": {
    "name": "ipython",
    "version": 3
   },
   "file_extension": ".py",
   "mimetype": "text/x-python",
   "name": "python",
   "nbconvert_exporter": "python",
   "pygments_lexer": "ipython3",
   "version": "3.7.6"
  }
 },
 "nbformat": 4,
 "nbformat_minor": 4
}
