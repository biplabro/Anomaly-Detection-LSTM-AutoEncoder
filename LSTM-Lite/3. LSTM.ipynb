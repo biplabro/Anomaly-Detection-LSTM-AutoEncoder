{
 "cells": [
  {
   "cell_type": "code",
   "execution_count": 9,
   "metadata": {},
   "outputs": [],
   "source": [
    "#iport libraries\n",
    "import numpy as np\n",
    "import pandas as pd\n",
    "import matplotlib.pyplot as plt\n",
    "from tensorflow.keras.layers import Input, LSTM, RepeatVector\n",
    "from tensorflow.keras.models import Model"
   ]
  },
  {
   "cell_type": "code",
   "execution_count": 10,
   "metadata": {},
   "outputs": [],
   "source": [
    "#Load dataset\n",
    "df = pd.read_csv('dataset.csv', header=None)"
   ]
  },
  {
   "cell_type": "code",
   "execution_count": 11,
   "metadata": {},
   "outputs": [],
   "source": [
    "#Define hyperparameters\n",
    "timesteps = 50 # number of timesteps to include in each input sequence\n",
    "latent_dim = 16 # number of neurons in the LSTM layer\n",
    "mae_threshold = 0.05 # threshold for mean absolute error (MAE)\n",
    "anomaly_window = 20 # length of anomaly window in seconds"
   ]
  },
  {
   "cell_type": "code",
   "execution_count": 12,
   "metadata": {},
   "outputs": [],
   "source": [
    "#Normalize data\n",
    "data = np.array(df[0])\n",
    "mean = np.mean(data)\n",
    "std = np.std(data)\n",
    "data = (data - mean) / std"
   ]
  },
  {
   "cell_type": "code",
   "execution_count": 13,
   "metadata": {},
   "outputs": [],
   "source": [
    "#Create input sequences\n",
    "sequences = []\n",
    "for i in range(len(data) - timesteps):\n",
    "    sequences.append(data[i:i+timesteps])\n",
    "sequences = np.array(sequences)"
   ]
  },
  {
   "cell_type": "code",
   "execution_count": 14,
   "metadata": {},
   "outputs": [],
   "source": [
    "#Define autoencoder model\n",
    "inputs = Input(shape=(timesteps, 1))\n",
    "encoded = LSTM(latent_dim)(inputs)\n",
    "decoded = RepeatVector(timesteps)(encoded)\n",
    "decoded = LSTM(1, return_sequences=True)(decoded)\n",
    "autoencoder = Model(inputs, decoded)"
   ]
  },
  {
   "cell_type": "code",
   "execution_count": 15,
   "metadata": {},
   "outputs": [],
   "source": [
    "#Compile model\n",
    "autoencoder.compile(optimizer='adam', loss='mae')"
   ]
  },
  {
   "cell_type": "code",
   "execution_count": 16,
   "metadata": {},
   "outputs": [
    {
     "name": "stdout",
     "output_type": "stream",
     "text": [
      "Epoch 1/16\n",
      "483/483 [==============================] - 8s 16ms/step - loss: 0.1895\n",
      "Epoch 2/16\n",
      "483/483 [==============================] - 8s 16ms/step - loss: 0.1718\n",
      "Epoch 3/16\n",
      "483/483 [==============================] - 8s 16ms/step - loss: 0.1465\n",
      "Epoch 4/16\n",
      "483/483 [==============================] - 8s 16ms/step - loss: 0.1558\n",
      "Epoch 5/16\n",
      "483/483 [==============================] - 8s 16ms/step - loss: 0.1450\n",
      "Epoch 6/16\n",
      "483/483 [==============================] - 8s 16ms/step - loss: 0.1406\n",
      "Epoch 7/16\n",
      "483/483 [==============================] - 8s 16ms/step - loss: 0.1416\n",
      "Epoch 8/16\n",
      "483/483 [==============================] - 8s 16ms/step - loss: 0.1377\n",
      "Epoch 9/16\n",
      "483/483 [==============================] - 8s 16ms/step - loss: 0.1405\n",
      "Epoch 10/16\n",
      "483/483 [==============================] - 8s 16ms/step - loss: 0.1379\n",
      "Epoch 11/16\n",
      "483/483 [==============================] - 8s 16ms/step - loss: 0.1383\n",
      "Epoch 12/16\n",
      "483/483 [==============================] - 7s 15ms/step - loss: 0.1352\n",
      "Epoch 13/16\n",
      "483/483 [==============================] - 7s 15ms/step - loss: 0.1343\n",
      "Epoch 14/16\n",
      "483/483 [==============================] - 8s 16ms/step - loss: 0.1340\n",
      "Epoch 15/16\n",
      "483/483 [==============================] - 8s 16ms/step - loss: 0.1356\n",
      "Epoch 16/16\n",
      "483/483 [==============================] - 8s 16ms/step - loss: 0.1329\n"
     ]
    }
   ],
   "source": [
    "#Train model\n",
    "history = autoencoder.fit(sequences, sequences, epochs=16, batch_size=32, shuffle=False)"
   ]
  },
  {
   "cell_type": "code",
   "execution_count": 17,
   "metadata": {},
   "outputs": [],
   "source": [
    "#Make predictions\n",
    "predictions = autoencoder.predict(sequences)"
   ]
  },
  {
   "cell_type": "code",
   "execution_count": 18,
   "metadata": {},
   "outputs": [
    {
     "ename": "ValueError",
     "evalue": "operands could not be broadcast together with shapes (15450,50,1) (15450,50) ",
     "output_type": "error",
     "traceback": [
      "\u001b[0;31m---------------------------------------------------------------------------\u001b[0m",
      "\u001b[0;31mValueError\u001b[0m                                Traceback (most recent call last)",
      "\u001b[0;32m<ipython-input-18-29f668fb1140>\u001b[0m in \u001b[0;36m<module>\u001b[0;34m\u001b[0m\n\u001b[1;32m      1\u001b[0m \u001b[0;31m#Calculate MAE\u001b[0m\u001b[0;34m\u001b[0m\u001b[0;34m\u001b[0m\u001b[0;34m\u001b[0m\u001b[0m\n\u001b[0;32m----> 2\u001b[0;31m \u001b[0mmae\u001b[0m \u001b[0;34m=\u001b[0m \u001b[0mnp\u001b[0m\u001b[0;34m.\u001b[0m\u001b[0mmean\u001b[0m\u001b[0;34m(\u001b[0m\u001b[0mnp\u001b[0m\u001b[0;34m.\u001b[0m\u001b[0mabs\u001b[0m\u001b[0;34m(\u001b[0m\u001b[0mpredictions\u001b[0m \u001b[0;34m-\u001b[0m \u001b[0msequences\u001b[0m\u001b[0;34m)\u001b[0m\u001b[0;34m,\u001b[0m \u001b[0maxis\u001b[0m\u001b[0;34m=\u001b[0m\u001b[0;36m1\u001b[0m\u001b[0;34m)\u001b[0m\u001b[0;34m\u001b[0m\u001b[0;34m\u001b[0m\u001b[0m\n\u001b[0m",
      "\u001b[0;31mValueError\u001b[0m: operands could not be broadcast together with shapes (15450,50,1) (15450,50) "
     ]
    }
   ],
   "source": [
    "#Calculate MAE\n",
    "mae = np.mean(np.abs(predictions - sequences), axis=1)"
   ]
  },
  {
   "cell_type": "code",
   "execution_count": null,
   "metadata": {},
   "outputs": [],
   "source": []
  },
  {
   "cell_type": "code",
   "execution_count": null,
   "metadata": {},
   "outputs": [],
   "source": []
  },
  {
   "cell_type": "code",
   "execution_count": null,
   "metadata": {},
   "outputs": [],
   "source": []
  },
  {
   "cell_type": "code",
   "execution_count": null,
   "metadata": {},
   "outputs": [],
   "source": []
  },
  {
   "cell_type": "code",
   "execution_count": null,
   "metadata": {},
   "outputs": [],
   "source": []
  }
 ],
 "metadata": {
  "kernelspec": {
   "display_name": "Python 3",
   "language": "python",
   "name": "python3"
  },
  "language_info": {
   "codemirror_mode": {
    "name": "ipython",
    "version": 3
   },
   "file_extension": ".py",
   "mimetype": "text/x-python",
   "name": "python",
   "nbconvert_exporter": "python",
   "pygments_lexer": "ipython3",
   "version": "3.7.6"
  }
 },
 "nbformat": 4,
 "nbformat_minor": 4
}
