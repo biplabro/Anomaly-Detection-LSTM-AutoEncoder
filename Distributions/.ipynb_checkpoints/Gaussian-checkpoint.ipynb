{
 "cells": [
  {
   "cell_type": "code",
   "execution_count": 29,
   "metadata": {},
   "outputs": [
    {
     "data": {
      "image/png": "[encoded data removed]",
      "text/plain": [
       "<Figure size 432x288 with 1 Axes>"
      ]
     },
     "metadata": {
      "needs_background": "light"
     },
     "output_type": "display_data"
    }
   ],
   "source": [
    "#references: \n",
    "# https://www.sharpsightlabs.com/blog/numpy-random-normal/\n",
    "# https://www.geeksforgeeks.org/normal-distribution-plot-using-numpy-and-matplotlib/\n",
    "\n",
    "\n",
    "# importing numpy as np\n",
    "import numpy as np\n",
    " \n",
    "# importing pyplot as plt\n",
    "import matplotlib.pyplot as plt\n",
    " \n",
    "# position (mean)\n",
    "pos = 120\n",
    "\n",
    "# scale (Std. Deviation) ranges between (pos +- scale) 68% of all values, 1 sigma\n",
    "scale = 5\n",
    " \n",
    "# size (number of data points)\n",
    "size = 1000\n",
    "\n",
    "# creating a normal distribution data\n",
    "values = np.random.normal(pos, scale, size)\n",
    "\n",
    "# plotting histograph\n",
    "plt.hist(values, 100)\n",
    " \n",
    "# showing the graph\n",
    "plt.show()"
   ]
  },
  {
   "cell_type": "code",
   "execution_count": 26,
   "metadata": {},
   "outputs": [
    {
     "data": {
      "text/plain": [
       "array([128.66295525, 128.3406066 , 121.3978175 , 127.75590384,\n",
       "       124.21333174, 121.82107422, 120.82720746, 117.30738755,\n",
       "       124.41029612, 119.07260835, 115.35618994, 120.81518114,\n",
       "       130.10319647, 112.5897372 , 121.54847652, 121.17994244,\n",
       "       110.29230197, 120.32213656, 126.15436918, 123.25008654,\n",
       "       121.21402386, 127.05660341, 123.06224893, 119.13264745,\n",
       "       115.2300113 , 128.89390486, 119.4924232 , 119.49352191,\n",
       "       130.76063248, 115.9515857 , 118.2184598 , 115.65762182,\n",
       "       122.57839452, 123.70856379, 122.29861598, 122.29352032,\n",
       "       115.15472156, 127.06522425, 118.01816055, 117.72172944,\n",
       "       108.70880495, 116.26008301, 117.16708076, 126.22908081,\n",
       "       114.74763871, 116.61545801, 117.36680747, 116.16658139,\n",
       "       116.48822109, 118.38731765, 118.89394172, 115.19505136,\n",
       "       121.84318337, 109.00126267, 120.87554839, 126.7469191 ,\n",
       "       120.06683694, 123.31238482, 123.21178167, 113.35227845,\n",
       "       117.35577458, 114.40682666, 118.65598925, 123.88087215,\n",
       "       117.4973268 , 126.51769179, 120.79913541, 123.96409519,\n",
       "       121.88175029, 122.43192668, 118.53547362, 115.23516568,\n",
       "       118.4088359 , 118.79317503, 116.44692212, 116.97000685,\n",
       "       130.03929607, 119.62637911, 114.88623067, 125.28438585,\n",
       "       117.63435255, 118.63954372, 110.88414984, 120.61817355,\n",
       "       123.56864094, 119.68643635, 117.20666657, 125.89989539,\n",
       "       130.45081206, 111.45113   , 122.05590682, 113.55612257,\n",
       "       121.87976412, 116.8216149 , 119.13448424, 122.35490817,\n",
       "       121.39346177, 113.71358977, 114.88033077, 114.29270558])"
      ]
     },
     "execution_count": 26,
     "metadata": {},
     "output_type": "execute_result"
    }
   ],
   "source": [
    "# check the array values\n",
    "values"
   ]
  },
  {
   "cell_type": "code",
   "execution_count": null,
   "metadata": {},
   "outputs": [],
   "source": []
  }
 ],
 "metadata": {
  "kernelspec": {
   "display_name": "Python 3",
   "language": "python",
   "name": "python3"
  },
  "language_info": {
   "codemirror_mode": {
    "name": "ipython",
    "version": 3
   },
   "file_extension": ".py",
   "mimetype": "text/x-python",
   "name": "python",
   "nbconvert_exporter": "python",
   "pygments_lexer": "ipython3",
   "version": "3.7.6"
  }
 },
 "nbformat": 4,
 "nbformat_minor": 4
}
