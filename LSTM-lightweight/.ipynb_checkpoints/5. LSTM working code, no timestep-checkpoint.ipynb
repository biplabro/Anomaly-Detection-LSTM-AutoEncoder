{
 "cells": [
  {
   "cell_type": "code",
   "execution_count": 1,
   "metadata": {},
   "outputs": [],
   "source": [
    "import numpy as np\n",
    "import pandas as pd\n",
    "import tensorflow as tf\n",
    "from tensorflow.keras.models import Sequential\n",
    "from tensorflow.keras.layers import LSTM, Dense, RepeatVector, TimeDistributed\n",
    "import matplotlib.pyplot as plt"
   ]
  },
  {
   "cell_type": "code",
   "execution_count": 2,
   "metadata": {},
   "outputs": [],
   "source": [
    "# Set the random seed for replicated results\n",
    "np.random.seed(42)\n",
    "tf.random.set_seed(42)"
   ]
  },
  {
   "cell_type": "code",
   "execution_count": 3,
   "metadata": {},
   "outputs": [],
   "source": [
    "# Load data from CSV file\n",
    "data = pd.read_csv('dataset.csv', header=None)\n",
    "data = data.values"
   ]
  },
  {
   "cell_type": "code",
   "execution_count": 4,
   "metadata": {},
   "outputs": [
    {
     "data": {
      "image/png": "[encoded data removed]",
      "text/plain": [
       "<Figure size 432x288 with 1 Axes>"
      ]
     },
     "metadata": {
      "needs_background": "light"
     },
     "output_type": "display_data"
    }
   ],
   "source": [
    "#plot the data \n",
    "plt.plot(data,label = 'x= datapoints \\n y= temperature')\n",
    "plt.legend()\n",
    "plt.show()"
   ]
  },
  {
   "cell_type": "code",
   "execution_count": 5,
   "metadata": {},
   "outputs": [],
   "source": [
    "# Reshape the data into a 3D array\n",
    "data = np.reshape(data, (data.shape[0], data.shape[1], 1))"
   ]
  },
  {
   "cell_type": "code",
   "execution_count": 6,
   "metadata": {},
   "outputs": [],
   "source": [
    "# Split data into training and testing datasets\n",
    "train_size = int(len(data) * 0.6)\n",
    "test_size = len(data) - train_size\n",
    "train_data, test_data = data[0:train_size,:,:], data[train_size:len(data),:,:]"
   ]
  },
  {
   "cell_type": "code",
   "execution_count": 7,
   "metadata": {},
   "outputs": [],
   "source": [
    "# Define LSTM autoencoder model\n",
    "model = Sequential()\n",
    "model.add(LSTM(64, activation='relu', input_shape=(None, 1)))\n",
    "model.add(RepeatVector(1))\n",
    "model.add(LSTM(64, activation='relu', return_sequences=True))\n",
    "model.add(TimeDistributed(Dense(1)))\n",
    "model.compile(optimizer='adam', loss='mse')\n"
   ]
  },
  {
   "cell_type": "code",
   "execution_count": 8,
   "metadata": {},
   "outputs": [
    {
     "name": "stdout",
     "output_type": "stream",
     "text": [
      "Epoch 1/50\n",
      "160/160 [==============================] - 0s 3ms/step - loss: 1132.0221 - val_loss: 0.0770\n",
      "Epoch 2/50\n",
      "160/160 [==============================] - 0s 2ms/step - loss: 0.0266 - val_loss: 0.1520\n",
      "Epoch 3/50\n",
      "160/160 [==============================] - 0s 2ms/step - loss: 0.0041 - val_loss: 0.0882\n",
      "Epoch 4/50\n",
      "160/160 [==============================] - 0s 2ms/step - loss: 8.9355e-04 - val_loss: 0.0749\n",
      "Epoch 5/50\n",
      "160/160 [==============================] - 0s 2ms/step - loss: 2.4264e-04 - val_loss: 0.0676\n",
      "Epoch 6/50\n",
      "160/160 [==============================] - 0s 2ms/step - loss: 1.2261e-04 - val_loss: 0.0638\n",
      "Epoch 7/50\n",
      "160/160 [==============================] - 0s 2ms/step - loss: 1.0349e-04 - val_loss: 0.0646\n",
      "Epoch 8/50\n",
      "160/160 [==============================] - 0s 2ms/step - loss: 1.0177e-04 - val_loss: 0.0625\n",
      "Epoch 9/50\n",
      "160/160 [==============================] - 0s 2ms/step - loss: 1.0092e-04 - val_loss: 0.0647\n",
      "Epoch 10/50\n",
      "160/160 [==============================] - 0s 2ms/step - loss: 9.7550e-05 - val_loss: 0.0639\n",
      "Epoch 11/50\n",
      "160/160 [==============================] - 0s 2ms/step - loss: 9.7879e-05 - val_loss: 0.0643\n",
      "Epoch 12/50\n",
      "160/160 [==============================] - 0s 2ms/step - loss: 8.9040e-05 - val_loss: 0.0694\n",
      "Epoch 13/50\n",
      "160/160 [==============================] - 0s 2ms/step - loss: 8.5740e-05 - val_loss: 0.0684\n",
      "Epoch 14/50\n",
      "160/160 [==============================] - 0s 2ms/step - loss: 8.3279e-05 - val_loss: 0.0687\n",
      "Epoch 15/50\n",
      "160/160 [==============================] - 0s 2ms/step - loss: 7.6872e-05 - val_loss: 0.0697\n",
      "Epoch 16/50\n",
      "160/160 [==============================] - 0s 2ms/step - loss: 8.6061e-05 - val_loss: 0.0717\n",
      "Epoch 17/50\n",
      "160/160 [==============================] - 0s 2ms/step - loss: 7.8794e-05 - val_loss: 0.0697\n",
      "Epoch 18/50\n",
      "160/160 [==============================] - 0s 2ms/step - loss: 7.3895e-05 - val_loss: 0.0736\n",
      "Epoch 19/50\n",
      "160/160 [==============================] - 0s 2ms/step - loss: 7.3030e-05 - val_loss: 0.0740\n",
      "Epoch 20/50\n",
      "160/160 [==============================] - 0s 2ms/step - loss: 8.7504e-05 - val_loss: 0.0722\n",
      "Epoch 21/50\n",
      "160/160 [==============================] - 0s 2ms/step - loss: 6.8114e-05 - val_loss: 0.0715\n",
      "Epoch 22/50\n",
      "160/160 [==============================] - 0s 2ms/step - loss: 6.4095e-05 - val_loss: 0.0740\n",
      "Epoch 23/50\n",
      "160/160 [==============================] - 0s 2ms/step - loss: 6.5138e-05 - val_loss: 0.0712\n",
      "Epoch 24/50\n",
      "160/160 [==============================] - 0s 2ms/step - loss: 6.9006e-05 - val_loss: 0.0701\n",
      "Epoch 25/50\n",
      "160/160 [==============================] - 0s 2ms/step - loss: 5.7582e-05 - val_loss: 0.0740\n",
      "Epoch 26/50\n",
      "160/160 [==============================] - 0s 2ms/step - loss: 5.9378e-05 - val_loss: 0.0743\n",
      "Epoch 27/50\n",
      "160/160 [==============================] - 0s 2ms/step - loss: 5.9767e-05 - val_loss: 0.0731\n",
      "Epoch 28/50\n",
      "160/160 [==============================] - 0s 2ms/step - loss: 5.7602e-05 - val_loss: 0.0712\n",
      "Epoch 29/50\n",
      "160/160 [==============================] - 0s 2ms/step - loss: 5.3443e-05 - val_loss: 0.0692\n",
      "Epoch 30/50\n",
      "160/160 [==============================] - 0s 2ms/step - loss: 5.2344e-05 - val_loss: 0.0669\n",
      "Epoch 31/50\n",
      "160/160 [==============================] - 0s 2ms/step - loss: 7.7267e-05 - val_loss: 0.0688\n",
      "Epoch 32/50\n",
      "160/160 [==============================] - 0s 2ms/step - loss: 7.0241e-05 - val_loss: 0.0679\n",
      "Epoch 33/50\n",
      "160/160 [==============================] - 0s 2ms/step - loss: 5.5532e-05 - val_loss: 0.0642\n",
      "Epoch 34/50\n",
      "160/160 [==============================] - 0s 2ms/step - loss: 5.0700e-05 - val_loss: 0.0635\n",
      "Epoch 35/50\n",
      "160/160 [==============================] - 0s 2ms/step - loss: 5.3765e-05 - val_loss: 0.0616\n",
      "Epoch 36/50\n",
      "160/160 [==============================] - 0s 2ms/step - loss: 4.5549e-05 - val_loss: 0.0634\n",
      "Epoch 37/50\n",
      "160/160 [==============================] - 0s 2ms/step - loss: 5.1037e-05 - val_loss: 0.0597\n",
      "Epoch 38/50\n",
      "160/160 [==============================] - 0s 2ms/step - loss: 4.9281e-05 - val_loss: 0.0594\n",
      "Epoch 39/50\n",
      "160/160 [==============================] - 0s 2ms/step - loss: 4.2383e-05 - val_loss: 0.0557\n",
      "Epoch 40/50\n",
      "160/160 [==============================] - 0s 2ms/step - loss: 4.0367e-05 - val_loss: 0.0555\n",
      "Epoch 41/50\n",
      "160/160 [==============================] - 0s 2ms/step - loss: 7.4057e-05 - val_loss: 0.0519\n",
      "Epoch 42/50\n",
      "160/160 [==============================] - 0s 2ms/step - loss: 3.7867e-05 - val_loss: 0.0507\n",
      "Epoch 43/50\n",
      "160/160 [==============================] - 0s 2ms/step - loss: 5.2769e-05 - val_loss: 0.0490\n",
      "Epoch 44/50\n",
      "160/160 [==============================] - 0s 2ms/step - loss: 5.4875e-05 - val_loss: 0.0446\n",
      "Epoch 45/50\n",
      "160/160 [==============================] - 0s 2ms/step - loss: 6.2587e-05 - val_loss: 0.0425\n",
      "Epoch 46/50\n",
      "160/160 [==============================] - 0s 2ms/step - loss: 6.0050e-05 - val_loss: 0.0443\n",
      "Epoch 47/50\n",
      "160/160 [==============================] - 0s 2ms/step - loss: 7.1191e-05 - val_loss: 0.0399\n",
      "Epoch 48/50\n",
      "160/160 [==============================] - 0s 2ms/step - loss: 3.4202e-05 - val_loss: 0.0386\n",
      "Epoch 49/50\n",
      "160/160 [==============================] - 0s 2ms/step - loss: 3.3105e-05 - val_loss: 0.0353\n",
      "Epoch 50/50\n",
      "160/160 [==============================] - 0s 2ms/step - loss: 4.8198e-05 - val_loss: 0.0387\n"
     ]
    }
   ],
   "source": [
    "# Train the model and save the history\n",
    "history = model.fit(train_data, train_data, epochs=50, batch_size=60, validation_data=(test_data, test_data), verbose=1)\n"
   ]
  },
  {
   "cell_type": "code",
   "execution_count": 9,
   "metadata": {},
   "outputs": [
    {
     "name": "stdout",
     "output_type": "stream",
     "text": [
      "300/300 [==============================] - 0s 500us/step\n"
     ]
    }
   ],
   "source": [
    "# Make predictions on the train dataset\n",
    "X_train_pred = model.predict(train_data, verbose=1)\n"
   ]
  },
  {
   "cell_type": "code",
   "execution_count": 10,
   "metadata": {},
   "outputs": [],
   "source": [
    "# Calculate MAE loss on the train dataset\n",
    "train_mae_loss = np.mean(np.abs(X_train_pred - train_data), axis=1)\n",
    "# Flatten the train_mae_loss array\n",
    "train_mae_loss = train_mae_loss.flatten()\n"
   ]
  },
  {
   "cell_type": "code",
   "execution_count": 11,
   "metadata": {},
   "outputs": [
    {
     "data": {
      "image/png": "[encoded data removed]",
      "text/plain": [
       "<Figure size 432x288 with 1 Axes>"
      ]
     },
     "metadata": {
      "needs_background": "light"
     },
     "output_type": "display_data"
    }
   ],
   "source": [
    "### Plot Training - Validation loss\n",
    "plt.plot(history.history['loss'], label='Training loss')\n",
    "plt.plot(history.history['val_loss'], label='Validation loss')\n",
    "plt.xlabel('Epoch')\n",
    "plt.ylabel('Loss')\n",
    "plt.legend();"
   ]
  },
  {
   "cell_type": "code",
   "execution_count": 12,
   "metadata": {},
   "outputs": [
    {
     "data": {
      "image/png": "[encoded data removed]",
      "text/plain": [
       "<Figure size 432x288 with 1 Axes>"
      ]
     },
     "metadata": {
      "needs_background": "light"
     },
     "output_type": "display_data"
    }
   ],
   "source": [
    "# Visualize MAE loss on the train dataset\n",
    "plt.hist(train_mae_loss, bins=50)\n",
    "plt.xlabel('Train MAE loss')\n",
    "plt.ylabel('Number of Samples')\n",
    "plt.show()"
   ]
  },
  {
   "cell_type": "code",
   "execution_count": 13,
   "metadata": {},
   "outputs": [
    {
     "name": "stdout",
     "output_type": "stream",
     "text": [
      "200/200 [==============================] - 0s 496us/step\n"
     ]
    }
   ],
   "source": [
    "# Make predictions on the test dataset\n",
    "X_test_pred = model.predict(test_data, verbose=1)\n"
   ]
  },
  {
   "cell_type": "code",
   "execution_count": 14,
   "metadata": {},
   "outputs": [],
   "source": [
    "# Calculate MAE loss on the test dataset\n",
    "test_mae_loss = np.mean(np.abs(X_test_pred - test_data), axis=1)\n"
   ]
  },
  {
   "cell_type": "code",
   "execution_count": 15,
   "metadata": {},
   "outputs": [
    {
     "data": {
      "image/png": "[encoded data removed]",
      "text/plain": [
       "<Figure size 432x288 with 1 Axes>"
      ]
     },
     "metadata": {
      "needs_background": "light"
     },
     "output_type": "display_data"
    }
   ],
   "source": [
    "# Visualize MAE loss on the test dataset\n",
    "plt.hist(test_mae_loss, bins=50)\n",
    "plt.xlabel('Test MAE loss')\n",
    "plt.ylabel('Number of Samples')\n",
    "plt.show()"
   ]
  },
  {
   "cell_type": "code",
   "execution_count": 16,
   "metadata": {},
   "outputs": [],
   "source": [
    "# Calculate the reconstruction error and define the threshold for anomaly detection\n",
    "threshold = 0.01\n",
    "error = np.mean(np.abs(X_test_pred - test_data), axis=1)\n"
   ]
  },
  {
   "cell_type": "code",
   "execution_count": 17,
   "metadata": {},
   "outputs": [],
   "source": [
    "# Create a dataframe of the test dataset and anomaly detection results\n",
    "df = pd.DataFrame({'data': test_data[:,0,0], 'error': error[:,0]})\n",
    "df['loss'] = test_mae_loss\n",
    "df['anomaly'] = df['error'] > threshold\n",
    "\n",
    "# Set the threshold value for the test data, decided from test MAE histogram\n",
    "threshold_value = 0.05\n",
    "\n",
    "# Create a new column named \"threshold\" and set all values to threshold_value\n",
    "num_samples = test_data.shape[0]\n",
    "df['threshold'] = np.full(num_samples, threshold_value)"
   ]
  },
  {
   "cell_type": "code",
   "execution_count": 18,
   "metadata": {},
   "outputs": [
    {
     "data": {
      "image/png": "[encoded data removed]",
      "text/plain": [
       "<Figure size 432x288 with 2 Axes>"
      ]
     },
     "metadata": {
      "needs_background": "light"
     },
     "output_type": "display_data"
    }
   ],
   "source": [
    "# Plot the anomaly dataframe and test dataset\n",
    "fig, ax1 = plt.subplots()\n",
    "ax2 = ax1.twinx()\n",
    "\n",
    "color1 = 'blue'\n",
    "color2 = 'red'\n",
    "\n",
    "line1 = ax1.plot(df.index, df['data'], color=color1, label = 'data')\n",
    "line2 = ax2.plot(df.index, df['loss'], color=color2, label = 'Anomaly')\n",
    "line3 = ax2.plot(df.index, df['threshold'], color='red', linestyle = 'dotted', label = 'Threshold val')\n",
    "\n",
    "ax2.set_ylim([-0.1, 1.1])\n",
    "plt.title('Anomaly Detection Results')\n",
    "plt.xlabel('Test data')\n",
    "ax1.set_ylabel('Temperature')\n",
    "ax2.set_ylabel('Anomaly')\n",
    "\n",
    "ax2.spines['left'].set_color(color1)\n",
    "ax2.spines['right'].set_color(color2)\n",
    "ax1.tick_params(axis = 'y', labelcolor = color1)\n",
    "ax2.tick_params(axis = 'y', labelcolor = color2)\n",
    "\n",
    "lines = line1 + line2 + line3\n",
    "labels = [l.get_label() for l in lines]\n",
    "plt.legend(lines, labels, loc = \"center right\")\n",
    "\n",
    "plt.show()\n"
   ]
  },
  {
   "cell_type": "code",
   "execution_count": 19,
   "metadata": {},
   "outputs": [
    {
     "data": {
      "text/html": [
       "<div>\n",
       "<style scoped>\n",
       "    .dataframe tbody tr th:only-of-type {\n",
       "        vertical-align: middle;\n",
       "    }\n",
       "\n",
       "    .dataframe tbody tr th {\n",
       "        vertical-align: top;\n",
       "    }\n",
       "\n",
       "    .dataframe thead th {\n",
       "        text-align: right;\n",
       "    }\n",
       "</style>\n",
       "<table border=\"1\" class=\"dataframe\">\n",
       "  <thead>\n",
       "    <tr style=\"text-align: right;\">\n",
       "      <th></th>\n",
       "      <th>data</th>\n",
       "      <th>error</th>\n",
       "      <th>loss</th>\n",
       "      <th>anomaly</th>\n",
       "      <th>threshold</th>\n",
       "    </tr>\n",
       "  </thead>\n",
       "  <tbody>\n",
       "    <tr>\n",
       "      <th>0</th>\n",
       "      <td>72.119247</td>\n",
       "      <td>0.009254</td>\n",
       "      <td>0.009254</td>\n",
       "      <td>False</td>\n",
       "      <td>0.05</td>\n",
       "    </tr>\n",
       "    <tr>\n",
       "      <th>1</th>\n",
       "      <td>72.118561</td>\n",
       "      <td>0.009254</td>\n",
       "      <td>0.009254</td>\n",
       "      <td>False</td>\n",
       "      <td>0.05</td>\n",
       "    </tr>\n",
       "    <tr>\n",
       "      <th>2</th>\n",
       "      <td>72.118225</td>\n",
       "      <td>0.009254</td>\n",
       "      <td>0.009254</td>\n",
       "      <td>False</td>\n",
       "      <td>0.05</td>\n",
       "    </tr>\n",
       "    <tr>\n",
       "      <th>3</th>\n",
       "      <td>72.106804</td>\n",
       "      <td>0.009216</td>\n",
       "      <td>0.009216</td>\n",
       "      <td>False</td>\n",
       "      <td>0.05</td>\n",
       "    </tr>\n",
       "    <tr>\n",
       "      <th>4</th>\n",
       "      <td>72.119316</td>\n",
       "      <td>0.009254</td>\n",
       "      <td>0.009254</td>\n",
       "      <td>False</td>\n",
       "      <td>0.05</td>\n",
       "    </tr>\n",
       "  </tbody>\n",
       "</table>\n",
       "</div>"
      ],
      "text/plain": [
       "        data     error      loss  anomaly  threshold\n",
       "0  72.119247  0.009254  0.009254    False       0.05\n",
       "1  72.118561  0.009254  0.009254    False       0.05\n",
       "2  72.118225  0.009254  0.009254    False       0.05\n",
       "3  72.106804  0.009216  0.009216    False       0.05\n",
       "4  72.119316  0.009254  0.009254    False       0.05"
      ]
     },
     "execution_count": 19,
     "metadata": {},
     "output_type": "execute_result"
    }
   ],
   "source": [
    "df.head()"
   ]
  },
  {
   "cell_type": "code",
   "execution_count": 20,
   "metadata": {},
   "outputs": [
    {
     "name": "stdout",
     "output_type": "stream",
     "text": [
      "Window 1: Normal Operation\n",
      "Window 2: Normal Operation\n",
      "Window 3: Normal Operation\n",
      "Window 4: Normal Operation\n",
      "Window 5: Anomaly Detected\n",
      "Window 6: Normal Operation\n",
      "Window 7: Normal Operation\n",
      "Window 8: Normal Operation\n",
      "Window 9: Normal Operation\n",
      "Window 10: Anomaly Detected\n",
      "Window 11: Normal Operation\n",
      "Window 12: Normal Operation\n",
      "Window 13: Normal Operation\n",
      "Window 14: Normal Operation\n",
      "Window 15: Normal Operation\n",
      "Window 16: Normal Operation\n",
      "Window 17: Normal Operation\n",
      "Window 18: Normal Operation\n",
      "Window 19: Normal Operation\n",
      "Window 20: Normal Operation\n",
      "Window 21: Normal Operation\n",
      "Window 22: Normal Operation\n",
      "Window 23: Normal Operation\n",
      "Window 24: Normal Operation\n",
      "Window 25: Normal Operation\n",
      "Window 26: Normal Operation\n",
      "Window 27: Normal Operation\n",
      "Window 28: Normal Operation\n",
      "Window 29: Normal Operation\n",
      "Window 30: Normal Operation\n",
      "Window 31: Normal Operation\n",
      "Window 32: Normal Operation\n",
      "Window 33: Normal Operation\n",
      "Window 34: Normal Operation\n",
      "Window 35: Normal Operation\n",
      "Window 36: Normal Operation\n",
      "Window 37: Normal Operation\n",
      "Window 38: Normal Operation\n",
      "Window 39: Normal Operation\n",
      "Window 40: Anomaly Detected\n",
      "Window 41: Anomaly Detected\n",
      "Window 42: Anomaly Detected\n",
      "Fault Detected!\n",
      "Window 43: Anomaly Detected\n",
      "Fault Detected!\n",
      "Window 44: Anomaly Detected\n",
      "Fault Detected!\n",
      "Window 45: Anomaly Detected\n",
      "Fault Detected!\n",
      "Window 46: Anomaly Detected\n",
      "Fault Detected!\n",
      "Window 47: Anomaly Detected\n",
      "Fault Detected!\n",
      "Window 48: Anomaly Detected\n",
      "Fault Detected!\n",
      "Window 49: Anomaly Detected\n",
      "Fault Detected!\n",
      "Window 50: Anomaly Detected\n",
      "Fault Detected!\n",
      "Window 51: Anomaly Detected\n",
      "Fault Detected!\n",
      "Window 52: Anomaly Detected\n",
      "Fault Detected!\n",
      "Window 53: Anomaly Detected\n",
      "Fault Detected!\n",
      "Window 54: Anomaly Detected\n",
      "Fault Detected!\n",
      "Window 55: Normal Operation\n",
      "Window 56: Normal Operation\n",
      "Window 57: Normal Operation\n",
      "Window 58: Normal Operation\n",
      "Window 59: Normal Operation\n",
      "Window 60: Normal Operation\n",
      "Window 61: Normal Operation\n",
      "Window 62: Normal Operation\n",
      "Window 63: Normal Operation\n",
      "Window 64: Normal Operation\n"
     ]
    }
   ],
   "source": [
    "# Initialize variables for anomaly detection\n",
    "window_size = 100\n",
    "num_windows = int(len(test_data) / window_size)\n",
    "consecutive_anomalies = 0\n",
    "\n",
    "# Check each window of test data for anomalies\n",
    "for i in range(num_windows):\n",
    "    start_index = i * window_size\n",
    "    end_index = start_index + window_size\n",
    "    \n",
    "    # Get the anomaly status for this window\n",
    "    window_anomalies = df['anomaly'][start_index:end_index].values\n",
    "    \n",
    "    # Check if any anomalies were detected in this window\n",
    "    if window_anomalies.sum() == 0:\n",
    "        print(f\"Window {i+1}: Normal Operation\")\n",
    "        consecutive_anomalies = 0\n",
    "    else:\n",
    "        print(f\"Window {i+1}: Anomaly Detected\")\n",
    "        consecutive_anomalies += 1\n",
    "        \n",
    "        # Check if three consecutive windows had anomalies\n",
    "        if consecutive_anomalies >= 3:\n",
    "            print(\"Fault Detected!\")\n",
    "            consecutive_anomalies = 3"
   ]
  },
  {
   "cell_type": "code",
   "execution_count": null,
   "metadata": {},
   "outputs": [],
   "source": []
  }
 ],
 "metadata": {
  "kernelspec": {
   "display_name": "Python 3",
   "language": "python",
   "name": "python3"
  },
  "language_info": {
   "codemirror_mode": {
    "name": "ipython",
    "version": 3
   },
   "file_extension": ".py",
   "mimetype": "text/x-python",
   "name": "python",
   "nbconvert_exporter": "python",
   "pygments_lexer": "ipython3",
   "version": "3.7.6"
  }
 },
 "nbformat": 4,
 "nbformat_minor": 4
}
