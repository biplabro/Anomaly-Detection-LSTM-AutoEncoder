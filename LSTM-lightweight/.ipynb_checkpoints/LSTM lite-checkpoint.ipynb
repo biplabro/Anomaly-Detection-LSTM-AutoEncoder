{
 "cells": [
  {
   "cell_type": "code",
   "execution_count": 27,
   "metadata": {},
   "outputs": [],
   "source": [
    "# import data & visualization libraries\n",
    "import os\n",
    "os.environ['TF_XLA_FLAGS'] = '--tf_xla_enable_xla_devices' # for tensorflow\n",
    "import numpy as np\n",
    "import pandas as pd\n",
    "import matplotlib.pyplot as plt\n",
    "\n",
    "\n",
    "# import machine learning libraries\n",
    "import tensorflow as tf\n",
    "from datetime import datetime\n",
    "from tensorflow import keras\n",
    "from sklearn.preprocessing import StandardScaler\n",
    "from tensorflow.keras.models import Sequential\n",
    "from tensorflow.keras.layers import Dense, LSTM, Dropout, RepeatVector, TimeDistributed"
   ]
  },
  {
   "cell_type": "code",
   "execution_count": 2,
   "metadata": {},
   "outputs": [],
   "source": [
    "# Set the random seed for consistent random number generation everytime\n",
    "np.random.seed(42)\n",
    "tf.random.set_seed(42)"
   ]
  },
  {
   "cell_type": "code",
   "execution_count": 3,
   "metadata": {},
   "outputs": [],
   "source": [
    "# Load data from CSV file, no header, single datastream, no labels in data\n",
    "data = pd.read_csv('dataset.csv', header=None)"
   ]
  },
  {
   "cell_type": "code",
   "execution_count": 4,
   "metadata": {},
   "outputs": [
    {
     "data": {
      "image/png": "[encoded data removed]",
      "text/plain": [
       "<Figure size 432x288 with 1 Axes>"
      ]
     },
     "metadata": {
      "needs_background": "light"
     },
     "output_type": "display_data"
    }
   ],
   "source": [
    "#plot the data \n",
    "plt.plot(data,label = 'x= datapoints \\n y= temperature')\n",
    "plt.legend()\n",
    "plt.show()"
   ]
  },
  {
   "cell_type": "code",
   "execution_count": 5,
   "metadata": {},
   "outputs": [
    {
     "data": {
      "text/plain": [
       "((10000, 1), (6000, 1))"
      ]
     },
     "execution_count": 5,
     "metadata": {},
     "output_type": "execute_result"
    }
   ],
   "source": [
    "# Split the data, first 10000 train, remaining 6000 test data\n",
    "raw_train_data = data.iloc[:10000]\n",
    "raw_test_data = data.iloc[10000:]\n",
    "\n",
    "# verify the shape of the data\n",
    "raw_train_data.shape, raw_test_data.shape #returns (rows, columns)"
   ]
  },
  {
   "cell_type": "code",
   "execution_count": 6,
   "metadata": {},
   "outputs": [],
   "source": [
    "# scale the overall range of the data, useful for gradient computation by the optimizer\n",
    "scaler = StandardScaler()\n",
    "scaler = scaler.fit(np.array(raw_train_data).reshape(-1,1))\n",
    "train_data = scaler.transform(np.array(raw_train_data).reshape(-1,1))\n",
    "test_data = scaler.transform(np.array(raw_test_data).reshape(-1,1))\n"
   ]
  },
  {
   "cell_type": "code",
   "execution_count": 7,
   "metadata": {},
   "outputs": [],
   "source": [
    "### create sequence\n",
    "TIME_STEPS = 400\n",
    "\n",
    "def create_sequences(dataset, time_steps=TIME_STEPS):\n",
    "    \"\"\"\n",
    "    Creates sequences from the input data with the given time steps\n",
    "    \"\"\"\n",
    "    X_out = []\n",
    "    y_out = []\n",
    "    for i in range(len(dataset) - time_steps):\n",
    "        X_out.append(dataset[i:i+time_steps])\n",
    "        y_out.append(dataset[i+time_steps])\n",
    "    return np.array(X_out), np.array(y_out)"
   ]
  },
  {
   "cell_type": "code",
   "execution_count": 8,
   "metadata": {},
   "outputs": [
    {
     "name": "stdout",
     "output_type": "stream",
     "text": [
      "Training input shape:  (9600, 400, 1)\n",
      "Testing input shape:  (5600, 400, 1)\n"
     ]
    }
   ],
   "source": [
    "# Assuming you have a single column univariate data called 'data'\n",
    "# We can create sequences with a specified number of time steps using the create_sequences function\n",
    "\n",
    "X_train, y_train = create_sequences(train_data, TIME_STEPS)\n",
    "X_test, y_test = create_sequences(test_data, TIME_STEPS)\n",
    "\n",
    "# output format (number of sequence, length of batches, number of features)\n",
    "print(\"Training input shape: \", X_train.shape)\n",
    "print(\"Testing input shape: \", X_test.shape)"
   ]
  },
  {
   "cell_type": "code",
   "execution_count": 9,
   "metadata": {},
   "outputs": [],
   "source": [
    "# Define LSTM autoencoder model\n",
    "#model = Sequential()\n",
    "#model.add(LSTM(64, activation='tanh', input_shape=(TIME_STEPS, 1)))\n",
    "#model.add(Dropout(rate=0.2))\n",
    "#model.add(RepeatVector(TIME_STEPS))\n",
    "#model.add(LSTM(64, activation='tanh', return_sequences=True))\n",
    "#model.add(Dropout(rate=0.2))\n",
    "#model.add(TimeDistributed(Dense(1)))\n",
    "#model.compile(optimizer=tf.optimizers.Adam(learning_rate=0.0001), loss='mse')"
   ]
  },
  {
   "cell_type": "code",
   "execution_count": 10,
   "metadata": {},
   "outputs": [],
   "source": [
    "# Define LSTM autoencoder model\n",
    "model = Sequential()\n",
    "model.add(LSTM(64, input_shape=(TIME_STEPS, 1)))\n",
    "model.add(RepeatVector(TIME_STEPS))\n",
    "model.add(LSTM(64, return_sequences=True))\n",
    "model.add(TimeDistributed(Dense(1)))\n",
    "model.compile(optimizer=tf.optimizers.Adam(learning_rate=0.0001), loss='mse')"
   ]
  },
  {
   "cell_type": "code",
   "execution_count": 11,
   "metadata": {},
   "outputs": [
    {
     "name": "stdout",
     "output_type": "stream",
     "text": [
      "Epoch 1/16\n",
      "20/20 [==============================] - 19s 946ms/step - loss: 0.3940 - val_loss: 9.9792\n",
      "Epoch 2/16\n",
      "20/20 [==============================] - 18s 911ms/step - loss: 0.2821 - val_loss: 8.7120\n",
      "Epoch 3/16\n",
      "20/20 [==============================] - 18s 901ms/step - loss: 0.1671 - val_loss: 8.0879\n",
      "Epoch 4/16\n",
      "20/20 [==============================] - 18s 912ms/step - loss: 0.0763 - val_loss: 8.1504\n",
      "Epoch 5/16\n",
      "20/20 [==============================] - 18s 906ms/step - loss: 0.0600 - val_loss: 8.2822\n",
      "Epoch 6/16\n",
      "20/20 [==============================] - 19s 926ms/step - loss: 0.0555 - val_loss: 8.2439\n",
      "Epoch 7/16\n",
      "20/20 [==============================] - 18s 916ms/step - loss: 0.0524 - val_loss: 8.2298\n",
      "Epoch 8/16\n",
      "20/20 [==============================] - 18s 923ms/step - loss: 0.0503 - val_loss: 8.2105\n",
      "Epoch 9/16\n",
      "20/20 [==============================] - 18s 909ms/step - loss: 0.0485 - val_loss: 8.1614\n",
      "Epoch 10/16\n",
      "20/20 [==============================] - 18s 910ms/step - loss: 0.0472 - val_loss: 8.1079\n",
      "Epoch 11/16\n",
      "20/20 [==============================] - 18s 910ms/step - loss: 0.0458 - val_loss: 8.0507\n",
      "Epoch 12/16\n",
      "20/20 [==============================] - 18s 898ms/step - loss: 0.0444 - val_loss: 8.0012\n",
      "Epoch 13/16\n",
      "20/20 [==============================] - 18s 918ms/step - loss: 0.0426 - val_loss: 7.9748\n",
      "Epoch 14/16\n",
      "20/20 [==============================] - 18s 898ms/step - loss: 0.0385 - val_loss: 7.9637\n",
      "Epoch 15/16\n",
      "20/20 [==============================] - 18s 910ms/step - loss: 0.0411 - val_loss: 7.8883\n",
      "Epoch 16/16\n",
      "20/20 [==============================] - 18s 906ms/step - loss: 0.0400 - val_loss: 7.8521\n",
      "Execution time is: (H:MM:SS.ms)\n",
      "0:05:06.254167\n"
     ]
    }
   ],
   "source": [
    "### check execution time of cell, variable for different hardware & software setups\n",
    "start_time = datetime.now()\n",
    "\n",
    "# Train the model and save the history\n",
    "history = model.fit(X_train, X_train, epochs=16, batch_size=500, validation_data=(X_test, X_test), verbose=1,)\n",
    "\n",
    "end_time = datetime.now()\n",
    "exec_time = end_time-start_time\n",
    "print (\"Execution time is: (H:MM:SS.ms)\" )\n",
    "print(exec_time)"
   ]
  },
  {
   "cell_type": "code",
   "execution_count": 12,
   "metadata": {},
   "outputs": [
    {
     "data": {
      "image/png": "[encoded data removed]",
      "text/plain": [
       "<Figure size 432x288 with 1 Axes>"
      ]
     },
     "metadata": {
      "needs_background": "light"
     },
     "output_type": "display_data"
    }
   ],
   "source": [
    "### Plot Training - Validation loss\n",
    "plt.plot(history.history['loss'], label='Training loss')\n",
    "plt.plot(history.history['val_loss'], label='Validation loss')\n",
    "plt.xlabel('Epoch')\n",
    "plt.ylabel('Loss')\n",
    "plt.legend();"
   ]
  },
  {
   "cell_type": "code",
   "execution_count": 13,
   "metadata": {},
   "outputs": [
    {
     "name": "stdout",
     "output_type": "stream",
     "text": [
      "300/300 [==============================] - 15s 51ms/step\n",
      "Execution time is: (H:MM:SS.ms)\n",
      "0:00:15.807617\n"
     ]
    }
   ],
   "source": [
    "### check execution time of cell, variable for different hardware & software setups\n",
    "start_time = datetime.now()\n",
    "\n",
    "# Make predictions on the train dataset\n",
    "X_train_pred = model.predict(X_train, verbose=1)\n",
    "\n",
    "end_time = datetime.now()\n",
    "exec_time = end_time-start_time\n",
    "print (\"Execution time is: (H:MM:SS.ms)\" )\n",
    "print(exec_time)"
   ]
  },
  {
   "cell_type": "code",
   "execution_count": 14,
   "metadata": {},
   "outputs": [],
   "source": [
    "# Calculate MAE loss on the train dataset\n",
    "train_mae_loss = np.mean(np.abs(X_train_pred - X_train), axis=1)\n",
    "# Flatten the train_mae_loss array\n",
    "##train_mae_loss = train_mae_loss.flatten()\n"
   ]
  },
  {
   "cell_type": "code",
   "execution_count": 15,
   "metadata": {},
   "outputs": [
    {
     "data": {
      "image/png": "[encoded data removed]",
      "text/plain": [
       "<Figure size 432x288 with 1 Axes>"
      ]
     },
     "metadata": {
      "needs_background": "light"
     },
     "output_type": "display_data"
    }
   ],
   "source": [
    "# Visualize MAE loss on the train dataset\n",
    "plt.hist(train_mae_loss, bins=50)\n",
    "plt.xlabel('Train MAE loss')\n",
    "plt.ylabel('Number of Samples')\n",
    "plt.show()"
   ]
  },
  {
   "cell_type": "code",
   "execution_count": 16,
   "metadata": {},
   "outputs": [
    {
     "name": "stdout",
     "output_type": "stream",
     "text": [
      "175/175 [==============================] - 9s 51ms/step\n",
      "Execution time is: (H:MM:SS.ms)\n",
      "0:00:09.034449\n"
     ]
    }
   ],
   "source": [
    "### check execution time of cell, variable for different hardware & software setups\n",
    "start_time = datetime.now()\n",
    "\n",
    "# Make predictions on the test dataset\n",
    "X_test_pred = model.predict(X_test, verbose=1)\n",
    "\n",
    "end_time = datetime.now()\n",
    "exec_time = end_time-start_time\n",
    "print (\"Execution time is: (H:MM:SS.ms)\" )\n",
    "print(exec_time)"
   ]
  },
  {
   "cell_type": "code",
   "execution_count": 17,
   "metadata": {},
   "outputs": [],
   "source": [
    "# Calculate MAE loss on the test dataset\n",
    "test_mae_loss = np.mean(np.abs(X_test_pred - X_test), axis=1)\n"
   ]
  },
  {
   "cell_type": "code",
   "execution_count": 18,
   "metadata": {
    "scrolled": true
   },
   "outputs": [
    {
     "data": {
      "image/png": "[encoded data removed]",
      "text/plain": [
       "<Figure size 432x288 with 1 Axes>"
      ]
     },
     "metadata": {
      "needs_background": "light"
     },
     "output_type": "display_data"
    }
   ],
   "source": [
    "# Visualize MAE loss on the test dataset\n",
    "plt.hist(test_mae_loss, bins=50)\n",
    "plt.xlabel('Test MAE loss')\n",
    "plt.ylabel('Number of Samples')\n",
    "plt.show()"
   ]
  },
  {
   "cell_type": "code",
   "execution_count": 19,
   "metadata": {},
   "outputs": [],
   "source": [
    "# Set the threshold for anomaly detection\n",
    "# threshold = 0.5\n",
    "threshold = np.mean(train_mae_loss) + 3 * np.std(train_mae_loss)"
   ]
  },
  {
   "cell_type": "code",
   "execution_count": 20,
   "metadata": {},
   "outputs": [
    {
     "data": {
      "text/plain": [
       "0.5161222772469681"
      ]
     },
     "execution_count": 20,
     "metadata": {},
     "output_type": "execute_result"
    }
   ],
   "source": [
    "threshold"
   ]
  },
  {
   "cell_type": "code",
   "execution_count": 21,
   "metadata": {},
   "outputs": [],
   "source": [
    "# convert raw_test_data.to_numpy() array to fit in the table\n",
    "sensor_data = raw_test_data.to_numpy()\n",
    "\n",
    "# Create anomaly dataframe\n",
    "anomaly_df = pd.DataFrame(columns=['Timesteps', 'Sensor_data', 'Test_loss', 'Threshold', 'Anomaly'])\n",
    "\n",
    "# Add data to the anomaly dataframe\n",
    "anomaly_df['Timesteps'] = range(TIME_STEPS, len(raw_test_data))\n",
    "anomaly_df['Sensor_data'] = sensor_data[TIME_STEPS:]\n",
    "anomaly_df['Test_loss'] = test_mae_loss\n",
    "\n",
    "# Add the threshold column to the anomaly dataframe\n",
    "anomaly_df['Threshold'] = threshold\n",
    "\n",
    "# Find the anomalous data points\n",
    "anomaly_df['Anomaly'] = anomaly_df['Test_loss'] > anomaly_df['Threshold']"
   ]
  },
  {
   "cell_type": "code",
   "execution_count": 22,
   "metadata": {},
   "outputs": [
    {
     "data": {
      "text/html": [
       "<div>\n",
       "<style scoped>\n",
       "    .dataframe tbody tr th:only-of-type {\n",
       "        vertical-align: middle;\n",
       "    }\n",
       "\n",
       "    .dataframe tbody tr th {\n",
       "        vertical-align: top;\n",
       "    }\n",
       "\n",
       "    .dataframe thead th {\n",
       "        text-align: right;\n",
       "    }\n",
       "</style>\n",
       "<table border=\"1\" class=\"dataframe\">\n",
       "  <thead>\n",
       "    <tr style=\"text-align: right;\">\n",
       "      <th></th>\n",
       "      <th>Timesteps</th>\n",
       "      <th>Sensor_data</th>\n",
       "      <th>Test_loss</th>\n",
       "      <th>Threshold</th>\n",
       "      <th>Anomaly</th>\n",
       "    </tr>\n",
       "  </thead>\n",
       "  <tbody>\n",
       "    <tr>\n",
       "      <th>0</th>\n",
       "      <td>400</td>\n",
       "      <td>72.121361</td>\n",
       "      <td>0.060086</td>\n",
       "      <td>0.516122</td>\n",
       "      <td>False</td>\n",
       "    </tr>\n",
       "    <tr>\n",
       "      <th>1</th>\n",
       "      <td>401</td>\n",
       "      <td>72.121368</td>\n",
       "      <td>0.060730</td>\n",
       "      <td>0.516122</td>\n",
       "      <td>False</td>\n",
       "    </tr>\n",
       "    <tr>\n",
       "      <th>2</th>\n",
       "      <td>402</td>\n",
       "      <td>72.121399</td>\n",
       "      <td>0.061192</td>\n",
       "      <td>0.516122</td>\n",
       "      <td>False</td>\n",
       "    </tr>\n",
       "    <tr>\n",
       "      <th>3</th>\n",
       "      <td>403</td>\n",
       "      <td>72.121429</td>\n",
       "      <td>0.061448</td>\n",
       "      <td>0.516122</td>\n",
       "      <td>False</td>\n",
       "    </tr>\n",
       "    <tr>\n",
       "      <th>4</th>\n",
       "      <td>404</td>\n",
       "      <td>72.118942</td>\n",
       "      <td>0.061504</td>\n",
       "      <td>0.516122</td>\n",
       "      <td>False</td>\n",
       "    </tr>\n",
       "    <tr>\n",
       "      <th>...</th>\n",
       "      <td>...</td>\n",
       "      <td>...</td>\n",
       "      <td>...</td>\n",
       "      <td>...</td>\n",
       "      <td>...</td>\n",
       "    </tr>\n",
       "    <tr>\n",
       "      <th>3328</th>\n",
       "      <td>3728</td>\n",
       "      <td>120.128662</td>\n",
       "      <td>5.158436</td>\n",
       "      <td>0.516122</td>\n",
       "      <td>True</td>\n",
       "    </tr>\n",
       "    <tr>\n",
       "      <th>3329</th>\n",
       "      <td>3729</td>\n",
       "      <td>120.126694</td>\n",
       "      <td>5.159695</td>\n",
       "      <td>0.516122</td>\n",
       "      <td>True</td>\n",
       "    </tr>\n",
       "    <tr>\n",
       "      <th>3330</th>\n",
       "      <td>3730</td>\n",
       "      <td>120.138878</td>\n",
       "      <td>5.160948</td>\n",
       "      <td>0.516122</td>\n",
       "      <td>True</td>\n",
       "    </tr>\n",
       "    <tr>\n",
       "      <th>3331</th>\n",
       "      <td>3731</td>\n",
       "      <td>120.164886</td>\n",
       "      <td>5.162204</td>\n",
       "      <td>0.516122</td>\n",
       "      <td>True</td>\n",
       "    </tr>\n",
       "    <tr>\n",
       "      <th>3332</th>\n",
       "      <td>3732</td>\n",
       "      <td>120.169930</td>\n",
       "      <td>5.163469</td>\n",
       "      <td>0.516122</td>\n",
       "      <td>True</td>\n",
       "    </tr>\n",
       "  </tbody>\n",
       "</table>\n",
       "<p>3333 rows × 5 columns</p>\n",
       "</div>"
      ],
      "text/plain": [
       "      Timesteps  Sensor_data  Test_loss  Threshold  Anomaly\n",
       "0           400    72.121361   0.060086   0.516122    False\n",
       "1           401    72.121368   0.060730   0.516122    False\n",
       "2           402    72.121399   0.061192   0.516122    False\n",
       "3           403    72.121429   0.061448   0.516122    False\n",
       "4           404    72.118942   0.061504   0.516122    False\n",
       "...         ...          ...        ...        ...      ...\n",
       "3328       3728   120.128662   5.158436   0.516122     True\n",
       "3329       3729   120.126694   5.159695   0.516122     True\n",
       "3330       3730   120.138878   5.160948   0.516122     True\n",
       "3331       3731   120.164886   5.162204   0.516122     True\n",
       "3332       3732   120.169930   5.163469   0.516122     True\n",
       "\n",
       "[3333 rows x 5 columns]"
      ]
     },
     "execution_count": 22,
     "metadata": {},
     "output_type": "execute_result"
    }
   ],
   "source": [
    "anomaly_df.head(3333)"
   ]
  },
  {
   "cell_type": "code",
   "execution_count": 23,
   "metadata": {},
   "outputs": [
    {
     "data": {
      "image/png": "[encoded data removed]",
      "text/plain": [
       "<Figure size 432x288 with 2 Axes>"
      ]
     },
     "metadata": {
      "needs_background": "light"
     },
     "output_type": "display_data"
    }
   ],
   "source": [
    "# Plot the anomaly dataframe and test dataset\n",
    "fig, ax1 = plt.subplots()\n",
    "ax2 = ax1.twinx()\n",
    "\n",
    "color1 = 'blue'\n",
    "color2 = 'red'\n",
    "\n",
    "line1 = ax1.plot(anomaly_df.index, anomaly_df['Sensor_data'], color=color1, label = 'Data')\n",
    "line2 = ax2.plot(anomaly_df.index, anomaly_df['Test_loss'], color=color2, label = 'Reconstruction error')\n",
    "line3 = ax2.plot(anomaly_df.index, anomaly_df['Threshold'], color=color2, linestyle = 'dotted', label = 'Threshold val')\n",
    "\n",
    "#ax2.set_ylim([-0.1, 1.1])\n",
    "plt.title('Anomaly Detection Results')\n",
    "#plt.xlabel('Test data')\n",
    "ax1.set_xlabel('Datapoints')\n",
    "ax1.set_ylabel('Temperature')\n",
    "ax2.set_ylabel('Anomaly')\n",
    "\n",
    "ax2.spines['left'].set_color(color1)\n",
    "ax2.spines['right'].set_color(color2)\n",
    "ax1.tick_params(axis = 'y', labelcolor = color1)\n",
    "ax2.tick_params(axis = 'y', labelcolor = color2)\n",
    "\n",
    "lines = line1 + line2 + line3\n",
    "labels = [l.get_label() for l in lines]\n",
    "plt.legend(lines, labels, loc = \"upper left\")\n",
    "\n",
    "plt.show()\n"
   ]
  },
  {
   "cell_type": "code",
   "execution_count": 24,
   "metadata": {},
   "outputs": [
    {
     "data": {
      "text/html": [
       "<div>\n",
       "<style scoped>\n",
       "    .dataframe tbody tr th:only-of-type {\n",
       "        vertical-align: middle;\n",
       "    }\n",
       "\n",
       "    .dataframe tbody tr th {\n",
       "        vertical-align: top;\n",
       "    }\n",
       "\n",
       "    .dataframe thead th {\n",
       "        text-align: right;\n",
       "    }\n",
       "</style>\n",
       "<table border=\"1\" class=\"dataframe\">\n",
       "  <thead>\n",
       "    <tr style=\"text-align: right;\">\n",
       "      <th></th>\n",
       "      <th>Timesteps</th>\n",
       "      <th>Sensor_data</th>\n",
       "      <th>Test_loss</th>\n",
       "      <th>Threshold</th>\n",
       "      <th>Anomaly</th>\n",
       "    </tr>\n",
       "  </thead>\n",
       "  <tbody>\n",
       "    <tr>\n",
       "      <th>0</th>\n",
       "      <td>400</td>\n",
       "      <td>72.121361</td>\n",
       "      <td>0.060086</td>\n",
       "      <td>0.516122</td>\n",
       "      <td>False</td>\n",
       "    </tr>\n",
       "    <tr>\n",
       "      <th>1</th>\n",
       "      <td>401</td>\n",
       "      <td>72.121368</td>\n",
       "      <td>0.060730</td>\n",
       "      <td>0.516122</td>\n",
       "      <td>False</td>\n",
       "    </tr>\n",
       "    <tr>\n",
       "      <th>2</th>\n",
       "      <td>402</td>\n",
       "      <td>72.121399</td>\n",
       "      <td>0.061192</td>\n",
       "      <td>0.516122</td>\n",
       "      <td>False</td>\n",
       "    </tr>\n",
       "    <tr>\n",
       "      <th>3</th>\n",
       "      <td>403</td>\n",
       "      <td>72.121429</td>\n",
       "      <td>0.061448</td>\n",
       "      <td>0.516122</td>\n",
       "      <td>False</td>\n",
       "    </tr>\n",
       "    <tr>\n",
       "      <th>4</th>\n",
       "      <td>404</td>\n",
       "      <td>72.118942</td>\n",
       "      <td>0.061504</td>\n",
       "      <td>0.516122</td>\n",
       "      <td>False</td>\n",
       "    </tr>\n",
       "    <tr>\n",
       "      <th>...</th>\n",
       "      <td>...</td>\n",
       "      <td>...</td>\n",
       "      <td>...</td>\n",
       "      <td>...</td>\n",
       "      <td>...</td>\n",
       "    </tr>\n",
       "    <tr>\n",
       "      <th>3328</th>\n",
       "      <td>3728</td>\n",
       "      <td>120.128662</td>\n",
       "      <td>5.158436</td>\n",
       "      <td>0.516122</td>\n",
       "      <td>True</td>\n",
       "    </tr>\n",
       "    <tr>\n",
       "      <th>3329</th>\n",
       "      <td>3729</td>\n",
       "      <td>120.126694</td>\n",
       "      <td>5.159695</td>\n",
       "      <td>0.516122</td>\n",
       "      <td>True</td>\n",
       "    </tr>\n",
       "    <tr>\n",
       "      <th>3330</th>\n",
       "      <td>3730</td>\n",
       "      <td>120.138878</td>\n",
       "      <td>5.160948</td>\n",
       "      <td>0.516122</td>\n",
       "      <td>True</td>\n",
       "    </tr>\n",
       "    <tr>\n",
       "      <th>3331</th>\n",
       "      <td>3731</td>\n",
       "      <td>120.164886</td>\n",
       "      <td>5.162204</td>\n",
       "      <td>0.516122</td>\n",
       "      <td>True</td>\n",
       "    </tr>\n",
       "    <tr>\n",
       "      <th>3332</th>\n",
       "      <td>3732</td>\n",
       "      <td>120.169930</td>\n",
       "      <td>5.163469</td>\n",
       "      <td>0.516122</td>\n",
       "      <td>True</td>\n",
       "    </tr>\n",
       "  </tbody>\n",
       "</table>\n",
       "<p>3333 rows × 5 columns</p>\n",
       "</div>"
      ],
      "text/plain": [
       "      Timesteps  Sensor_data  Test_loss  Threshold  Anomaly\n",
       "0           400    72.121361   0.060086   0.516122    False\n",
       "1           401    72.121368   0.060730   0.516122    False\n",
       "2           402    72.121399   0.061192   0.516122    False\n",
       "3           403    72.121429   0.061448   0.516122    False\n",
       "4           404    72.118942   0.061504   0.516122    False\n",
       "...         ...          ...        ...        ...      ...\n",
       "3328       3728   120.128662   5.158436   0.516122     True\n",
       "3329       3729   120.126694   5.159695   0.516122     True\n",
       "3330       3730   120.138878   5.160948   0.516122     True\n",
       "3331       3731   120.164886   5.162204   0.516122     True\n",
       "3332       3732   120.169930   5.163469   0.516122     True\n",
       "\n",
       "[3333 rows x 5 columns]"
      ]
     },
     "execution_count": 24,
     "metadata": {},
     "output_type": "execute_result"
    }
   ],
   "source": [
    "anomaly_df.head(3333)"
   ]
  },
  {
   "cell_type": "code",
   "execution_count": 25,
   "metadata": {},
   "outputs": [
    {
     "name": "stdout",
     "output_type": "stream",
     "text": [
      "Status of window 2 is normal\n",
      "Status of window 3 is normal\n",
      "Status of window 4 is normal\n",
      "Status of window 5 is normal\n",
      "Status of window 6 is normal\n",
      "Status of window 7 is normal\n",
      "Status of window 8 is anomaly\n",
      "Status of window 9 is anomaly\n",
      "Status of window 10 is anomaly\n",
      "Status of window 11 is normal\n",
      "Status of window 12 is anomaly\n",
      "Status of window 13 is normal\n",
      "Status of window 14 is normal\n",
      "Status of window 15 is normal\n",
      "Status of window 16 is normal\n",
      "Status of window 17 is normal\n",
      "Status of window 18 is normal\n",
      "Status of window 19 is normal\n",
      "Status of window 20 is normal\n",
      "Status of window 21 is normal\n",
      "Status of window 22 is normal\n",
      "Status of window 23 is anomaly\n",
      "Status of window 24 is anomaly\n",
      "Status of window 25 is anomaly\n",
      "Status of window 26 is anomaly\n",
      "Status of window 27 is anomaly\n",
      "Status of window 28 is fault\n",
      "Status of window 29 is fault\n",
      "Status of window 30 is fault\n",
      "Status of window 31 is fault\n",
      "Status of window 32 is fault\n",
      "Status of window 33 is fault\n",
      "Status of window 34 is fault\n",
      "Status of window 35 is fault\n",
      "Status of window 36 is fault\n",
      "Status of window 37 is fault\n",
      "Status of window 38 is fault\n",
      "Status of window 39 is fault\n",
      "Status of window 40 is fault\n",
      "Status of window 41 is fault\n",
      "Status of window 42 is fault\n",
      "Status of window 43 is fault\n",
      "Status of window 44 is fault\n",
      "Status of window 45 is fault\n",
      "Status of window 46 is anomaly\n",
      "Status of window 47 is anomaly\n",
      "Status of window 48 is normal\n",
      "Status of window 49 is normal\n",
      "Status of window 50 is normal\n",
      "Status of window 51 is normal\n",
      "Status of window 52 is normal\n",
      "Status of window 53 is normal\n",
      "Status of window 54 is normal\n",
      "Status of window 55 is normal\n"
     ]
    }
   ],
   "source": [
    "# Define the anomaly threshold value\n",
    "anomaly_threshold = 5 * threshold\n",
    "\n",
    "# Define the window size\n",
    "window_size = 100\n",
    "\n",
    "# Initialize the moving average\n",
    "moving_average = [0] * 3\n",
    "\n",
    "# Loop through the windows\n",
    "for i in range(window_size, len(test_mae_loss)-window_size):\n",
    "    # Get the data for the current set of 3 consecutive windows\n",
    "    window_data1 = test_mae_loss[i-window_size:i]\n",
    "    window_data2 = test_mae_loss[i:i+window_size]\n",
    "    window_data3 = test_mae_loss[i+window_size:i+2*window_size]\n",
    "\n",
    "    # Calculate the mean of each window\n",
    "    mean_window1 = np.mean(window_data1)\n",
    "    mean_window2 = np.mean(window_data2)\n",
    "    mean_window3 = np.mean(window_data3)\n",
    "\n",
    "    # Add the current mean to the moving average\n",
    "    moving_average.append(mean_window2)\n",
    "    moving_average.pop(0)\n",
    "\n",
    "    # Check if the moving average is less than the threshold\n",
    "    if np.mean(moving_average) < threshold:\n",
    "        status = \"normal\"\n",
    "    # Check if the moving average is between threshold and anomaly_threshold\n",
    "    elif threshold <= np.mean(moving_average) <= anomaly_threshold:\n",
    "        status = \"anomaly\"\n",
    "    # If the moving average is greater than anomaly_threshold, mark as fault data\n",
    "    else:\n",
    "        status = \"fault\"\n",
    "\n",
    "    # Print the status of the third window in each set of 3 consecutive windows\n",
    "    if (i+window_size) % (window_size) == 0:\n",
    "        print(f\"Status of window {i//window_size+1} is {status}\")"
   ]
  },
  {
   "cell_type": "code",
   "execution_count": null,
   "metadata": {},
   "outputs": [],
   "source": []
  },
  {
   "cell_type": "code",
   "execution_count": 26,
   "metadata": {},
   "outputs": [],
   "source": [
    "# References\n",
    "# https://towardsdatascience.com/scale-standardize-or-normalize-with-scikit-learn-6ccc7d176a02\n",
    "# https://analyticsindiamag.com/why-data-scaling-is-important-in-machine-learning-how-to-effectively-do-it/\n",
    "# https://www.youtube.com/watch?v=_TZC88plGZs\n",
    "# \n",
    "# \n",
    "# \n",
    "# \n",
    "# https://ipython.readthedocs.io/en/stable/interactive/reference.html#magic-command-system\n",
    "# https://www.youtube.com/watch?v=99gvqZ-xEgo\n",
    "# https://stackoverflow.com/questions/33305510/assign-values-to-ranges-in-pandas-dataframe#33306098\n",
    "# https://pynative.com/python-get-execution-time-of-program/"
   ]
  },
  {
   "cell_type": "code",
   "execution_count": null,
   "metadata": {},
   "outputs": [],
   "source": []
  }
 ],
 "metadata": {
  "kernelspec": {
   "display_name": "Python 3",
   "language": "python",
   "name": "python3"
  },
  "language_info": {
   "codemirror_mode": {
    "name": "ipython",
    "version": 3
   },
   "file_extension": ".py",
   "mimetype": "text/x-python",
   "name": "python",
   "nbconvert_exporter": "python",
   "pygments_lexer": "ipython3",
   "version": "3.7.6"
  }
 },
 "nbformat": 4,
 "nbformat_minor": 4
}
