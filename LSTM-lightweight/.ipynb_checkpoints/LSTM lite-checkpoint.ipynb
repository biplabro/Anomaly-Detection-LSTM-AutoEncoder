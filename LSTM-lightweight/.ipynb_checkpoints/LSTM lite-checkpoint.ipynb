{
 "cells": [
  {
   "cell_type": "code",
   "execution_count": 1,
   "metadata": {},
   "outputs": [],
   "source": [
    "# import data & visualization libraries\n",
    "import os\n",
    "# for tensorflow, XLA (Accelerated Linear Algebra) environment variable to enhance the performace on compatible devices\n",
    "os.environ['TF_XLA_FLAGS'] = '--tf_xla_enable_xla_devices' \n",
    "import numpy as np\n",
    "import pandas as pd\n",
    "import matplotlib.pyplot as plt\n",
    "\n",
    "# import machine learning libraries\n",
    "import tensorflow as tf\n",
    "from datetime import datetime\n",
    "from tensorflow import keras\n",
    "from sklearn.preprocessing import StandardScaler\n",
    "from tensorflow.keras.models import Sequential\n",
    "from tensorflow.keras.layers import Dense, LSTM, Dropout, RepeatVector, TimeDistributed"
   ]
  },
  {
   "cell_type": "code",
   "execution_count": 2,
   "metadata": {},
   "outputs": [],
   "source": [
    "# set the random seed for consistent random number generation everytime\n",
    "np.random.seed(42)\n",
    "tf.random.set_seed(42)"
   ]
  },
  {
   "cell_type": "code",
   "execution_count": 3,
   "metadata": {},
   "outputs": [],
   "source": [
    "# load data from CSV file, no header, single datastream, no labels in data\n",
    "data = pd.read_csv('dataset.csv', header=None)"
   ]
  },
  {
   "cell_type": "code",
   "execution_count": 4,
   "metadata": {},
   "outputs": [
    {
     "data": {
      "image/png": "[encoded data removed]",
      "text/plain": [
       "<Figure size 432x288 with 1 Axes>"
      ]
     },
     "metadata": {
      "needs_background": "light"
     },
     "output_type": "display_data"
    }
   ],
   "source": [
    "#plot the data \n",
    "plt.plot(data,label = 'x= datapoints \\n y= temperature')\n",
    "plt.legend()\n",
    "plt.show()"
   ]
  },
  {
   "cell_type": "code",
   "execution_count": 5,
   "metadata": {},
   "outputs": [
    {
     "data": {
      "text/plain": [
       "((10000, 1), (6000, 1))"
      ]
     },
     "execution_count": 5,
     "metadata": {},
     "output_type": "execute_result"
    }
   ],
   "source": [
    "# split the data, first 10000 train, remaining 6000 test data\n",
    "raw_train_data = data.iloc[:10000]\n",
    "raw_test_data = data.iloc[10000:]\n",
    "\n",
    "# verify the shape of the data; (col,row)\n",
    "raw_train_data.shape, raw_test_data.shape #returns (rows, columns)"
   ]
  },
  {
   "cell_type": "code",
   "execution_count": 6,
   "metadata": {},
   "outputs": [],
   "source": [
    "# scale the overall range of the data to 1 std. deviation, useful for gradient computation by the optimizer\n",
    "scaler = StandardScaler()\n",
    "# calculate the 'mean' using fit method\n",
    "scaler = scaler.fit(np.array(raw_train_data).reshape(-1,1))\n",
    "# transform the mean into train & test data; reshape (number of samples, features)\n",
    "train_data = scaler.transform(np.array(raw_train_data).reshape(-1,1))\n",
    "test_data = scaler.transform(np.array(raw_test_data).reshape(-1,1))\n"
   ]
  },
  {
   "cell_type": "code",
   "execution_count": 7,
   "metadata": {},
   "outputs": [],
   "source": [
    "### create sequence with timesteps, referred to as the lookback window or memory of the model \n",
    "TIME_STEPS = 400\n",
    "\n",
    "def create_sequences(dataset, time_steps=TIME_STEPS):\n",
    "    \n",
    "    # creates sequences from the input data with the given time steps\n",
    "    X_out = []\n",
    "    y_out = []\n",
    "    for i in range(len(dataset) - time_steps):\n",
    "        X_out.append(dataset[i:i+time_steps])\n",
    "        y_out.append(dataset[i+time_steps])\n",
    "    return np.array(X_out), np.array(y_out)"
   ]
  },
  {
   "cell_type": "code",
   "execution_count": 8,
   "metadata": {},
   "outputs": [
    {
     "name": "stdout",
     "output_type": "stream",
     "text": [
      "Training input shape:  (9600, 400, 1)\n",
      "Testing input shape:  (5600, 400, 1)\n"
     ]
    }
   ],
   "source": [
    "# create sequences with a specified number of time steps using the create_sequences function\n",
    "\n",
    "X_train, y_train = create_sequences(train_data, TIME_STEPS)\n",
    "X_test, y_test = create_sequences(test_data, TIME_STEPS)\n",
    "\n",
    "# output format of X_train.shape, (number of timesteps, sample per timesteps, number of features)\n",
    "print(\"Training input shape: \", X_train.shape)\n",
    "print(\"Testing input shape: \", X_test.shape)"
   ]
  },
  {
   "cell_type": "code",
   "execution_count": 9,
   "metadata": {},
   "outputs": [],
   "source": [
    "# Define LSTM autoencoder model\n",
    "# linear stack of layers\n",
    "model = Sequential()\n",
    "# LSTM layer with 64 units, timesteps number of samples and 1 feature\n",
    "model.add(LSTM(64, input_shape=(TIME_STEPS, 1)))\n",
    "# repeat the representation from the previous layer timesteps times for decoding\n",
    "model.add(RepeatVector(TIME_STEPS))\n",
    "# feed the representation to 64 LSTM units to generate the input sequence\n",
    "model.add(LSTM(64, return_sequences=True))\n",
    "# produce a single output value for each time step of the input sequence\n",
    "model.add(TimeDistributed(Dense(1)))\n",
    "# compile with adam optimizer, tune learning rate to minize 'mse'\n",
    "model.compile(optimizer=tf.optimizers.Adam(learning_rate=0.0001), loss='mse')"
   ]
  },
  {
   "cell_type": "code",
   "execution_count": 10,
   "metadata": {},
   "outputs": [
    {
     "name": "stdout",
     "output_type": "stream",
     "text": [
      "Epoch 1/16\n",
      "20/20 [==============================] - 44s 2s/step - loss: 0.3940 - val_loss: 9.9792\n",
      "Epoch 2/16\n",
      "20/20 [==============================] - 43s 2s/step - loss: 0.2821 - val_loss: 8.7119\n",
      "Epoch 3/16\n",
      "20/20 [==============================] - 45s 2s/step - loss: 0.1671 - val_loss: 8.0879\n",
      "Epoch 4/16\n",
      "20/20 [==============================] - 43s 2s/step - loss: 0.0763 - val_loss: 8.1504\n",
      "Epoch 5/16\n",
      "20/20 [==============================] - 43s 2s/step - loss: 0.0600 - val_loss: 8.2822\n",
      "Epoch 6/16\n",
      "20/20 [==============================] - 44s 2s/step - loss: 0.0555 - val_loss: 8.2439\n",
      "Epoch 7/16\n",
      "20/20 [==============================] - 44s 2s/step - loss: 0.0524 - val_loss: 8.2298\n",
      "Epoch 8/16\n",
      "20/20 [==============================] - 44s 2s/step - loss: 0.0503 - val_loss: 8.2105\n",
      "Epoch 9/16\n",
      "20/20 [==============================] - 44s 2s/step - loss: 0.0485 - val_loss: 8.1614\n",
      "Epoch 10/16\n",
      "20/20 [==============================] - 43s 2s/step - loss: 0.0472 - val_loss: 8.1079\n",
      "Epoch 11/16\n",
      "20/20 [==============================] - 44s 2s/step - loss: 0.0458 - val_loss: 8.0507\n",
      "Epoch 12/16\n",
      "20/20 [==============================] - 44s 2s/step - loss: 0.0444 - val_loss: 8.0012\n",
      "Epoch 13/16\n",
      "20/20 [==============================] - 44s 2s/step - loss: 0.0426 - val_loss: 7.9748\n",
      "Epoch 14/16\n",
      "20/20 [==============================] - 44s 2s/step - loss: 0.0385 - val_loss: 7.9637\n",
      "Epoch 15/16\n",
      "20/20 [==============================] - 45s 2s/step - loss: 0.0411 - val_loss: 7.8880\n",
      "Epoch 16/16\n",
      "20/20 [==============================] - 45s 2s/step - loss: 0.0400 - val_loss: 7.8518\n",
      "Execution time is: (H:MM:SS.ms)\n",
      "0:12:15.122728\n"
     ]
    }
   ],
   "source": [
    "### check execution time of cell, variable for different hardware & software setups\n",
    "start_time = datetime.now()\n",
    "\n",
    "# Train the model and save the history\n",
    "history = model.fit(X_train, X_train, epochs=16, batch_size=500, validation_data=(X_test, X_test), verbose=1,)\n",
    "\n",
    "end_time = datetime.now()\n",
    "exec_time = end_time-start_time\n",
    "print (\"Execution time is: (H:MM:SS.ms)\" )\n",
    "print(exec_time)"
   ]
  },
  {
   "cell_type": "code",
   "execution_count": 11,
   "metadata": {},
   "outputs": [
    {
     "data": {
      "image/png": "[encoded data removed]",
      "text/plain": [
       "<Figure size 432x288 with 1 Axes>"
      ]
     },
     "metadata": {
      "needs_background": "light"
     },
     "output_type": "display_data"
    }
   ],
   "source": [
    "### Plot Training - Validation loss\n",
    "plt.plot(history.history['loss'], label='Training loss')\n",
    "plt.plot(history.history['val_loss'], label='Validation loss')\n",
    "plt.xlabel('Epoch')\n",
    "plt.ylabel('Loss')\n",
    "plt.legend();"
   ]
  },
  {
   "cell_type": "code",
   "execution_count": 12,
   "metadata": {},
   "outputs": [
    {
     "name": "stdout",
     "output_type": "stream",
     "text": [
      "300/300 [==============================] - 30s 100ms/step\n",
      "Execution time is: (H:MM:SS.ms)\n",
      "0:00:30.982999\n"
     ]
    }
   ],
   "source": [
    "### check execution time of cell, variable for different hardware & software setups\n",
    "start_time = datetime.now()\n",
    "\n",
    "# Make predictions on the train dataset\n",
    "X_train_pred = model.predict(X_train, verbose=1)\n",
    "\n",
    "end_time = datetime.now()\n",
    "exec_time = end_time-start_time\n",
    "print (\"Execution time is: (H:MM:SS.ms)\" )\n",
    "print(exec_time)"
   ]
  },
  {
   "cell_type": "code",
   "execution_count": 13,
   "metadata": {},
   "outputs": [],
   "source": [
    "# calculate MAE loss on the train dataset, the difference between predicted value & actual value\n",
    "train_mae_loss = np.mean(np.abs(X_train_pred - X_train), axis=1)\n"
   ]
  },
  {
   "cell_type": "code",
   "execution_count": 14,
   "metadata": {},
   "outputs": [
    {
     "data": {
      "image/png": "[encoded data removed]",
      "text/plain": [
       "<Figure size 432x288 with 1 Axes>"
      ]
     },
     "metadata": {
      "needs_background": "light"
     },
     "output_type": "display_data"
    }
   ],
   "source": [
    "# visualize MAE loss on the train dataset\n",
    "# bins = divide the entire range in n numbers before plotting\n",
    "plt.hist(train_mae_loss, bins=50)\n",
    "plt.xlabel('Train MAE loss')\n",
    "plt.ylabel('Number of Samples')\n",
    "plt.show()"
   ]
  },
  {
   "cell_type": "code",
   "execution_count": 15,
   "metadata": {},
   "outputs": [
    {
     "name": "stdout",
     "output_type": "stream",
     "text": [
      "175/175 [==============================] - 18s 100ms/step\n",
      "Execution time is: (H:MM:SS.ms)\n",
      "0:00:17.624773\n"
     ]
    }
   ],
   "source": [
    "### check execution time of cell, variable for different hardware & software setups\n",
    "start_time = datetime.now()\n",
    "\n",
    "# make predictions on the test dataset\n",
    "X_test_pred = model.predict(X_test, verbose=1)\n",
    "\n",
    "end_time = datetime.now()\n",
    "exec_time = end_time-start_time\n",
    "print (\"Execution time is: (H:MM:SS.ms)\" )\n",
    "print(exec_time)"
   ]
  },
  {
   "cell_type": "code",
   "execution_count": 16,
   "metadata": {},
   "outputs": [],
   "source": [
    "# Calculate MAE loss on the test dataset, the difference between predicted value & actual value\n",
    "test_mae_loss = np.mean(np.abs(X_test_pred - X_test), axis=1)"
   ]
  },
  {
   "cell_type": "code",
   "execution_count": 17,
   "metadata": {
    "scrolled": true
   },
   "outputs": [
    {
     "data": {
      "image/png": "[encoded data removed]",
      "text/plain": [
       "<Figure size 432x288 with 1 Axes>"
      ]
     },
     "metadata": {
      "needs_background": "light"
     },
     "output_type": "display_data"
    }
   ],
   "source": [
    "# Visualize MAE loss on the test dataset\n",
    "# bins = divide the entire range in n numbers before plotting\n",
    "plt.hist(test_mae_loss, bins=50)\n",
    "plt.xlabel('Test MAE loss')\n",
    "plt.ylabel('Number of Samples')\n",
    "plt.show()"
   ]
  },
  {
   "cell_type": "code",
   "execution_count": 18,
   "metadata": {},
   "outputs": [],
   "source": [
    "# Set the threshold for anomaly detection\n",
    "# threshold = 0.5, set threshold for debugging\n",
    "# 3 * np.std to cover 99% of the data of the training dataset\n",
    "threshold = np.mean(train_mae_loss) + 3 * np.std(train_mae_loss)"
   ]
  },
  {
   "cell_type": "code",
   "execution_count": 19,
   "metadata": {},
   "outputs": [
    {
     "data": {
      "text/plain": [
       "0.516266141760315"
      ]
     },
     "execution_count": 19,
     "metadata": {},
     "output_type": "execute_result"
    }
   ],
   "source": [
    "# check threshold for debugging\n",
    "threshold"
   ]
  },
  {
   "cell_type": "code",
   "execution_count": 20,
   "metadata": {},
   "outputs": [],
   "source": [
    "# pandas dataframe to array conversion\n",
    "# convert raw_test_data.to_numpy() array to fit in the table\n",
    "sensor_data = raw_test_data.to_numpy()\n",
    "\n",
    "# Create anomaly dataframe\n",
    "anomaly_df = pd.DataFrame(columns=['Timesteps', 'Sensor_data', 'Test_loss', 'Threshold', 'Anomaly'])\n",
    "\n",
    "# Add data to the anomaly dataframe\n",
    "# output the range only, excluding the first timestep range (400, 6000) in this case\n",
    "anomaly_df['Timesteps'] = range(TIME_STEPS, len(sensor_data))\n",
    "# sensor data ecxluding the first timestep window data\n",
    "anomaly_df['Sensor_data'] = sensor_data[TIME_STEPS:]\n",
    "# the calculated loss for the corresponding test data\n",
    "anomaly_df['Test_loss'] = test_mae_loss\n",
    "\n",
    "# Add the threshold column to the anomaly dataframe\n",
    "anomaly_df['Threshold'] = threshold\n",
    "\n",
    "# Find the anomalous data points (binary output)\n",
    "anomaly_df['Anomaly'] = anomaly_df['Test_loss'] > anomaly_df['Threshold']"
   ]
  },
  {
   "cell_type": "code",
   "execution_count": 21,
   "metadata": {},
   "outputs": [
    {
     "data": {
      "text/html": [
       "<div>\n",
       "<style scoped>\n",
       "    .dataframe tbody tr th:only-of-type {\n",
       "        vertical-align: middle;\n",
       "    }\n",
       "\n",
       "    .dataframe tbody tr th {\n",
       "        vertical-align: top;\n",
       "    }\n",
       "\n",
       "    .dataframe thead th {\n",
       "        text-align: right;\n",
       "    }\n",
       "</style>\n",
       "<table border=\"1\" class=\"dataframe\">\n",
       "  <thead>\n",
       "    <tr style=\"text-align: right;\">\n",
       "      <th></th>\n",
       "      <th>Timesteps</th>\n",
       "      <th>Sensor_data</th>\n",
       "      <th>Test_loss</th>\n",
       "      <th>Threshold</th>\n",
       "      <th>Anomaly</th>\n",
       "    </tr>\n",
       "  </thead>\n",
       "  <tbody>\n",
       "    <tr>\n",
       "      <th>0</th>\n",
       "      <td>400</td>\n",
       "      <td>72.121361</td>\n",
       "      <td>0.060126</td>\n",
       "      <td>0.516266</td>\n",
       "      <td>False</td>\n",
       "    </tr>\n",
       "    <tr>\n",
       "      <th>1</th>\n",
       "      <td>401</td>\n",
       "      <td>72.121368</td>\n",
       "      <td>0.060769</td>\n",
       "      <td>0.516266</td>\n",
       "      <td>False</td>\n",
       "    </tr>\n",
       "    <tr>\n",
       "      <th>2</th>\n",
       "      <td>402</td>\n",
       "      <td>72.121399</td>\n",
       "      <td>0.061231</td>\n",
       "      <td>0.516266</td>\n",
       "      <td>False</td>\n",
       "    </tr>\n",
       "    <tr>\n",
       "      <th>3</th>\n",
       "      <td>403</td>\n",
       "      <td>72.121429</td>\n",
       "      <td>0.061488</td>\n",
       "      <td>0.516266</td>\n",
       "      <td>False</td>\n",
       "    </tr>\n",
       "    <tr>\n",
       "      <th>4</th>\n",
       "      <td>404</td>\n",
       "      <td>72.118942</td>\n",
       "      <td>0.061544</td>\n",
       "      <td>0.516266</td>\n",
       "      <td>False</td>\n",
       "    </tr>\n",
       "  </tbody>\n",
       "</table>\n",
       "</div>"
      ],
      "text/plain": [
       "   Timesteps  Sensor_data  Test_loss  Threshold  Anomaly\n",
       "0        400    72.121361   0.060126   0.516266    False\n",
       "1        401    72.121368   0.060769   0.516266    False\n",
       "2        402    72.121399   0.061231   0.516266    False\n",
       "3        403    72.121429   0.061488   0.516266    False\n",
       "4        404    72.118942   0.061544   0.516266    False"
      ]
     },
     "execution_count": 21,
     "metadata": {},
     "output_type": "execute_result"
    }
   ],
   "source": [
    "# verify the dataframe\n",
    "anomaly_df.head()"
   ]
  },
  {
   "cell_type": "code",
   "execution_count": 22,
   "metadata": {},
   "outputs": [
    {
     "data": {
      "image/png": "[encoded data removed]",
      "text/plain": [
       "<Figure size 432x288 with 2 Axes>"
      ]
     },
     "metadata": {
      "needs_background": "light"
     },
     "output_type": "display_data"
    }
   ],
   "source": [
    "# Plot the anomaly dataframe and test dataset\n",
    "fig, ax1 = plt.subplots()\n",
    "# twinx() for multiple Y axis plots\n",
    "ax2 = ax1.twinx()\n",
    "\n",
    "# set colors for the plot\n",
    "color1 = 'blue'\n",
    "color2 = 'red'\n",
    "\n",
    "# plot the data from anomaly_df, 3 different lines dor 3 different parameters\n",
    "line1 = ax1.plot(anomaly_df.index, anomaly_df['Sensor_data'], color=color1, label = 'Data')\n",
    "line2 = ax2.plot(anomaly_df.index, anomaly_df['Test_loss'], color=color2, label = 'Reconstruction error')\n",
    "line3 = ax2.plot(anomaly_df.index, anomaly_df['Threshold'], color=color2, linestyle = 'dotted', label = 'Threshold val')\n",
    "\n",
    "# set titles & labels\n",
    "plt.title('Anomaly Detection Results')\n",
    "ax1.set_xlabel('Datapoints')\n",
    "ax1.set_ylabel('Temperature')\n",
    "ax2.set_ylabel('Anomaly')\n",
    "\n",
    "# further tweaking the spines & tick_params (optional)\n",
    "ax2.spines['left'].set_color(color1)\n",
    "ax2.spines['right'].set_color(color2)\n",
    "ax1.tick_params(axis = 'y', labelcolor = color1)\n",
    "ax2.tick_params(axis = 'y', labelcolor = color2)\n",
    "\n",
    "# code to plot the legends, for loop for plotting lables in next lines else the lables will be superimposed\n",
    "lines = line1 + line2 + line3\n",
    "labels = [l.get_label() for l in lines]\n",
    "plt.legend(lines, labels, loc = \"upper left\")\n",
    "\n",
    "plt.show()\n"
   ]
  },
  {
   "cell_type": "code",
   "execution_count": 23,
   "metadata": {},
   "outputs": [
    {
     "data": {
      "text/html": [
       "<div>\n",
       "<style scoped>\n",
       "    .dataframe tbody tr th:only-of-type {\n",
       "        vertical-align: middle;\n",
       "    }\n",
       "\n",
       "    .dataframe tbody tr th {\n",
       "        vertical-align: top;\n",
       "    }\n",
       "\n",
       "    .dataframe thead th {\n",
       "        text-align: right;\n",
       "    }\n",
       "</style>\n",
       "<table border=\"1\" class=\"dataframe\">\n",
       "  <thead>\n",
       "    <tr style=\"text-align: right;\">\n",
       "      <th></th>\n",
       "      <th>Timesteps</th>\n",
       "      <th>Sensor_data</th>\n",
       "      <th>Test_loss</th>\n",
       "      <th>Threshold</th>\n",
       "      <th>Anomaly</th>\n",
       "    </tr>\n",
       "  </thead>\n",
       "  <tbody>\n",
       "    <tr>\n",
       "      <th>0</th>\n",
       "      <td>400</td>\n",
       "      <td>72.121361</td>\n",
       "      <td>0.060126</td>\n",
       "      <td>0.516266</td>\n",
       "      <td>False</td>\n",
       "    </tr>\n",
       "    <tr>\n",
       "      <th>1</th>\n",
       "      <td>401</td>\n",
       "      <td>72.121368</td>\n",
       "      <td>0.060769</td>\n",
       "      <td>0.516266</td>\n",
       "      <td>False</td>\n",
       "    </tr>\n",
       "    <tr>\n",
       "      <th>2</th>\n",
       "      <td>402</td>\n",
       "      <td>72.121399</td>\n",
       "      <td>0.061231</td>\n",
       "      <td>0.516266</td>\n",
       "      <td>False</td>\n",
       "    </tr>\n",
       "    <tr>\n",
       "      <th>3</th>\n",
       "      <td>403</td>\n",
       "      <td>72.121429</td>\n",
       "      <td>0.061488</td>\n",
       "      <td>0.516266</td>\n",
       "      <td>False</td>\n",
       "    </tr>\n",
       "    <tr>\n",
       "      <th>4</th>\n",
       "      <td>404</td>\n",
       "      <td>72.118942</td>\n",
       "      <td>0.061544</td>\n",
       "      <td>0.516266</td>\n",
       "      <td>False</td>\n",
       "    </tr>\n",
       "    <tr>\n",
       "      <th>...</th>\n",
       "      <td>...</td>\n",
       "      <td>...</td>\n",
       "      <td>...</td>\n",
       "      <td>...</td>\n",
       "      <td>...</td>\n",
       "    </tr>\n",
       "    <tr>\n",
       "      <th>3328</th>\n",
       "      <td>3728</td>\n",
       "      <td>120.128662</td>\n",
       "      <td>5.158370</td>\n",
       "      <td>0.516266</td>\n",
       "      <td>True</td>\n",
       "    </tr>\n",
       "    <tr>\n",
       "      <th>3329</th>\n",
       "      <td>3729</td>\n",
       "      <td>120.126694</td>\n",
       "      <td>5.159629</td>\n",
       "      <td>0.516266</td>\n",
       "      <td>True</td>\n",
       "    </tr>\n",
       "    <tr>\n",
       "      <th>3330</th>\n",
       "      <td>3730</td>\n",
       "      <td>120.138878</td>\n",
       "      <td>5.160882</td>\n",
       "      <td>0.516266</td>\n",
       "      <td>True</td>\n",
       "    </tr>\n",
       "    <tr>\n",
       "      <th>3331</th>\n",
       "      <td>3731</td>\n",
       "      <td>120.164886</td>\n",
       "      <td>5.162138</td>\n",
       "      <td>0.516266</td>\n",
       "      <td>True</td>\n",
       "    </tr>\n",
       "    <tr>\n",
       "      <th>3332</th>\n",
       "      <td>3732</td>\n",
       "      <td>120.169930</td>\n",
       "      <td>5.163402</td>\n",
       "      <td>0.516266</td>\n",
       "      <td>True</td>\n",
       "    </tr>\n",
       "  </tbody>\n",
       "</table>\n",
       "<p>3333 rows × 5 columns</p>\n",
       "</div>"
      ],
      "text/plain": [
       "      Timesteps  Sensor_data  Test_loss  Threshold  Anomaly\n",
       "0           400    72.121361   0.060126   0.516266    False\n",
       "1           401    72.121368   0.060769   0.516266    False\n",
       "2           402    72.121399   0.061231   0.516266    False\n",
       "3           403    72.121429   0.061488   0.516266    False\n",
       "4           404    72.118942   0.061544   0.516266    False\n",
       "...         ...          ...        ...        ...      ...\n",
       "3328       3728   120.128662   5.158370   0.516266     True\n",
       "3329       3729   120.126694   5.159629   0.516266     True\n",
       "3330       3730   120.138878   5.160882   0.516266     True\n",
       "3331       3731   120.164886   5.162138   0.516266     True\n",
       "3332       3732   120.169930   5.163402   0.516266     True\n",
       "\n",
       "[3333 rows x 5 columns]"
      ]
     },
     "execution_count": 23,
     "metadata": {},
     "output_type": "execute_result"
    }
   ],
   "source": [
    "# check and verify the anomaly region\n",
    "anomaly_df.head(3333)"
   ]
  },
  {
   "cell_type": "code",
   "execution_count": 24,
   "metadata": {},
   "outputs": [
    {
     "name": "stdout",
     "output_type": "stream",
     "text": [
      "Status of moving_window 2 is Normal\n",
      "Status of moving_window 3 is Normal\n",
      "Status of moving_window 4 is Normal\n",
      "Status of moving_window 5 is Normal\n",
      "Status of moving_window 6 is Normal\n",
      "Status of moving_window 7 is Normal\n",
      "Status of moving_window 8 is Anomaly\n",
      "Status of moving_window 9 is Anomaly\n",
      "Status of moving_window 10 is Anomaly\n",
      "Status of moving_window 11 is Anomaly\n",
      "Status of moving_window 12 is Anomaly\n",
      "Status of moving_window 13 is Anomaly\n",
      "Status of moving_window 14 is Normal\n",
      "Status of moving_window 15 is Normal\n",
      "Status of moving_window 16 is Normal\n",
      "Status of moving_window 17 is Normal\n",
      "Status of moving_window 18 is Normal\n",
      "Status of moving_window 19 is Normal\n",
      "Status of moving_window 20 is Normal\n",
      "Status of moving_window 21 is Normal\n",
      "Status of moving_window 22 is Normal\n",
      "Status of moving_window 23 is Normal\n",
      "Status of moving_window 24 is Normal\n",
      "Status of moving_window 25 is Anomaly\n",
      "Status of moving_window 26 is Anomaly\n",
      "Status of moving_window 27 is Anomaly\n",
      "Status of moving_window 28 is Anomaly\n",
      "Status of moving_window 29 is Fault\n",
      "Status of moving_window 30 is Fault\n",
      "Status of moving_window 31 is Fault\n",
      "Status of moving_window 32 is Fault\n",
      "Status of moving_window 33 is Fault\n",
      "Status of moving_window 34 is Fault\n",
      "Status of moving_window 35 is Fault\n",
      "Status of moving_window 36 is Fault\n",
      "Status of moving_window 37 is Fault\n",
      "Status of moving_window 38 is Fault\n",
      "Status of moving_window 39 is Fault\n",
      "Status of moving_window 40 is Fault\n",
      "Status of moving_window 41 is Fault\n",
      "Status of moving_window 42 is Fault\n",
      "Status of moving_window 43 is Fault\n",
      "Status of moving_window 44 is Fault\n",
      "Status of moving_window 45 is Fault\n",
      "Status of moving_window 46 is Fault\n",
      "Status of moving_window 47 is Anomaly\n",
      "Status of moving_window 48 is Anomaly\n",
      "Status of moving_window 49 is Anomaly\n",
      "Status of moving_window 50 is Normal\n",
      "Status of moving_window 51 is Normal\n",
      "Status of moving_window 52 is Normal\n",
      "Status of moving_window 53 is Normal\n",
      "Status of moving_window 54 is Normal\n",
      "Status of moving_window 55 is Normal\n",
      "Status of moving_window 56 is Normal\n"
     ]
    }
   ],
   "source": [
    "# loop through the test_mae_loss to find the status of the data\n",
    "\n",
    "# set the window size\n",
    "window_size = 100\n",
    "\n",
    "# set the anomaly threshold\n",
    "anomaly_threshold = 5 * threshold\n",
    "\n",
    "# initialize the moving window list\n",
    "moving_window = []\n",
    "\n",
    "# loop through the data in window_size intervals\n",
    "for i in range(0, len(test_mae_loss), window_size):\n",
    "    \n",
    "    # get the current window data\n",
    "    window_data = test_mae_loss[i:i+window_size]\n",
    "    \n",
    "    # calculate the mean of the current window\n",
    "    window_mean = np.mean(window_data)\n",
    "    \n",
    "    # add the current window mean to the moving window\n",
    "    moving_window.append(window_mean)\n",
    "    \n",
    "    # if the moving window contains more than 3 elements, remove the oldest element\n",
    "    if len(moving_window) < 3:\n",
    "        # Add the current window mean to the moving window\n",
    "        moving_window.append(window_mean)\n",
    "    \n",
    "    # if the moving window contains 3 elements, remove the oldest element\n",
    "    else:\n",
    "    \n",
    "        # check if the moving window's mean is less than the threshold\n",
    "        if np.mean(moving_window) < threshold:\n",
    "            status = \"Normal\"\n",
    "\n",
    "        # check if the moving window's mean is greater than the threshold but less than the anomaly threshold\n",
    "        elif threshold <= np.mean(moving_window) < anomaly_threshold:\n",
    "            status = \"Anomaly\"\n",
    "\n",
    "        # if the moving window's mean is greater than or equal to the anomaly threshold, mark as Fault\n",
    "        else:\n",
    "            status = \"Fault\"\n",
    "\n",
    "        # print the status of the current window\n",
    "        print(f\"Status of moving_window {i//window_size+1} is {status}\")\n",
    "\n",
    "        # drop the first entry from the moving window\n",
    "        moving_window.pop(0)"
   ]
  },
  {
   "cell_type": "code",
   "execution_count": 25,
   "metadata": {},
   "outputs": [],
   "source": [
    "# References\n",
    "# https://stackoverflow.com/questions/65907365/tensorflow-not-creating-xla-devices-tf-xla-enable-xla-devices-not-set\n",
    "# https://towardsdatascience.com/scale-standardize-or-normalize-with-scikit-learn-6ccc7d176a02\n",
    "# https://analyticsindiamag.com/why-data-scaling-is-important-in-machine-learning-how-to-effectively-do-it/\n",
    "# https://www.youtube.com/watch?v=_TZC88plGZs\n",
    "# https://stackoverflow.com/questions/44747343/keras-input-explanation-input-shape-units-batch-size-dim-etc/44748370#44748370\n",
    "# https://stackoverflow.com/questions/51914632/tensorflow-lstm-why-does-test-accuracy-become-low-but-not-training-one/51926223#51926223\n",
    "# https://www.geeksforgeeks.org/how-to-calculate-moving-averages-in-python/\n",
    "# \n",
    "# \n",
    "# \n",
    "# \n",
    "# "
   ]
  },
  {
   "cell_type": "code",
   "execution_count": null,
   "metadata": {},
   "outputs": [],
   "source": []
  }
 ],
 "metadata": {
  "kernelspec": {
   "display_name": "Python 3",
   "language": "python",
   "name": "python3"
  },
  "language_info": {
   "codemirror_mode": {
    "name": "ipython",
    "version": 3
   },
   "file_extension": ".py",
   "mimetype": "text/x-python",
   "name": "python",
   "nbconvert_exporter": "python",
   "pygments_lexer": "ipython3",
   "version": "3.7.6"
  }
 },
 "nbformat": 4,
 "nbformat_minor": 4
}
